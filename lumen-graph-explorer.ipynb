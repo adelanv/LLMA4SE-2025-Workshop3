{
 "cells": [
  {
   "cell_type": "markdown",
   "id": "908494f7-6a00-43a8-b17d-8061a45f349d",
   "metadata": {},
   "source": [
    "# Workshop: Multi-Agent LLMs and Knowledge Graphs for Monitoring and Sustaining Software Systems"
   ]
  },
  {
   "cell_type": "markdown",
   "id": "4d5f0815",
   "metadata": {},
   "source": [
    "## Create Environment and Install libraries"
   ]
  },
  {
   "cell_type": "code",
   "execution_count": 38,
   "id": "c595db8a",
   "metadata": {
    "vscode": {
     "languageId": "bat"
    }
   },
   "outputs": [],
   "source": [
    "# pip install python=3.10.18\n",
    "# pip install neo4j\n",
    "# pip install -U \"autogen-agentchat\" \"autogen-ext[openai]\"\n",
    "# pip install matplotlib\n",
    "# pip install networkx"
   ]
  },
  {
   "cell_type": "markdown",
   "id": "181f4883",
   "metadata": {},
   "source": [
    "## Docker Installation "
   ]
  },
  {
   "cell_type": "code",
   "execution_count": 37,
   "id": "c1e72721",
   "metadata": {
    "vscode": {
     "languageId": "bat"
    }
   },
   "outputs": [],
   "source": [
    "# in bash: \n",
    "# docker-compose up -d"
   ]
  },
  {
   "cell_type": "markdown",
   "id": "e6996e2e-c01c-4bc4-85e4-2ed67e135854",
   "metadata": {},
   "source": [
    "## Import libaries"
   ]
  },
  {
   "cell_type": "code",
   "execution_count": 39,
   "id": "fa1fd082",
   "metadata": {
    "vscode": {
     "languageId": "bat"
    }
   },
   "outputs": [],
   "source": [
    "import configparser\n",
    "import networkx as nx\n",
    "import matplotlib.pyplot as plt\n",
    "from datetime import datetime\n",
    "from neo4j import GraphDatabase\n",
    "from autogen_ext.models.openai import OpenAIChatCompletionClient\n",
    "from autogen_agentchat.agents import AssistantAgent\n",
    "from autogen_agentchat.ui import Console"
   ]
  },
  {
   "cell_type": "markdown",
   "id": "8ece1e9d",
   "metadata": {},
   "source": [
    "##  Prepare the model (API key and configuration)"
   ]
  },
  {
   "cell_type": "code",
   "execution_count": 3,
   "id": "40dd98e5",
   "metadata": {
    "vscode": {
     "languageId": "bat"
    }
   },
   "outputs": [],
   "source": [
    "config = configparser.ConfigParser(allow_no_value = True)\n",
    "config.read('openaiapi.ini')\n",
    "openai_api_key = config.get('openai', 'OPENAI_API_KEY')"
   ]
  },
  {
   "cell_type": "code",
   "execution_count": 28,
   "id": "c9ff4e11-079c-4817-9bf7-642769b0e4b6",
   "metadata": {},
   "outputs": [],
   "source": [
    "openai_model_client = OpenAIChatCompletionClient(\n",
    "    model=\"gpt-4o\",\n",
    "    api_key=openai_api_key,\n",
    "    max_tokens = None,\n",
    "    temperature = None,\n",
    "    seed = None,\n",
    "    top_p = None,\n",
    "    parallel_tool_calls=False  # Disable for Swarms\n",
    ")\n"
   ]
  },
  {
   "cell_type": "markdown",
   "id": "cb610756",
   "metadata": {},
   "source": [
    "## Setup Neo4J Database "
   ]
  },
  {
   "cell_type": "code",
   "execution_count": 10,
   "id": "669e260c",
   "metadata": {},
   "outputs": [],
   "source": [
    "driver = GraphDatabase.driver(\"neo4j://localhost:7687\", auth=(\"neo4j\", \"password\"))\n",
    "\n",
    "# First check for connectivity:\n",
    "driver.verify_connectivity()"
   ]
  },
  {
   "cell_type": "code",
   "execution_count": 25,
   "id": "cf49846e",
   "metadata": {},
   "outputs": [],
   "source": [
    "async def query_neo4j(query: str) -> str:\n",
    "    \"\"\"Run a Cypher query against Neo4j and return results. Returns String representation.\"\"\"\n",
    "    try:\n",
    "        with driver.session() as session:\n",
    "            result = session.run(query)\n",
    "            records = [record.data() for record in result]\n",
    "        return repr(records)  \n",
    "    except Exception as e:\n",
    "        return repr({\"error\": str(e)})"
   ]
  },
  {
   "cell_type": "code",
   "execution_count": 26,
   "id": "42ea9e61",
   "metadata": {},
   "outputs": [
    {
     "data": {
      "text/plain": [
       "\"[{'msg': 'Checking connectivity with Neo4j!'}]\""
      ]
     },
     "execution_count": 26,
     "metadata": {},
     "output_type": "execute_result"
    }
   ],
   "source": [
    "\n",
    "# Second check for connectivity (run actual query):\n",
    "await query_neo4j(\"RETURN 'Checking connectivity with Neo4j!' AS msg\")"
   ]
  },
  {
   "cell_type": "markdown",
   "id": "fb17d604",
   "metadata": {},
   "source": [
    "## Agent Setup"
   ]
  },
  {
   "cell_type": "code",
   "execution_count": 33,
   "id": "b4a9b831",
   "metadata": {},
   "outputs": [
    {
     "data": {
      "text/plain": [
       "datetime.datetime(2025, 8, 22, 8, 36, 35, 646181)"
      ]
     },
     "execution_count": 33,
     "metadata": {},
     "output_type": "execute_result"
    }
   ],
   "source": [
    "current_date = datetime.now()\n",
    "current_date"
   ]
  },
  {
   "cell_type": "code",
   "execution_count": 35,
   "id": "506938f5",
   "metadata": {},
   "outputs": [],
   "source": [
    "graph_agent = AssistantAgent(\n",
    "    name=\"graph_operator\",\n",
    "    model_client=openai_model_client,\n",
    "    tools=[query_neo4j],\n",
    "    system_message =\"\"\"Your name is graph_operator. You generate **Cypher queries** and execute them.\n",
    "                    You have access to a tool called query_neo4j that you can use to run Cypher queries and optionally retrieve results. \n",
    "                    Use the schema below: \\\n",
    "                    Node Types:\n",
    "                   (1) CodeChange \n",
    "                    - Properties: \n",
    "                        uid: str\n",
    "                        timestamp: date\n",
    "                        change_description: str\n",
    "                        change_location: List[str]   # files, functions, or classes affected\n",
    "                   (2) SourceCode \n",
    "                      - Properties:\n",
    "                        uid: str\n",
    "                        code_description: str\n",
    "                        lines_of_code: int\n",
    "                   (3) CommitMessage\n",
    "                     - Properties:\n",
    "                        uid: str\n",
    "                        message_text: str\n",
    "                        author: str\n",
    "                        commit_hash: str\n",
    "                    Relationship Types:\n",
    "                 (1) (n:CodeChange)-[:]->(m:CodeChange)         # Temporal sequence of changes\n",
    "                 (2) (n:SourceCode)-[:]->(m:CodeChange)         # Source code elements impacted by the change\n",
    "                 (3) (n:CommitMessage)-[:]->(m:CodeChange)      # Commit that introduced the change\n",
    "                    Rules:\n",
    "                - Only use this schema. Do not invent nodes or relationships.\n",
    "                - Only one Cypher statement per query is allowed.\"\"\",\n",
    ")"
   ]
  },
  {
   "cell_type": "code",
   "execution_count": 34,
   "id": "e42ee985",
   "metadata": {},
   "outputs": [],
   "source": [
    "task = f\"\"\"\n",
    "Date: {current_date}.\n",
    "Commit: a13f9c7 by Alice Smith\n",
    "Commit Message: \"Refactored statistics module to improve clarity and reduce duplication\"\n",
    "\n",
    "Changes:\n",
    "- Refactoring performed on functions `calculate_sum` and `summarize_report` in `statistics.py`\n",
    "- Moved helper function `format_output` from `utils/helpers.py` into `statistics.py` for better cohesion\n",
    "- Reduced lines of code in `summarize_report` from 120 to 80\n",
    "\n",
    "Context:\n",
    "- This refactor was done as a follow-up to commit `98df231` (previous bugfix in statistics module).\n",
    "- Refactor categorized as 'code cleanup' and 'modularity improvement'.\n",
    "\"\"\""
   ]
  },
  {
   "cell_type": "markdown",
   "id": "e859f063",
   "metadata": {},
   "source": [
    "## Start chat:"
   ]
  },
  {
   "cell_type": "code",
   "execution_count": 36,
   "id": "41460136",
   "metadata": {},
   "outputs": [
    {
     "name": "stdout",
     "output_type": "stream",
     "text": [
      "---------- TextMessage (user) ----------\n",
      "\n",
      "Date: 2025-08-22 08:36:35.646181.\n",
      "Commit: a13f9c7 by Alice Smith\n",
      "Commit Message: \"Refactored statistics module to improve clarity and reduce duplication\"\n",
      "\n",
      "Changes:\n",
      "- Refactoring performed on functions `calculate_sum` and `summarize_report` in `statistics.py`\n",
      "- Moved helper function `format_output` from `utils/helpers.py` into `statistics.py` for better cohesion\n",
      "- Reduced lines of code in `summarize_report` from 120 to 80\n",
      "\n",
      "Context:\n",
      "- This refactor was done as a follow-up to commit `98df231` (previous bugfix in statistics module).\n",
      "- Refactor categorized as 'code cleanup' and 'modularity improvement'.\n",
      "\n",
      "---------- ToolCallRequestEvent (graph_operator) ----------\n",
      "[FunctionCall(id='call_vCtrO5k2dTm5XE1SssCG3EaJ', arguments='{\"query\":\"CREATE (c:CodeChange {uid: \\'cc1\\', timestamp: date(\\'2025-08-22\\'), change_description: \\'Refactored statistics module to improve clarity and reduce duplication\\', change_location: [\\'statistics.py\\', \\'utils/helpers.py\\', \\'calculate_sum\\', \\'summarize_report\\', \\'format_output\\']})\"}', name='query_neo4j')]\n",
      "[Prompt tokens: 495, Completion tokens: 83]\n",
      "---------- ToolCallExecutionEvent (graph_operator) ----------\n",
      "[FunctionExecutionResult(content='[]', name='query_neo4j', call_id='call_vCtrO5k2dTm5XE1SssCG3EaJ', is_error=False)]\n",
      "---------- ToolCallSummaryMessage (graph_operator) ----------\n",
      "[]\n",
      "---------- Summary ----------\n",
      "Number of messages: 4\n",
      "Finish reason: None\n",
      "Total prompt tokens: 495\n",
      "Total completion tokens: 83\n",
      "Duration: 4.35 seconds\n"
     ]
    }
   ],
   "source": [
    "async def assistant_run_stream() -> None:\n",
    "    # Option 1: read each message from the stream (as shown in the previous example).\n",
    "    # async for message in agent.run_stream(task=\"Find information on AutoGen\"):\n",
    "    #     print(message)\n",
    "\n",
    "    # Option 2: use Console to print all messages as they appear.\n",
    "    await Console(\n",
    "        graph_agent.run_stream(task=task),\n",
    "        output_stats=True,  # Enable stats printing.\n",
    "    )\n",
    "\n",
    "\n",
    "# Use asyncio.run(assistant_run_stream()) when running in a script.\n",
    "await assistant_run_stream()"
   ]
  },
  {
   "cell_type": "markdown",
   "id": "40acc860",
   "metadata": {},
   "source": [
    "## Visualize Graph Content"
   ]
  },
  {
   "cell_type": "code",
   "execution_count": 42,
   "id": "a651988d",
   "metadata": {},
   "outputs": [],
   "source": [
    "def visualize_query(query):\n",
    "    with driver.session() as session:\n",
    "        result = session.run(query)\n",
    "        G = nx.DiGraph()\n",
    "        for record in result:\n",
    "            start = record[\"a\"]\n",
    "            end = record[\"b\"]\n",
    "            rel = record[\"r\"].type\n",
    "            G.add_edge(start[\"uid\"], end[\"uid\"], label=rel)\n",
    "\n",
    "    if len(G.nodes) == 0:\n",
    "        print(\"No results returned. Check your query or database contents.\")\n",
    "        return\n",
    "\n",
    "    plt.figure(figsize=(8,6))\n",
    "    pos = nx.spring_layout(G)\n",
    "    nx.draw(G, pos, with_labels=True, node_color=\"lightblue\", node_size=2000, font_size=10, arrows=True)\n",
    "    edge_labels = nx.get_edge_attributes(G, 'label')\n",
    "    nx.draw_networkx_edge_labels(G, pos, edge_labels=edge_labels)\n",
    "    plt.show()"
   ]
  },
  {
   "cell_type": "code",
   "execution_count": 45,
   "id": "bd06869a",
   "metadata": {},
   "outputs": [
    {
     "name": "stdout",
     "output_type": "stream",
     "text": [
      "No results returned. Check your query or database contents.\n"
     ]
    }
   ],
   "source": [
    "visualize_query(\"MATCH (a)-[r]->(b) RETURN a, r, b LIMIT 20\")"
   ]
  }
 ],
 "metadata": {
  "kernelspec": {
   "display_name": "workshop_env",
   "language": "python",
   "name": "python3"
  },
  "language_info": {
   "codemirror_mode": {
    "name": "ipython",
    "version": 3
   },
   "file_extension": ".py",
   "mimetype": "text/x-python",
   "name": "python",
   "nbconvert_exporter": "python",
   "pygments_lexer": "ipython3",
   "version": "3.10.18"
  }
 },
 "nbformat": 4,
 "nbformat_minor": 5
}
