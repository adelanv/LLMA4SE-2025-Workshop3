{
 "cells": [
  {
   "cell_type": "markdown",
   "id": "908494f7-6a00-43a8-b17d-8061a45f349d",
   "metadata": {},
   "source": [
    "# Workshop: Multi-Agent LLMs and Knowledge Graphs for Monitoring and Sustaining Software Systems"
   ]
  },
  {
   "cell_type": "markdown",
   "id": "4d5f0815",
   "metadata": {},
   "source": [
    "## Create Environment and Install libraries"
   ]
  },
  {
   "cell_type": "code",
   "execution_count": null,
   "id": "c595db8a",
   "metadata": {
    "vscode": {
     "languageId": "bat"
    }
   },
   "outputs": [],
   "source": [
    "# pip install python=3.10.18\n",
    "# pip install neo4j\n",
    "# pip install -U \"autogen-agentchat\" \"autogen-ext[openai]\" \"autogen-ext[ollama]\"\n",
    "# pip install matplotlib\n",
    "# pip install networkx\n",
    "# pip install pydriller"
   ]
  },
  {
   "cell_type": "markdown",
   "id": "181f4883",
   "metadata": {},
   "source": [
    "## Docker Installation "
   ]
  },
  {
   "cell_type": "code",
   "execution_count": 37,
   "id": "c1e72721",
   "metadata": {
    "vscode": {
     "languageId": "bat"
    }
   },
   "outputs": [],
   "source": [
    "# in bash: \n",
    "# docker-compose up -d"
   ]
  },
  {
   "cell_type": "markdown",
   "id": "e6996e2e-c01c-4bc4-85e4-2ed67e135854",
   "metadata": {},
   "source": [
    "## Import libaries"
   ]
  },
  {
   "cell_type": "code",
   "execution_count": 39,
   "id": "fa1fd082",
   "metadata": {
    "vscode": {
     "languageId": "bat"
    }
   },
   "outputs": [],
   "source": [
    "import configparser\n",
    "import networkx as nx\n",
    "import matplotlib.pyplot as plt\n",
    "from datetime import datetime\n",
    "from neo4j import GraphDatabase\n",
    "from autogen_ext.models.openai import OpenAIChatCompletionClient\n",
    "from autogen_agentchat.agents import AssistantAgent\n",
    "from autogen_agentchat.ui import Console"
   ]
  },
  {
   "cell_type": "markdown",
   "id": "8ece1e9d",
   "metadata": {},
   "source": [
    "##  Prepare the model (API key and configuration)"
   ]
  },
  {
   "cell_type": "code",
   "execution_count": 3,
   "id": "40dd98e5",
   "metadata": {
    "vscode": {
     "languageId": "bat"
    }
   },
   "outputs": [],
   "source": [
    "config = configparser.ConfigParser(allow_no_value = True)\n",
    "config.read('openaiapi.ini')\n",
    "openai_api_key = config.get('openai', 'OPENAI_API_KEY')"
   ]
  },
  {
   "cell_type": "code",
   "execution_count": 28,
   "id": "c9ff4e11-079c-4817-9bf7-642769b0e4b6",
   "metadata": {},
   "outputs": [],
   "source": [
    "openai_model_client = OpenAIChatCompletionClient(\n",
    "    model=\"gpt-4o\",\n",
    "    api_key=openai_api_key,\n",
    "    max_tokens = None,\n",
    "    temperature = None,\n",
    "    seed = None,\n",
    "    top_p = None,\n",
    "    parallel_tool_calls=False  # Disable for Swarms\n",
    ")\n"
   ]
  },
  {
   "cell_type": "markdown",
   "id": "cb610756",
   "metadata": {},
   "source": [
    "## Setup Neo4J Database "
   ]
  },
  {
   "cell_type": "code",
   "execution_count": 10,
   "id": "669e260c",
   "metadata": {},
   "outputs": [],
   "source": [
    "driver = GraphDatabase.driver(\"neo4j://localhost:7687\", auth=(\"neo4j\", \"password\"))\n",
    "\n",
    "# First check for connectivity:\n",
    "driver.verify_connectivity()"
   ]
  },
  {
   "cell_type": "code",
   "execution_count": 25,
   "id": "cf49846e",
   "metadata": {},
   "outputs": [],
   "source": [
    "async def query_neo4j(query: str) -> str:\n",
    "    \"\"\"Run a Cypher query against Neo4j and return results. Returns String representation.\"\"\"\n",
    "    try:\n",
    "        with driver.session() as session:\n",
    "            result = session.run(query)\n",
    "            records = [record.data() for record in result]\n",
    "        return repr(records)  \n",
    "    except Exception as e:\n",
    "        return repr({\"error\": str(e)})"
   ]
  },
  {
   "cell_type": "code",
   "execution_count": 26,
   "id": "42ea9e61",
   "metadata": {},
   "outputs": [
    {
     "data": {
      "text/plain": [
       "\"[{'msg': 'Checking connectivity with Neo4j!'}]\""
      ]
     },
     "execution_count": 26,
     "metadata": {},
     "output_type": "execute_result"
    }
   ],
   "source": [
    "\n",
    "# Second check for connectivity (run actual query):\n",
    "await query_neo4j(\"RETURN 'Checking connectivity with Neo4j!' AS msg\")"
   ]
  },
  {
   "cell_type": "markdown",
   "id": "fb17d604",
   "metadata": {},
   "source": [
    "## Agent Setup"
   ]
  },
  {
   "cell_type": "code",
   "execution_count": 33,
   "id": "b4a9b831",
   "metadata": {},
   "outputs": [
    {
     "data": {
      "text/plain": [
       "datetime.datetime(2025, 8, 22, 8, 36, 35, 646181)"
      ]
     },
     "execution_count": 33,
     "metadata": {},
     "output_type": "execute_result"
    }
   ],
   "source": [
    "current_date = datetime.now()\n",
    "current_date"
   ]
  },
  {
   "cell_type": "code",
   "execution_count": 35,
   "id": "506938f5",
   "metadata": {},
   "outputs": [],
   "source": [
    "graph_agent = AssistantAgent(\n",
    "    name=\"graph_operator\",\n",
    "    model_client=openai_model_client,\n",
    "    tools=[query_neo4j],\n",
    "    system_message =\"\"\"Your name is graph_operator. You generate **Cypher queries** and execute them.\n",
    "                    You have access to a tool called query_neo4j that you can use to run Cypher queries and optionally retrieve results. \n",
    "                    Use the schema below: \\\n",
    "                    Node Types:\n",
    "                   (1) CodeChange \n",
    "                    - Properties: \n",
    "                        uid: str\n",
    "                        timestamp: date\n",
    "                        change_description: str\n",
    "                        change_location: List[str]   # files, functions, or classes affected\n",
    "                   (2) SourceCode \n",
    "                      - Properties:\n",
    "                        uid: str\n",
    "                        code_description: str\n",
    "                        lines_of_code: int\n",
    "                   (3) CommitMessage\n",
    "                     - Properties:\n",
    "                        uid: str\n",
    "                        message_text: str\n",
    "                        author: str\n",
    "                        commit_hash: str\n",
    "                    Relationship Types:\n",
    "                 (1) (n:CodeChange)-[:]->(m:CodeChange)         # Temporal sequence of changes\n",
    "                 (2) (n:SourceCode)-[:]->(m:CodeChange)         # Source code elements impacted by the change\n",
    "                 (3) (n:CommitMessage)-[:]->(m:CodeChange)      # Commit that introduced the change\n",
    "                    Rules:\n",
    "                - Only use this schema. Do not invent nodes or relationships.\n",
    "                - Only one Cypher statement per query is allowed.\"\"\",\n",
    ")"
   ]
  },
  {
   "cell_type": "code",
   "execution_count": 34,
   "id": "e42ee985",
   "metadata": {},
   "outputs": [],
   "source": [
    "task = f\"\"\"\n",
    "Date: {current_date}.\n",
    "Commit: a13f9c7 by Alice Smith\n",
    "Commit Message: \"Refactored statistics module to improve clarity and reduce duplication\"\n",
    "\n",
    "Changes:\n",
    "- Refactoring performed on functions `calculate_sum` and `summarize_report` in `statistics.py`\n",
    "- Moved helper function `format_output` from `utils/helpers.py` into `statistics.py` for better cohesion\n",
    "- Reduced lines of code in `summarize_report` from 120 to 80\n",
    "\n",
    "Context:\n",
    "- This refactor was done as a follow-up to commit `98df231` (previous bugfix in statistics module).\n",
    "- Refactor categorized as 'code cleanup' and 'modularity improvement'.\n",
    "\"\"\""
   ]
  },
  {
   "cell_type": "markdown",
   "id": "e859f063",
   "metadata": {},
   "source": [
    "## Start chat:"
   ]
  },
  {
   "cell_type": "code",
   "execution_count": 36,
   "id": "41460136",
   "metadata": {},
   "outputs": [
    {
     "name": "stdout",
     "output_type": "stream",
     "text": [
      "---------- TextMessage (user) ----------\n",
      "\n",
      "Date: 2025-08-22 08:36:35.646181.\n",
      "Commit: a13f9c7 by Alice Smith\n",
      "Commit Message: \"Refactored statistics module to improve clarity and reduce duplication\"\n",
      "\n",
      "Changes:\n",
      "- Refactoring performed on functions `calculate_sum` and `summarize_report` in `statistics.py`\n",
      "- Moved helper function `format_output` from `utils/helpers.py` into `statistics.py` for better cohesion\n",
      "- Reduced lines of code in `summarize_report` from 120 to 80\n",
      "\n",
      "Context:\n",
      "- This refactor was done as a follow-up to commit `98df231` (previous bugfix in statistics module).\n",
      "- Refactor categorized as 'code cleanup' and 'modularity improvement'.\n",
      "\n",
      "---------- ToolCallRequestEvent (graph_operator) ----------\n",
      "[FunctionCall(id='call_vCtrO5k2dTm5XE1SssCG3EaJ', arguments='{\"query\":\"CREATE (c:CodeChange {uid: \\'cc1\\', timestamp: date(\\'2025-08-22\\'), change_description: \\'Refactored statistics module to improve clarity and reduce duplication\\', change_location: [\\'statistics.py\\', \\'utils/helpers.py\\', \\'calculate_sum\\', \\'summarize_report\\', \\'format_output\\']})\"}', name='query_neo4j')]\n",
      "[Prompt tokens: 495, Completion tokens: 83]\n",
      "---------- ToolCallExecutionEvent (graph_operator) ----------\n",
      "[FunctionExecutionResult(content='[]', name='query_neo4j', call_id='call_vCtrO5k2dTm5XE1SssCG3EaJ', is_error=False)]\n",
      "---------- ToolCallSummaryMessage (graph_operator) ----------\n",
      "[]\n",
      "---------- Summary ----------\n",
      "Number of messages: 4\n",
      "Finish reason: None\n",
      "Total prompt tokens: 495\n",
      "Total completion tokens: 83\n",
      "Duration: 4.35 seconds\n"
     ]
    }
   ],
   "source": [
    "async def assistant_run_stream() -> None:\n",
    "    # Option 1: read each message from the stream (as shown in the previous example).\n",
    "    # async for message in agent.run_stream(task=\"Find information on AutoGen\"):\n",
    "    #     print(message)\n",
    "\n",
    "    # Option 2: use Console to print all messages as they appear.\n",
    "    await Console(\n",
    "        graph_agent.run_stream(task=task),\n",
    "        output_stats=True,  # Enable stats printing.\n",
    "    )\n",
    "\n",
    "\n",
    "# Use asyncio.run(assistant_run_stream()) when running in a script.\n",
    "await assistant_run_stream()"
   ]
  },
  {
   "cell_type": "markdown",
   "id": "40acc860",
   "metadata": {},
   "source": [
    "## Visualize Graph Content"
   ]
  },
  {
   "cell_type": "code",
   "execution_count": 42,
   "id": "a651988d",
   "metadata": {},
   "outputs": [],
   "source": [
    "def visualize_query(query):\n",
    "    with driver.session() as session:\n",
    "        result = session.run(query)\n",
    "        G = nx.DiGraph()\n",
    "        for record in result:\n",
    "            start = record[\"a\"]\n",
    "            end = record[\"b\"]\n",
    "            rel = record[\"r\"].type\n",
    "            G.add_edge(start[\"uid\"], end[\"uid\"], label=rel)\n",
    "\n",
    "    if len(G.nodes) == 0:\n",
    "        print(\"No results returned. Check your query or database contents.\")\n",
    "        return\n",
    "\n",
    "    plt.figure(figsize=(8,6))\n",
    "    pos = nx.spring_layout(G)\n",
    "    nx.draw(G, pos, with_labels=True, node_color=\"lightblue\", node_size=2000, font_size=10, arrows=True)\n",
    "    edge_labels = nx.get_edge_attributes(G, 'label')\n",
    "    nx.draw_networkx_edge_labels(G, pos, edge_labels=edge_labels)\n",
    "    plt.show()"
   ]
  },
  {
   "cell_type": "code",
   "execution_count": 45,
   "id": "bd06869a",
   "metadata": {},
   "outputs": [
    {
     "name": "stdout",
     "output_type": "stream",
     "text": [
      "No results returned. Check your query or database contents.\n"
     ]
    }
   ],
   "source": [
    "visualize_query(\"MATCH (a)-[r]->(b) RETURN a, r, b LIMIT 20\")"
   ]
  },
  {
   "cell_type": "markdown",
   "id": "cead9568",
   "metadata": {},
   "source": []
  },
  {
   "cell_type": "code",
   "execution_count": null,
   "id": "f4f7d4ca",
   "metadata": {},
   "outputs": [],
   "source": [
    "from autogen_ext.models.openai import OpenAIChatCompletionClient\n",
    "from autogen_core.models import UserMessage\n",
    "from autogen_ext.models.ollama import OllamaChatCompletionClient\n",
    "from pydantic import BaseModel\n",
    "\n",
    "\n",
    "class StructuredOutput(BaseModel):\n",
    "    technical_debt_type: str\n",
    "    description: str\n",
    "    location: str\n",
    "\n",
    "class StructuredSuggestOutput(BaseModel):\n",
    "    suggested_fix: str \n",
    "\n",
    "class StructuredRefactorOutput(BaseModel):\n",
    "    description_of_fix: str\n",
    "    refactored_code: str \n",
    "\n",
    "class StructuredTestOutput(BaseModel):\n",
    "    evaluation: str\n",
    "    accepted: str\n",
    "\n",
    "\n",
    "ollama_model_client = OllamaChatCompletionClient(\n",
    "    model=\"qwen3:0.6b\",\n",
    "    response_format=StructuredOutput\n",
    "\n",
    ")\n",
    "\n",
    "ollama_model_client_suggest = OllamaChatCompletionClient(\n",
    "    model=\"qwen3:0.6b\",\n",
    "    response_format=StructuredSuggestOutput\n",
    ")\n",
    "\n",
    "ollama_model_client_refactor = OllamaChatCompletionClient(\n",
    "    model=\"qwen3:0.6b\",\n",
    "    response_format=StructuredRefactorOutput\n",
    "    \n",
    ")\n",
    "\n",
    "ollama_model_client_test = OllamaChatCompletionClient(\n",
    "    model=\"qwen3:0.6b\",\n",
    "    response_format=StructuredRefactorOutput\n",
    "    \n",
    ")\n",
    "\n"
   ]
  },
  {
   "cell_type": "markdown",
   "id": "5cc0ff31",
   "metadata": {},
   "source": [
    "Creating Agents"
   ]
  },
  {
   "cell_type": "code",
   "execution_count": null,
   "id": "e39f4374",
   "metadata": {},
   "outputs": [],
   "source": [
    "## Create Agents\n",
    "\n",
    "debt_agent = AssistantAgent(\n",
    "    name=\"Technical_debt_identifier\",\n",
    "    model_client=ollama_model_client,\n",
    "    system_message=\"Identify technical and architectural debt in provided code.\",\n",
    ")\n",
    "\n",
    "suggestion_agent = AssistantAgent(\n",
    "    name=\"Technical_debt_refactoring_suggestor\",\n",
    "    model_client=ollama_model_client_suggest,\n",
    "    system_message=\"Suggest refactoring strategies for given technical debt items.\",\n",
    ")\n",
    "\n",
    "refactoring_agent = AssistantAgent(\n",
    "    name=\"Technical_debt_refactoring_agent\",\n",
    "    model_client=ollama_model_client_refactor,\n",
    "    system_message=\"Refactor given code based on provided suggestions.\",\n",
    ")\n",
    "\n",
    "test_agent = AssistantAgent(\n",
    "    name=\"Test_agent\",\n",
    "    model_client=ollama_model_client_test,\n",
    "    system_message=\"Evaluate the given code. Provide feedback on whether the refactoring was successful or if further changes are needed.\"\n",
    ")\n"
   ]
  },
  {
   "cell_type": "code",
   "execution_count": null,
   "id": "94fa565b",
   "metadata": {},
   "outputs": [],
   "source": [
    "##Code for validating JSON structure in output from \n",
    "\n",
    "def validate_json_structure(data: dict) -> None:\n",
    "    \"\"\"\n",
    "    Validate the structure of the JSON data.\n",
    "    \n",
    "    Args:\n",
    "        data (dict): The JSON data to validate\n",
    "        \n",
    "    Raises:\n",
    "        JSONValidationError: If the JSON structure is invalid\n",
    "    \"\"\"\n",
    "    if not isinstance(data, dict):\n",
    "        raise Exception(\"Root element must be a dictionary\")\n",
    "        \n",
    "    for commit_hash, entries in data.items():\n",
    "        if not isinstance(entries, list):\n",
    "            raise Exception(f\"Entries for commit {commit_hash} must be a list\")\n",
    "            \n",
    "        for entry in entries:\n",
    "            if not isinstance(entry, dict):\n",
    "                raise Exception(f\"Each entry in commit {commit_hash} must be a dictionary\")\n",
    "\n",
    "            if 'technicalDebts' in entry and not isinstance(entry['technicalDebts'], list):\n",
    "                raise Exception(f\"technicalDebts in commit {commit_hash} must be a list\")"
   ]
  },
  {
   "cell_type": "code",
   "execution_count": null,
   "id": "3f8bbed6",
   "metadata": {},
   "outputs": [],
   "source": [
    "from pydriller import Repository\n",
    "def analyze_commits(repo_url, begin_commit, end_commit, debts, debts_file):\n",
    "    \"\"\"\n",
    "    The function will iterate through the commits and fetch the changed content from the previous commit.\n",
    "\n",
    "    \"\"\"\n",
    "    commit_count = 0\n",
    "    for commit in Repository(repo_url, from_commit=begin_commit, to_commit=end_commit).traverse_commits():\n",
    "        print(\"Analyzing commit: %s\", commit.hash)\n",
    "        print(\"In the repo: %s\", repo_url)\n",
    "        commit_count += 1\n",
    "\n",
    "        analyze_modifications(commit, debts, debts_file, repo_url)"
   ]
  },
  {
   "cell_type": "code",
   "execution_count": null,
   "id": "4f64008f",
   "metadata": {},
   "outputs": [],
   "source": [
    "def analyze_modifications(commit, debts, debts_file, repo_url):\n",
    "    \"\"\"\n",
    "    The function will go thorugh each commit in the repo and analyze.\n",
    "\n",
    "    \"\"\"\n",
    "    for modification in commit.modified_files:\n",
    "        if not modification.source_code or not is_source_code(modification.new_path):\n",
    "            continue\n",
    "\n",
    "        print(\"Analyzing file: %s\", modification.new_path)\n",
    "        enumerated_content = enumerate_file(modification.source_code)\n",
    "\n",
    "        #Pass to starting point of agent interaction\n",
    "\n"
   ]
  },
  {
   "cell_type": "markdown",
   "id": "248cbac5",
   "metadata": {},
   "source": [
    "Load Testcode"
   ]
  },
  {
   "cell_type": "code",
   "execution_count": null,
   "id": "6e3de033",
   "metadata": {},
   "outputs": [],
   "source": [
    "code_folder = \"codebase\"\n",
    "os.makedirs(code_folder, exist_ok=True)\n",
    "\n",
    "sample_file_path = os.path.join(code_folder, \"example.py\")\n",
    "with open(sample_file_path, \"w\") as f:\n",
    "    f.write(\"\"\"\n",
    "def calculate_total(items):\n",
    "    total = 0\n",
    "    for item in items:\n",
    "        total += item['price'] * item['quantity']\n",
    "    return total\n",
    "\n",
    "# TODO: Add error handling for missing keys\n",
    "\"\"\")\n",
    "\n",
    "with open(sample_file_path, \"r\") as f:\n",
    "    code_content = f.read()\n",
    "\n",
    "print(code_content)"
   ]
  },
  {
   "cell_type": "markdown",
   "id": "3a5a452c",
   "metadata": {},
   "source": [
    "Manually go through each step"
   ]
  },
  {
   "cell_type": "code",
   "execution_count": null,
   "id": "3a00dda9",
   "metadata": {},
   "outputs": [],
   "source": [
    "\n",
    "user_proxy = UserProxyAgent(name=\"User\")\n",
    "\n",
    "debt_response = user_proxy.initiate_chat(\n",
    "    recipient=agent1,\n",
    "    message=f\"Analyze the following code and identify technical debt:\\n\\n{code_content}\"\n",
    ")\n",
    "print(debt_response)\n"
   ]
  },
  {
   "cell_type": "code",
   "execution_count": null,
   "id": "9856a024",
   "metadata": {},
   "outputs": [],
   "source": [
    "response = await ollama_model_client.create([UserMessage(content=f\"Analyze the following code and identify technical debt:\\n\\n{code_content}\", source=\"user\")])\n",
    "print(response)\n",
    "technical_debt_item = response\n",
    "await ollama_model_client.close()"
   ]
  },
  {
   "cell_type": "code",
   "execution_count": null,
   "id": "9a5e2a70",
   "metadata": {},
   "outputs": [],
   "source": [
    "response = await ollama_model_client_suggest.create([UserMessage(content=f\"Suggest refactoring for this code,:\\n\\n{code_content} to fix this technical debt \\n\\n{technical_debt_item}. Describe how a user should perform the refactoring.\", source=\"user\")])\n",
    "print(response)\n",
    "suggested_fix = response\n",
    "await ollama_model_client.close()"
   ]
  },
  {
   "cell_type": "code",
   "execution_count": null,
   "id": "1c0270b8",
   "metadata": {},
   "outputs": [],
   "source": [
    "response = await ollama_model_client_refactor.create([UserMessage(content=f\"Refactor this code,:\\n\\n{code_content} to fix this technical debt item \\n\\n{technical_debt_item} following this suggestion  \\n\\n{suggested_fix}. Provide both the description and the full code.\", source=\"user\")])\n",
    "print(response)\n",
    "refactored_code = response\n",
    "await ollama_model_client.close()"
   ]
  },
  {
   "cell_type": "markdown",
   "id": "8a74a4ca",
   "metadata": {},
   "source": [
    "Now with agents"
   ]
  },
  {
   "cell_type": "code",
   "execution_count": null,
   "id": "20260076",
   "metadata": {},
   "outputs": [],
   "source": [
    "result = await debt_agent.run(task=f\"Analyze the following code and identify technical debt:\\n\\n{code_content}\")\n",
    "print(result)\n",
    "identified_debt = result"
   ]
  },
  {
   "cell_type": "code",
   "execution_count": null,
   "id": "89ea71a6",
   "metadata": {},
   "outputs": [],
   "source": [
    "result = await suggestion_agent.run(task=f\"Suggest refactoring for this code,:\\n\\n{code_content} to fix this technical debt \\n\\n{identified_debt}. Describe how a user should perform the refactoring.\")\n",
    "print(result)\n",
    "fix = result"
   ]
  },
  {
   "cell_type": "code",
   "execution_count": null,
   "id": "95988fd4",
   "metadata": {},
   "outputs": [],
   "source": [
    "result = await refactoring_agent.run(task=f\"Refactor this code,:\\n\\n{code_content} to fix this technical debt item \\n\\n{technical_debt_item} following this suggestion  \\n\\n{fix}. Provide both the description and the full code.\")\n",
    "print(result)"
   ]
  },
  {
   "cell_type": "markdown",
   "id": "3f732d4a",
   "metadata": {},
   "source": [
    "Now we can create a selector group chat, to allow for more complex interactions between agents.\n",
    "\n",
    "Here, a selector agent will be created to allow for the code to be analysed until it has passed a test. The selector will make a choice depending on the output of th test agent, and will either pass the refactored code further or make the refactoring agent attempt another refactoring with further information from the test agent."
   ]
  }
 ],
 "metadata": {
  "kernelspec": {
   "display_name": "workshop_env",
   "language": "python",
   "name": "python3"
  },
  "language_info": {
   "codemirror_mode": {
    "name": "ipython",
    "version": 3
   },
   "file_extension": ".py",
   "mimetype": "text/x-python",
   "name": "python",
   "nbconvert_exporter": "python",
   "pygments_lexer": "ipython3",
   "version": "3.10.18"
  }
 },
 "nbformat": 4,
 "nbformat_minor": 5
}
