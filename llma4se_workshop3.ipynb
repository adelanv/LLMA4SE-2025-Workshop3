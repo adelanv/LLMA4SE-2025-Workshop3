{
  "cells": [
    {
      "cell_type": "markdown",
      "id": "908494f7-6a00-43a8-b17d-8061a45f349d",
      "metadata": {
        "id": "908494f7-6a00-43a8-b17d-8061a45f349d"
      },
      "source": [
        "# **Workshop 3**:  Multi-Agent LLMs and Knowledge Graphs for Monitoring and Sustaining Software Systems\n",
        "\n",
        "\n"
      ]
    },
    {
      "cell_type": "markdown",
      "id": "TUAhAcOrNl51",
      "metadata": {
        "id": "TUAhAcOrNl51"
      },
      "source": [
        "Date: 03 September 2025"
      ]
    },
    {
      "cell_type": "markdown",
      "id": "ZP8s4IFTbhed",
      "metadata": {
        "id": "ZP8s4IFTbhed"
      },
      "source": [
        "## Introduction\n",
        "\n",
        "Welcome to the **Multi-Agent LLMs and Knowledge Graphs for Monitoring and Sustaining Software Systems** workshop! 😺💻\n",
        "\n",
        "In this workshop, we will explore innovative approaches to identifying, managing, and monitoring technical debt in software systems. Our focus will be threefold:\n",
        "\n",
        "- **Multi-Agent Systems** with **Generative AI**:\n",
        "We will demonstrate how specialized AI agents can collaboratively generate code, detect, refactor, and continuously monitor technical debt, enabling more resilient and maintainable software.\n",
        "\n",
        "- **Knowledge Graphs** for **Increased Observability and Monitoring**:\n",
        "We introduce the use of knowledge graphs to track code evolution, and provide a foundation for enhanced monitoring and future agentic decision support.\n",
        "\n",
        "- **Agentic Design Patterns** for Collaboration and Optimization:\n",
        "We discuss and apply agentic design patterns to obtain better agent specialization, coordination, and effectiveness in agentic systems.\n",
        "\n",
        "### Objectives\n",
        "Through the hands-on session, participants will gain practical insights into combining Generative AI, Knowledge Graphs, and applying Agentic Design Patterns to establish intelligent collaborative ecosystems for identifying and addressing technical debt in modern software ecosystems."
      ]
    },
    {
      "cell_type": "markdown",
      "id": "YtA3wkhTMMgi",
      "metadata": {
        "id": "YtA3wkhTMMgi"
      },
      "source": [
        "## Part I: Environment Setup (~30 min)\n",
        "The first step is preparing our environment so everything is installed and made available for the hands-on exercises.\n",
        "\n",
        "\n",
        "### Plan:\n",
        "1. **Setup Environment**: Show how to run experiments on both cloud and local machine.\n",
        "2. **Install Packages and Import Dependencies**: Ensure necessary and missing packages and libraries are installed and imported.\n",
        "3. **Verify Setup**: Check previous installations and do test run.\n",
        "\n",
        "### How to run?\n",
        "We present two options to run the experiments below, using cloud resources and database instances or running everything locally using Docker containers and Ollama configuration. For simplicity, this workshop walkthorough will use Alternative 1.\n",
        "\n",
        "### Alternative 1: Run on cloud - **Followed in this workshop!**\n",
        "\n",
        "### Alternative 2: Run on local machine\n",
        "\n",
        "1) Save the workshop directory content locally on your machine or clone the GitHub repository:\n",
        "\n",
        "```\n",
        "git clone https://github.com/adelanv/LLMA4SE-2025-Workshop3.git\n",
        "```\n",
        "\n",
        "2) Inside the directory create a *openaiapi.ini* file, add the following lines, and replace with your OpenAI API key:\n",
        "\n",
        "```\n",
        "[openai]\n",
        "OPENAI_API_KEY = sk-xxxx-xxxx ...\n",
        "```\n",
        "Inside the notebook, you may add the following code to access your OpenAI API key:\n",
        "\n",
        "```\n",
        "import configparser\n",
        "\n",
        "config = configparser.ConfigParser(allow_no_value = True)\n",
        "config.read('openaiapi.ini')\n",
        "openai_api_key = config.get('openai', 'OPENAI_API_KEY')\n",
        "```\n",
        "\n",
        "3) Install Docker Desktop on your computer, following the link: https://www.docker.com/%20products/docker-desktop/ then run Docker Desktop.\n",
        "\n",
        "4) Open a terminal, navigate to the repository directory containing the *docker-compose.yml* file and run the following command:\n",
        "\n",
        "```\n",
        "docker-compose up -d\n",
        "```\n",
        "\n",
        "5) Run the code blocks in a Jupyter Notebook-friendly editor.\n"
      ]
    },
    {
      "cell_type": "markdown",
      "id": "4d5f0815",
      "metadata": {
        "id": "4d5f0815"
      },
      "source": [
        "###  Install libraries & packages\n",
        "\n",
        "Note for local run: Requires Environment with Python version > 3.10.x preinstalled."
      ]
    },
    {
      "cell_type": "code",
      "execution_count": 5,
      "id": "c595db8a",
      "metadata": {
        "colab": {
          "base_uri": "https://localhost:8080/"
        },
        "id": "c595db8a",
        "outputId": "1580ebb7-8a3f-42c4-86d1-b937e9f687ac",
        "vscode": {
          "languageId": "bat"
        }
      },
      "outputs": [
        {
          "name": "stdout",
          "output_type": "stream",
          "text": [
            "Requirement already satisfied: neo4j in c:\\users\\adela-n\\anaconda3\\envs\\workshop_env\\lib\\site-packages (5.28.2)\n",
            "Requirement already satisfied: pytz in c:\\users\\adela-n\\anaconda3\\envs\\workshop_env\\lib\\site-packages (from neo4j) (2025.2)\n",
            "Requirement already satisfied: autogen-agentchat in c:\\users\\adela-n\\anaconda3\\envs\\workshop_env\\lib\\site-packages (0.7.4)\n",
            "Requirement already satisfied: autogen-ext[openai] in c:\\users\\adela-n\\anaconda3\\envs\\workshop_env\\lib\\site-packages (0.7.4)\n",
            "Requirement already satisfied: autogen-core==0.7.4 in c:\\users\\adela-n\\anaconda3\\envs\\workshop_env\\lib\\site-packages (from autogen-agentchat) (0.7.4)\n",
            "Requirement already satisfied: jsonref~=1.1.0 in c:\\users\\adela-n\\anaconda3\\envs\\workshop_env\\lib\\site-packages (from autogen-core==0.7.4->autogen-agentchat) (1.1.0)\n",
            "Requirement already satisfied: opentelemetry-api>=1.34.1 in c:\\users\\adela-n\\anaconda3\\envs\\workshop_env\\lib\\site-packages (from autogen-core==0.7.4->autogen-agentchat) (1.36.0)\n",
            "Requirement already satisfied: pillow>=11.0.0 in c:\\users\\adela-n\\anaconda3\\envs\\workshop_env\\lib\\site-packages (from autogen-core==0.7.4->autogen-agentchat) (11.3.0)\n",
            "Requirement already satisfied: protobuf~=5.29.3 in c:\\users\\adela-n\\anaconda3\\envs\\workshop_env\\lib\\site-packages (from autogen-core==0.7.4->autogen-agentchat) (5.29.5)\n",
            "Requirement already satisfied: pydantic<3.0.0,>=2.10.0 in c:\\users\\adela-n\\anaconda3\\envs\\workshop_env\\lib\\site-packages (from autogen-core==0.7.4->autogen-agentchat) (2.11.7)\n",
            "Requirement already satisfied: typing-extensions>=4.0.0 in c:\\users\\adela-n\\anaconda3\\envs\\workshop_env\\lib\\site-packages (from autogen-core==0.7.4->autogen-agentchat) (4.14.1)\n",
            "Requirement already satisfied: annotated-types>=0.6.0 in c:\\users\\adela-n\\anaconda3\\envs\\workshop_env\\lib\\site-packages (from pydantic<3.0.0,>=2.10.0->autogen-core==0.7.4->autogen-agentchat) (0.7.0)\n",
            "Requirement already satisfied: pydantic-core==2.33.2 in c:\\users\\adela-n\\anaconda3\\envs\\workshop_env\\lib\\site-packages (from pydantic<3.0.0,>=2.10.0->autogen-core==0.7.4->autogen-agentchat) (2.33.2)\n",
            "Requirement already satisfied: typing-inspection>=0.4.0 in c:\\users\\adela-n\\anaconda3\\envs\\workshop_env\\lib\\site-packages (from pydantic<3.0.0,>=2.10.0->autogen-core==0.7.4->autogen-agentchat) (0.4.1)\n",
            "Requirement already satisfied: aiofiles in c:\\users\\adela-n\\anaconda3\\envs\\workshop_env\\lib\\site-packages (from autogen-ext[openai]) (24.1.0)\n",
            "Requirement already satisfied: openai>=1.93 in c:\\users\\adela-n\\anaconda3\\envs\\workshop_env\\lib\\site-packages (from autogen-ext[openai]) (1.101.0)\n",
            "Requirement already satisfied: tiktoken>=0.8.0 in c:\\users\\adela-n\\anaconda3\\envs\\workshop_env\\lib\\site-packages (from autogen-ext[openai]) (0.11.0)\n",
            "Requirement already satisfied: ollama>=0.4.7 in c:\\users\\adela-n\\anaconda3\\envs\\workshop_env\\lib\\site-packages (from autogen-ext[ollama]) (0.5.3)\n",
            "Requirement already satisfied: chromadb>=1.0.0 in c:\\users\\adela-n\\anaconda3\\envs\\workshop_env\\lib\\site-packages (from autogen-ext[chromadb]) (1.0.20)\n",
            "Requirement already satisfied: build>=1.0.3 in c:\\users\\adela-n\\anaconda3\\envs\\workshop_env\\lib\\site-packages (from chromadb>=1.0.0->autogen-ext[chromadb]) (1.3.0)\n",
            "Requirement already satisfied: pybase64>=1.4.1 in c:\\users\\adela-n\\anaconda3\\envs\\workshop_env\\lib\\site-packages (from chromadb>=1.0.0->autogen-ext[chromadb]) (1.4.2)\n",
            "Requirement already satisfied: uvicorn>=0.18.3 in c:\\users\\adela-n\\anaconda3\\envs\\workshop_env\\lib\\site-packages (from uvicorn[standard]>=0.18.3->chromadb>=1.0.0->autogen-ext[chromadb]) (0.35.0)\n",
            "Requirement already satisfied: numpy>=1.22.5 in c:\\users\\adela-n\\anaconda3\\envs\\workshop_env\\lib\\site-packages (from chromadb>=1.0.0->autogen-ext[chromadb]) (2.2.6)\n",
            "Requirement already satisfied: posthog<6.0.0,>=2.4.0 in c:\\users\\adela-n\\anaconda3\\envs\\workshop_env\\lib\\site-packages (from chromadb>=1.0.0->autogen-ext[chromadb]) (5.4.0)\n",
            "Requirement already satisfied: onnxruntime>=1.14.1 in c:\\users\\adela-n\\anaconda3\\envs\\workshop_env\\lib\\site-packages (from chromadb>=1.0.0->autogen-ext[chromadb]) (1.22.1)\n",
            "Requirement already satisfied: opentelemetry-exporter-otlp-proto-grpc>=1.2.0 in c:\\users\\adela-n\\anaconda3\\envs\\workshop_env\\lib\\site-packages (from chromadb>=1.0.0->autogen-ext[chromadb]) (1.36.0)\n",
            "Requirement already satisfied: opentelemetry-sdk>=1.2.0 in c:\\users\\adela-n\\anaconda3\\envs\\workshop_env\\lib\\site-packages (from chromadb>=1.0.0->autogen-ext[chromadb]) (1.36.0)\n",
            "Requirement already satisfied: tokenizers>=0.13.2 in c:\\users\\adela-n\\anaconda3\\envs\\workshop_env\\lib\\site-packages (from chromadb>=1.0.0->autogen-ext[chromadb]) (0.22.0)\n",
            "Requirement already satisfied: pypika>=0.48.9 in c:\\users\\adela-n\\anaconda3\\envs\\workshop_env\\lib\\site-packages (from chromadb>=1.0.0->autogen-ext[chromadb]) (0.48.9)\n",
            "Requirement already satisfied: tqdm>=4.65.0 in c:\\users\\adela-n\\anaconda3\\envs\\workshop_env\\lib\\site-packages (from chromadb>=1.0.0->autogen-ext[chromadb]) (4.67.1)\n",
            "Requirement already satisfied: overrides>=7.3.1 in c:\\users\\adela-n\\anaconda3\\envs\\workshop_env\\lib\\site-packages (from chromadb>=1.0.0->autogen-ext[chromadb]) (7.7.0)\n",
            "Requirement already satisfied: importlib-resources in c:\\users\\adela-n\\anaconda3\\envs\\workshop_env\\lib\\site-packages (from chromadb>=1.0.0->autogen-ext[chromadb]) (6.5.2)\n",
            "Requirement already satisfied: grpcio>=1.58.0 in c:\\users\\adela-n\\anaconda3\\envs\\workshop_env\\lib\\site-packages (from chromadb>=1.0.0->autogen-ext[chromadb]) (1.74.0)\n",
            "Requirement already satisfied: bcrypt>=4.0.1 in c:\\users\\adela-n\\anaconda3\\envs\\workshop_env\\lib\\site-packages (from chromadb>=1.0.0->autogen-ext[chromadb]) (4.3.0)\n",
            "Requirement already satisfied: typer>=0.9.0 in c:\\users\\adela-n\\anaconda3\\envs\\workshop_env\\lib\\site-packages (from chromadb>=1.0.0->autogen-ext[chromadb]) (0.16.1)\n",
            "Requirement already satisfied: kubernetes>=28.1.0 in c:\\users\\adela-n\\anaconda3\\envs\\workshop_env\\lib\\site-packages (from chromadb>=1.0.0->autogen-ext[chromadb]) (33.1.0)\n",
            "Requirement already satisfied: tenacity>=8.2.3 in c:\\users\\adela-n\\anaconda3\\envs\\workshop_env\\lib\\site-packages (from chromadb>=1.0.0->autogen-ext[chromadb]) (9.1.2)\n",
            "Requirement already satisfied: pyyaml>=6.0.0 in c:\\users\\adela-n\\anaconda3\\envs\\workshop_env\\lib\\site-packages (from chromadb>=1.0.0->autogen-ext[chromadb]) (6.0.2)\n",
            "Requirement already satisfied: mmh3>=4.0.1 in c:\\users\\adela-n\\anaconda3\\envs\\workshop_env\\lib\\site-packages (from chromadb>=1.0.0->autogen-ext[chromadb]) (5.2.0)\n",
            "Requirement already satisfied: orjson>=3.9.12 in c:\\users\\adela-n\\anaconda3\\envs\\workshop_env\\lib\\site-packages (from chromadb>=1.0.0->autogen-ext[chromadb]) (3.11.3)\n",
            "Requirement already satisfied: httpx>=0.27.0 in c:\\users\\adela-n\\anaconda3\\envs\\workshop_env\\lib\\site-packages (from chromadb>=1.0.0->autogen-ext[chromadb]) (0.28.1)\n",
            "Requirement already satisfied: rich>=10.11.0 in c:\\users\\adela-n\\anaconda3\\envs\\workshop_env\\lib\\site-packages (from chromadb>=1.0.0->autogen-ext[chromadb]) (14.1.0)\n",
            "Requirement already satisfied: jsonschema>=4.19.0 in c:\\users\\adela-n\\anaconda3\\envs\\workshop_env\\lib\\site-packages (from chromadb>=1.0.0->autogen-ext[chromadb]) (4.25.1)\n",
            "Requirement already satisfied: requests<3.0,>=2.7 in c:\\users\\adela-n\\anaconda3\\envs\\workshop_env\\lib\\site-packages (from posthog<6.0.0,>=2.4.0->chromadb>=1.0.0->autogen-ext[chromadb]) (2.32.5)\n",
            "Requirement already satisfied: six>=1.5 in c:\\users\\adela-n\\anaconda3\\envs\\workshop_env\\lib\\site-packages (from posthog<6.0.0,>=2.4.0->chromadb>=1.0.0->autogen-ext[chromadb]) (1.17.0)\n",
            "Requirement already satisfied: python-dateutil>=2.2 in c:\\users\\adela-n\\anaconda3\\envs\\workshop_env\\lib\\site-packages (from posthog<6.0.0,>=2.4.0->chromadb>=1.0.0->autogen-ext[chromadb]) (2.9.0.post0)\n",
            "Requirement already satisfied: backoff>=1.10.0 in c:\\users\\adela-n\\anaconda3\\envs\\workshop_env\\lib\\site-packages (from posthog<6.0.0,>=2.4.0->chromadb>=1.0.0->autogen-ext[chromadb]) (2.2.1)\n",
            "Requirement already satisfied: distro>=1.5.0 in c:\\users\\adela-n\\anaconda3\\envs\\workshop_env\\lib\\site-packages (from posthog<6.0.0,>=2.4.0->chromadb>=1.0.0->autogen-ext[chromadb]) (1.9.0)\n",
            "Requirement already satisfied: charset_normalizer<4,>=2 in c:\\users\\adela-n\\anaconda3\\envs\\workshop_env\\lib\\site-packages (from requests<3.0,>=2.7->posthog<6.0.0,>=2.4.0->chromadb>=1.0.0->autogen-ext[chromadb]) (3.4.3)\n",
            "Requirement already satisfied: idna<4,>=2.5 in c:\\users\\adela-n\\anaconda3\\envs\\workshop_env\\lib\\site-packages (from requests<3.0,>=2.7->posthog<6.0.0,>=2.4.0->chromadb>=1.0.0->autogen-ext[chromadb]) (3.10)\n",
            "Requirement already satisfied: urllib3<3,>=1.21.1 in c:\\users\\adela-n\\anaconda3\\envs\\workshop_env\\lib\\site-packages (from requests<3.0,>=2.7->posthog<6.0.0,>=2.4.0->chromadb>=1.0.0->autogen-ext[chromadb]) (2.5.0)\n",
            "Requirement already satisfied: certifi>=2017.4.17 in c:\\users\\adela-n\\anaconda3\\envs\\workshop_env\\lib\\site-packages (from requests<3.0,>=2.7->posthog<6.0.0,>=2.4.0->chromadb>=1.0.0->autogen-ext[chromadb]) (2025.8.3)\n",
            "Requirement already satisfied: packaging>=19.1 in c:\\users\\adela-n\\anaconda3\\envs\\workshop_env\\lib\\site-packages (from build>=1.0.3->chromadb>=1.0.0->autogen-ext[chromadb]) (25.0)\n",
            "Requirement already satisfied: pyproject_hooks in c:\\users\\adela-n\\anaconda3\\envs\\workshop_env\\lib\\site-packages (from build>=1.0.3->chromadb>=1.0.0->autogen-ext[chromadb]) (1.2.0)\n",
            "Requirement already satisfied: colorama in c:\\users\\adela-n\\anaconda3\\envs\\workshop_env\\lib\\site-packages (from build>=1.0.3->chromadb>=1.0.0->autogen-ext[chromadb]) (0.4.6)\n",
            "Requirement already satisfied: tomli>=1.1.0 in c:\\users\\adela-n\\anaconda3\\envs\\workshop_env\\lib\\site-packages (from build>=1.0.3->chromadb>=1.0.0->autogen-ext[chromadb]) (2.2.1)\n",
            "Requirement already satisfied: anyio in c:\\users\\adela-n\\anaconda3\\envs\\workshop_env\\lib\\site-packages (from httpx>=0.27.0->chromadb>=1.0.0->autogen-ext[chromadb]) (4.10.0)\n",
            "Requirement already satisfied: httpcore==1.* in c:\\users\\adela-n\\anaconda3\\envs\\workshop_env\\lib\\site-packages (from httpx>=0.27.0->chromadb>=1.0.0->autogen-ext[chromadb]) (1.0.9)\n",
            "Requirement already satisfied: h11>=0.16 in c:\\users\\adela-n\\anaconda3\\envs\\workshop_env\\lib\\site-packages (from httpcore==1.*->httpx>=0.27.0->chromadb>=1.0.0->autogen-ext[chromadb]) (0.16.0)\n",
            "Requirement already satisfied: attrs>=22.2.0 in c:\\users\\adela-n\\anaconda3\\envs\\workshop_env\\lib\\site-packages (from jsonschema>=4.19.0->chromadb>=1.0.0->autogen-ext[chromadb]) (25.3.0)\n",
            "Requirement already satisfied: jsonschema-specifications>=2023.03.6 in c:\\users\\adela-n\\anaconda3\\envs\\workshop_env\\lib\\site-packages (from jsonschema>=4.19.0->chromadb>=1.0.0->autogen-ext[chromadb]) (2025.4.1)\n",
            "Requirement already satisfied: referencing>=0.28.4 in c:\\users\\adela-n\\anaconda3\\envs\\workshop_env\\lib\\site-packages (from jsonschema>=4.19.0->chromadb>=1.0.0->autogen-ext[chromadb]) (0.36.2)\n",
            "Requirement already satisfied: rpds-py>=0.7.1 in c:\\users\\adela-n\\anaconda3\\envs\\workshop_env\\lib\\site-packages (from jsonschema>=4.19.0->chromadb>=1.0.0->autogen-ext[chromadb]) (0.27.1)\n",
            "Requirement already satisfied: google-auth>=1.0.1 in c:\\users\\adela-n\\anaconda3\\envs\\workshop_env\\lib\\site-packages (from kubernetes>=28.1.0->chromadb>=1.0.0->autogen-ext[chromadb]) (2.40.3)\n",
            "Requirement already satisfied: websocket-client!=0.40.0,!=0.41.*,!=0.42.*,>=0.32.0 in c:\\users\\adela-n\\anaconda3\\envs\\workshop_env\\lib\\site-packages (from kubernetes>=28.1.0->chromadb>=1.0.0->autogen-ext[chromadb]) (1.8.0)\n",
            "Requirement already satisfied: requests-oauthlib in c:\\users\\adela-n\\anaconda3\\envs\\workshop_env\\lib\\site-packages (from kubernetes>=28.1.0->chromadb>=1.0.0->autogen-ext[chromadb]) (2.0.0)\n",
            "Requirement already satisfied: oauthlib>=3.2.2 in c:\\users\\adela-n\\anaconda3\\envs\\workshop_env\\lib\\site-packages (from kubernetes>=28.1.0->chromadb>=1.0.0->autogen-ext[chromadb]) (3.3.1)\n",
            "Requirement already satisfied: durationpy>=0.7 in c:\\users\\adela-n\\anaconda3\\envs\\workshop_env\\lib\\site-packages (from kubernetes>=28.1.0->chromadb>=1.0.0->autogen-ext[chromadb]) (0.10)\n",
            "Requirement already satisfied: cachetools<6.0,>=2.0.0 in c:\\users\\adela-n\\anaconda3\\envs\\workshop_env\\lib\\site-packages (from google-auth>=1.0.1->kubernetes>=28.1.0->chromadb>=1.0.0->autogen-ext[chromadb]) (5.5.2)\n",
            "Requirement already satisfied: pyasn1-modules>=0.2.1 in c:\\users\\adela-n\\anaconda3\\envs\\workshop_env\\lib\\site-packages (from google-auth>=1.0.1->kubernetes>=28.1.0->chromadb>=1.0.0->autogen-ext[chromadb]) (0.4.2)\n",
            "Requirement already satisfied: rsa<5,>=3.1.4 in c:\\users\\adela-n\\anaconda3\\envs\\workshop_env\\lib\\site-packages (from google-auth>=1.0.1->kubernetes>=28.1.0->chromadb>=1.0.0->autogen-ext[chromadb]) (4.9.1)\n",
            "Requirement already satisfied: pyasn1>=0.1.3 in c:\\users\\adela-n\\anaconda3\\envs\\workshop_env\\lib\\site-packages (from rsa<5,>=3.1.4->google-auth>=1.0.1->kubernetes>=28.1.0->chromadb>=1.0.0->autogen-ext[chromadb]) (0.6.1)\n",
            "Requirement already satisfied: coloredlogs in c:\\users\\adela-n\\anaconda3\\envs\\workshop_env\\lib\\site-packages (from onnxruntime>=1.14.1->chromadb>=1.0.0->autogen-ext[chromadb]) (15.0.1)\n",
            "Requirement already satisfied: flatbuffers in c:\\users\\adela-n\\anaconda3\\envs\\workshop_env\\lib\\site-packages (from onnxruntime>=1.14.1->chromadb>=1.0.0->autogen-ext[chromadb]) (25.2.10)\n",
            "Requirement already satisfied: sympy in c:\\users\\adela-n\\anaconda3\\envs\\workshop_env\\lib\\site-packages (from onnxruntime>=1.14.1->chromadb>=1.0.0->autogen-ext[chromadb]) (1.14.0)\n",
            "Requirement already satisfied: jiter<1,>=0.4.0 in c:\\users\\adela-n\\anaconda3\\envs\\workshop_env\\lib\\site-packages (from openai>=1.93->autogen-ext[openai]) (0.10.0)\n",
            "Requirement already satisfied: sniffio in c:\\users\\adela-n\\anaconda3\\envs\\workshop_env\\lib\\site-packages (from openai>=1.93->autogen-ext[openai]) (1.3.1)\n",
            "Requirement already satisfied: exceptiongroup>=1.0.2 in c:\\users\\adela-n\\anaconda3\\envs\\workshop_env\\lib\\site-packages (from anyio->httpx>=0.27.0->chromadb>=1.0.0->autogen-ext[chromadb]) (1.3.0)\n",
            "Requirement already satisfied: importlib-metadata<8.8.0,>=6.0 in c:\\users\\adela-n\\anaconda3\\envs\\workshop_env\\lib\\site-packages (from opentelemetry-api>=1.34.1->autogen-core==0.7.4->autogen-agentchat) (8.7.0)\n",
            "Requirement already satisfied: zipp>=3.20 in c:\\users\\adela-n\\anaconda3\\envs\\workshop_env\\lib\\site-packages (from importlib-metadata<8.8.0,>=6.0->opentelemetry-api>=1.34.1->autogen-core==0.7.4->autogen-agentchat) (3.23.0)\n",
            "Requirement already satisfied: googleapis-common-protos~=1.57 in c:\\users\\adela-n\\anaconda3\\envs\\workshop_env\\lib\\site-packages (from opentelemetry-exporter-otlp-proto-grpc>=1.2.0->chromadb>=1.0.0->autogen-ext[chromadb]) (1.70.0)\n",
            "Requirement already satisfied: opentelemetry-exporter-otlp-proto-common==1.36.0 in c:\\users\\adela-n\\anaconda3\\envs\\workshop_env\\lib\\site-packages (from opentelemetry-exporter-otlp-proto-grpc>=1.2.0->chromadb>=1.0.0->autogen-ext[chromadb]) (1.36.0)\n",
            "Requirement already satisfied: opentelemetry-proto==1.36.0 in c:\\users\\adela-n\\anaconda3\\envs\\workshop_env\\lib\\site-packages (from opentelemetry-exporter-otlp-proto-grpc>=1.2.0->chromadb>=1.0.0->autogen-ext[chromadb]) (1.36.0)\n",
            "Requirement already satisfied: opentelemetry-semantic-conventions==0.57b0 in c:\\users\\adela-n\\anaconda3\\envs\\workshop_env\\lib\\site-packages (from opentelemetry-sdk>=1.2.0->chromadb>=1.0.0->autogen-ext[chromadb]) (0.57b0)\n",
            "Requirement already satisfied: markdown-it-py>=2.2.0 in c:\\users\\adela-n\\anaconda3\\envs\\workshop_env\\lib\\site-packages (from rich>=10.11.0->chromadb>=1.0.0->autogen-ext[chromadb]) (4.0.0)\n",
            "Requirement already satisfied: pygments<3.0.0,>=2.13.0 in c:\\users\\adela-n\\anaconda3\\envs\\workshop_env\\lib\\site-packages (from rich>=10.11.0->chromadb>=1.0.0->autogen-ext[chromadb]) (2.19.2)\n",
            "Requirement already satisfied: mdurl~=0.1 in c:\\users\\adela-n\\anaconda3\\envs\\workshop_env\\lib\\site-packages (from markdown-it-py>=2.2.0->rich>=10.11.0->chromadb>=1.0.0->autogen-ext[chromadb]) (0.1.2)\n",
            "Requirement already satisfied: regex>=2022.1.18 in c:\\users\\adela-n\\anaconda3\\envs\\workshop_env\\lib\\site-packages (from tiktoken>=0.8.0->autogen-ext[openai]) (2025.7.34)\n",
            "Requirement already satisfied: huggingface-hub<1.0,>=0.16.4 in c:\\users\\adela-n\\anaconda3\\envs\\workshop_env\\lib\\site-packages (from tokenizers>=0.13.2->chromadb>=1.0.0->autogen-ext[chromadb]) (0.34.4)\n",
            "Requirement already satisfied: filelock in c:\\users\\adela-n\\anaconda3\\envs\\workshop_env\\lib\\site-packages (from huggingface-hub<1.0,>=0.16.4->tokenizers>=0.13.2->chromadb>=1.0.0->autogen-ext[chromadb]) (3.19.1)\n",
            "Requirement already satisfied: fsspec>=2023.5.0 in c:\\users\\adela-n\\anaconda3\\envs\\workshop_env\\lib\\site-packages (from huggingface-hub<1.0,>=0.16.4->tokenizers>=0.13.2->chromadb>=1.0.0->autogen-ext[chromadb]) (2025.7.0)\n",
            "Requirement already satisfied: click>=8.0.0 in c:\\users\\adela-n\\anaconda3\\envs\\workshop_env\\lib\\site-packages (from typer>=0.9.0->chromadb>=1.0.0->autogen-ext[chromadb]) (8.2.1)\n",
            "Requirement already satisfied: shellingham>=1.3.0 in c:\\users\\adela-n\\anaconda3\\envs\\workshop_env\\lib\\site-packages (from typer>=0.9.0->chromadb>=1.0.0->autogen-ext[chromadb]) (1.5.4)\n",
            "Requirement already satisfied: httptools>=0.6.3 in c:\\users\\adela-n\\anaconda3\\envs\\workshop_env\\lib\\site-packages (from uvicorn[standard]>=0.18.3->chromadb>=1.0.0->autogen-ext[chromadb]) (0.6.4)\n",
            "Requirement already satisfied: python-dotenv>=0.13 in c:\\users\\adela-n\\anaconda3\\envs\\workshop_env\\lib\\site-packages (from uvicorn[standard]>=0.18.3->chromadb>=1.0.0->autogen-ext[chromadb]) (1.1.1)\n",
            "Requirement already satisfied: watchfiles>=0.13 in c:\\users\\adela-n\\anaconda3\\envs\\workshop_env\\lib\\site-packages (from uvicorn[standard]>=0.18.3->chromadb>=1.0.0->autogen-ext[chromadb]) (1.1.0)\n",
            "Requirement already satisfied: websockets>=10.4 in c:\\users\\adela-n\\anaconda3\\envs\\workshop_env\\lib\\site-packages (from uvicorn[standard]>=0.18.3->chromadb>=1.0.0->autogen-ext[chromadb]) (15.0.1)\n",
            "Requirement already satisfied: humanfriendly>=9.1 in c:\\users\\adela-n\\anaconda3\\envs\\workshop_env\\lib\\site-packages (from coloredlogs->onnxruntime>=1.14.1->chromadb>=1.0.0->autogen-ext[chromadb]) (10.0)\n",
            "Requirement already satisfied: pyreadline3 in c:\\users\\adela-n\\anaconda3\\envs\\workshop_env\\lib\\site-packages (from humanfriendly>=9.1->coloredlogs->onnxruntime>=1.14.1->chromadb>=1.0.0->autogen-ext[chromadb]) (3.5.4)\n",
            "Requirement already satisfied: mpmath<1.4,>=1.1.0 in c:\\users\\adela-n\\anaconda3\\envs\\workshop_env\\lib\\site-packages (from sympy->onnxruntime>=1.14.1->chromadb>=1.0.0->autogen-ext[chromadb]) (1.3.0)\n",
            "Requirement already satisfied: pydriller in c:\\users\\adela-n\\anaconda3\\envs\\workshop_env\\lib\\site-packages (2.8)\n",
            "Requirement already satisfied: gitpython in c:\\users\\adela-n\\anaconda3\\envs\\workshop_env\\lib\\site-packages (from pydriller) (3.1.45)\n",
            "Requirement already satisfied: pytz in c:\\users\\adela-n\\anaconda3\\envs\\workshop_env\\lib\\site-packages (from pydriller) (2025.2)\n",
            "Requirement already satisfied: types-pytz in c:\\users\\adela-n\\anaconda3\\envs\\workshop_env\\lib\\site-packages (from pydriller) (2025.2.0.20250809)\n",
            "Requirement already satisfied: lizard==1.17.10 in c:\\users\\adela-n\\anaconda3\\envs\\workshop_env\\lib\\site-packages (from pydriller) (1.17.10)\n",
            "Requirement already satisfied: gitdb<5,>=4.0.1 in c:\\users\\adela-n\\anaconda3\\envs\\workshop_env\\lib\\site-packages (from gitpython->pydriller) (4.0.12)\n",
            "Requirement already satisfied: smmap<6,>=3.0.1 in c:\\users\\adela-n\\anaconda3\\envs\\workshop_env\\lib\\site-packages (from gitdb<5,>=4.0.1->gitpython->pydriller) (5.0.2)\n",
            "Requirement already satisfied: aiohttp in c:\\users\\adela-n\\anaconda3\\envs\\workshop_env\\lib\\site-packages (3.12.15)\n",
            "Requirement already satisfied: aiohappyeyeballs>=2.5.0 in c:\\users\\adela-n\\anaconda3\\envs\\workshop_env\\lib\\site-packages (from aiohttp) (2.6.1)\n",
            "Requirement already satisfied: aiosignal>=1.4.0 in c:\\users\\adela-n\\anaconda3\\envs\\workshop_env\\lib\\site-packages (from aiohttp) (1.4.0)\n",
            "Requirement already satisfied: async-timeout<6.0,>=4.0 in c:\\users\\adela-n\\anaconda3\\envs\\workshop_env\\lib\\site-packages (from aiohttp) (5.0.1)\n",
            "Requirement already satisfied: attrs>=17.3.0 in c:\\users\\adela-n\\anaconda3\\envs\\workshop_env\\lib\\site-packages (from aiohttp) (25.3.0)\n",
            "Requirement already satisfied: frozenlist>=1.1.1 in c:\\users\\adela-n\\anaconda3\\envs\\workshop_env\\lib\\site-packages (from aiohttp) (1.7.0)\n",
            "Requirement already satisfied: multidict<7.0,>=4.5 in c:\\users\\adela-n\\anaconda3\\envs\\workshop_env\\lib\\site-packages (from aiohttp) (6.6.4)\n",
            "Requirement already satisfied: propcache>=0.2.0 in c:\\users\\adela-n\\anaconda3\\envs\\workshop_env\\lib\\site-packages (from aiohttp) (0.3.2)\n",
            "Requirement already satisfied: yarl<2.0,>=1.17.0 in c:\\users\\adela-n\\anaconda3\\envs\\workshop_env\\lib\\site-packages (from aiohttp) (1.20.1)\n",
            "Requirement already satisfied: typing-extensions>=4.1.0 in c:\\users\\adela-n\\anaconda3\\envs\\workshop_env\\lib\\site-packages (from multidict<7.0,>=4.5->aiohttp) (4.14.1)\n",
            "Requirement already satisfied: idna>=2.0 in c:\\users\\adela-n\\anaconda3\\envs\\workshop_env\\lib\\site-packages (from yarl<2.0,>=1.17.0->aiohttp) (3.10)\n",
            "Collecting nbclient\n",
            "  Downloading nbclient-0.10.2-py3-none-any.whl.metadata (8.3 kB)\n",
            "Requirement already satisfied: jupyter-client>=6.1.12 in c:\\users\\adela-n\\anaconda3\\envs\\workshop_env\\lib\\site-packages (from nbclient) (8.6.3)\n",
            "Requirement already satisfied: jupyter-core!=5.0.*,>=4.12 in c:\\users\\adela-n\\anaconda3\\envs\\workshop_env\\lib\\site-packages (from nbclient) (5.7.2)\n",
            "Collecting nbformat>=5.1 (from nbclient)\n",
            "  Using cached nbformat-5.10.4-py3-none-any.whl.metadata (3.6 kB)\n",
            "Requirement already satisfied: traitlets>=5.4 in c:\\users\\adela-n\\anaconda3\\envs\\workshop_env\\lib\\site-packages (from nbclient) (5.14.3)\n",
            "Requirement already satisfied: python-dateutil>=2.8.2 in c:\\users\\adela-n\\anaconda3\\envs\\workshop_env\\lib\\site-packages (from jupyter-client>=6.1.12->nbclient) (2.9.0.post0)\n",
            "Requirement already satisfied: pyzmq>=23.0 in c:\\users\\adela-n\\anaconda3\\envs\\workshop_env\\lib\\site-packages (from jupyter-client>=6.1.12->nbclient) (27.0.2)\n",
            "Requirement already satisfied: tornado>=6.2 in c:\\users\\adela-n\\anaconda3\\envs\\workshop_env\\lib\\site-packages (from jupyter-client>=6.1.12->nbclient) (6.5.2)\n",
            "Requirement already satisfied: platformdirs>=2.5 in c:\\users\\adela-n\\anaconda3\\envs\\workshop_env\\lib\\site-packages (from jupyter-core!=5.0.*,>=4.12->nbclient) (4.3.8)\n",
            "Requirement already satisfied: pywin32>=300 in c:\\users\\adela-n\\anaconda3\\envs\\workshop_env\\lib\\site-packages (from jupyter-core!=5.0.*,>=4.12->nbclient) (311)\n",
            "Collecting fastjsonschema>=2.15 (from nbformat>=5.1->nbclient)\n",
            "  Downloading fastjsonschema-2.21.2-py3-none-any.whl.metadata (2.3 kB)\n",
            "Requirement already satisfied: jsonschema>=2.6 in c:\\users\\adela-n\\anaconda3\\envs\\workshop_env\\lib\\site-packages (from nbformat>=5.1->nbclient) (4.25.1)\n",
            "Requirement already satisfied: attrs>=22.2.0 in c:\\users\\adela-n\\anaconda3\\envs\\workshop_env\\lib\\site-packages (from jsonschema>=2.6->nbformat>=5.1->nbclient) (25.3.0)\n",
            "Requirement already satisfied: jsonschema-specifications>=2023.03.6 in c:\\users\\adela-n\\anaconda3\\envs\\workshop_env\\lib\\site-packages (from jsonschema>=2.6->nbformat>=5.1->nbclient) (2025.4.1)\n",
            "Requirement already satisfied: referencing>=0.28.4 in c:\\users\\adela-n\\anaconda3\\envs\\workshop_env\\lib\\site-packages (from jsonschema>=2.6->nbformat>=5.1->nbclient) (0.36.2)\n",
            "Requirement already satisfied: rpds-py>=0.7.1 in c:\\users\\adela-n\\anaconda3\\envs\\workshop_env\\lib\\site-packages (from jsonschema>=2.6->nbformat>=5.1->nbclient) (0.27.1)\n",
            "Requirement already satisfied: six>=1.5 in c:\\users\\adela-n\\anaconda3\\envs\\workshop_env\\lib\\site-packages (from python-dateutil>=2.8.2->jupyter-client>=6.1.12->nbclient) (1.17.0)\n",
            "Requirement already satisfied: typing-extensions>=4.4.0 in c:\\users\\adela-n\\anaconda3\\envs\\workshop_env\\lib\\site-packages (from referencing>=0.28.4->jsonschema>=2.6->nbformat>=5.1->nbclient) (4.14.1)\n",
            "Downloading nbclient-0.10.2-py3-none-any.whl (25 kB)\n",
            "Using cached nbformat-5.10.4-py3-none-any.whl (78 kB)\n",
            "Downloading fastjsonschema-2.21.2-py3-none-any.whl (24 kB)\n",
            "Installing collected packages: fastjsonschema, nbformat, nbclient\n",
            "\n",
            "   ------------- -------------------------- 1/3 [nbformat]\n",
            "   -------------------------- ------------- 2/3 [nbclient]\n",
            "   ---------------------------------------- 3/3 [nbclient]\n",
            "\n",
            "Successfully installed fastjsonschema-2.21.2 nbclient-0.10.2 nbformat-5.10.4\n"
          ]
        }
      ],
      "source": [
        "!pip install neo4j\n",
        "!pip install -U \"autogen-agentchat\" \"autogen-ext[openai]\" \"autogen-ext[ollama]\" \"autogen-ext[chromadb]\"\n",
        "!pip install pydriller\n",
        "!pip install aiohttp\n",
        "!pip install nbclient"
      ]
    },
    {
      "cell_type": "markdown",
      "id": "e6996e2e-c01c-4bc4-85e4-2ed67e135854",
      "metadata": {
        "id": "e6996e2e-c01c-4bc4-85e4-2ed67e135854"
      },
      "source": [
        "### Import relevant libaries"
      ]
    },
    {
      "cell_type": "code",
      "execution_count": 6,
      "id": "fa1fd082",
      "metadata": {
        "id": "fa1fd082",
        "vscode": {
          "languageId": "bat"
        }
      },
      "outputs": [],
      "source": [
        "import os\n",
        "import re\n",
        "import aiofiles\n",
        "import aiohttp\n",
        "import asyncio\n",
        "from pathlib import Path\n",
        "from datetime import datetime\n",
        "from getpass import getpass\n",
        "from neo4j import GraphDatabase\n",
        "from autogen_ext.memory.chromadb import ChromaDBVectorMemory, PersistentChromaDBVectorMemoryConfig\n",
        "from autogen_agentchat.tools import AgentTool, TeamTool\n",
        "from autogen_ext.models.openai import OpenAIChatCompletionClient\n",
        "from autogen_ext.models.ollama import OllamaChatCompletionClient\n",
        "from autogen_agentchat.conditions import TextMessageTermination, SourceMatchTermination\n",
        "from autogen_agentchat.agents import AssistantAgent, CodeExecutorAgent\n",
        "from autogen_ext.code_executors.jupyter import JupyterCodeExecutor\n",
        "from autogen_ext.tools.code_execution import PythonCodeExecutionTool\n",
        "from autogen_agentchat.teams import RoundRobinGroupChat, SelectorGroupChat\n",
        "from autogen_core.model_context import BufferedChatCompletionContext, TokenLimitedChatCompletionContext, ChatCompletionContext\n",
        "from autogen_core.memory import ListMemory, MemoryContent, MemoryMimeType, Memory\n",
        "from autogen_agentchat.ui import Console\n",
        "from autogen_agentchat.messages import BaseAgentEvent, BaseChatMessage, ModelClientStreamingChunkEvent\n",
        "from autogen_core.models import UserMessage, CreateResult, SystemMessage, FunctionExecutionResultMessage, FunctionExecutionResult, ChatCompletionClient\n",
        "from autogen_core.tools import BaseTool, FunctionTool, StaticStreamWorkbench, ToolResult, Workbench\n",
        "from autogen_agentchat.base import Response\n",
        "from autogen_agentchat.base import Handoff as HandoffBase\n",
        "from autogen_core import CancellationToken, Component, ComponentModel, FunctionCall\n",
        "from pydantic import BaseModel\n",
        "from typing import List, Optional, Union, Sequence, Any, Callable, Dict, Mapping, AsyncGenerator"
      ]
    },
    {
      "cell_type": "markdown",
      "id": "8ece1e9d",
      "metadata": {
        "id": "8ece1e9d"
      },
      "source": [
        "###  Prepare the model (API key and Model Configuration)\n",
        "\n",
        "Note: Colab runs on Google’s cloud VMs, so it does not include local runtimes like Ollama (which is designed to run on your own machine, with local model weights and GPU/CPU)."
      ]
    },
    {
      "cell_type": "markdown",
      "id": "mOCZIjaVNySc",
      "metadata": {
        "id": "mOCZIjaVNySc"
      },
      "source": [
        "**[Cloud Option]** OpenAI Model Configuration **(Chosen for workshop)**\n",
        "  - max_tokens = Maximum number of tokens allowed to generate per response.\n",
        "  - temperature = Controls randomness/creativity of word choice. E.g. 0.0 for deterministic answers, 1.0 for more varied and creative.\n",
        "  - seed = A fixed number that makes outputs more reproducible.\n",
        "  - top_p = Nucleus sampling: Another randomness control. E.g. 1.0 (use all options), or 0.9 (only top 90% likely words)."
      ]
    },
    {
      "cell_type": "code",
      "execution_count": 7,
      "id": "yFpEb2zCHolT",
      "metadata": {
        "colab": {
          "base_uri": "https://localhost:8080/"
        },
        "id": "yFpEb2zCHolT",
        "outputId": "2193add1-6fbd-4794-ec31-715231aed7a4"
      },
      "outputs": [],
      "source": [
        "openai_api_key = getpass(\"Enter the OpenAI API key: \")"
      ]
    },
    {
      "cell_type": "code",
      "execution_count": 8,
      "id": "c9ff4e11-079c-4817-9bf7-642769b0e4b6",
      "metadata": {
        "colab": {
          "base_uri": "https://localhost:8080/",
          "height": 35
        },
        "id": "c9ff4e11-079c-4817-9bf7-642769b0e4b6",
        "outputId": "251c233e-1ce1-47d1-8054-0f34dcbfff12"
      },
      "outputs": [
        {
          "data": {
            "text/plain": [
              "'The capital of Spain is **Madrid**.'"
            ]
          },
          "execution_count": 8,
          "metadata": {},
          "output_type": "execute_result"
        }
      ],
      "source": [
        "openai_model_client = OpenAIChatCompletionClient(\n",
        "    model = \"gpt-4.1\",\n",
        "    api_key = openai_api_key,\n",
        "    temperature = None,\n",
        "    seed = None,\n",
        "    top_p = None,\n",
        ")\n",
        "\n",
        "openai_model_client_no_parallel_calls = OpenAIChatCompletionClient(\n",
        "    model = \"gpt-4.1\",\n",
        "    api_key = openai_api_key,\n",
        "    temperature = None,\n",
        "    seed = None,\n",
        "    top_p = None,\n",
        "    parallel_tool_calls=False,  # Must disable parallel tool calls to avoid concurrency issues in AgentTool/TeamTool\n",
        ")\n",
        "\n",
        "# Test model under different configurations and check content of response:\n",
        "result = await openai_model_client.create([UserMessage(content=\"What is the capital of Spain?\", source=\"user\")])\n",
        "result.content"
      ]
    },
    {
      "cell_type": "markdown",
      "id": "nTngFF-5N7Y4",
      "metadata": {
        "id": "nTngFF-5N7Y4"
      },
      "source": [
        "**[Local Option]** Ollama Model Configuration\n",
        "\n",
        "Note: Ollama must be installed on your local machine and the appropriate model pulled. Install: https://ollama.com/download\n",
        "\n",
        "\n",
        "```\n",
        "ollama_model_client = OllamaChatCompletionClient(\n",
        "    model=\"qwen3:0.6b\", # Try out other models e.g. llama3\n",
        ")\n",
        "\n",
        "```\n",
        "\n"
      ]
    },
    {
      "cell_type": "markdown",
      "id": "cb610756",
      "metadata": {
        "id": "cb610756"
      },
      "source": [
        "### Setup Neo4J Database"
      ]
    },
    {
      "cell_type": "markdown",
      "id": "w5VVqNmrRKaD",
      "metadata": {
        "id": "w5VVqNmrRKaD"
      },
      "source": [
        "1) Create a free Neo4j Aura account following the link provided: https://neo4j.com/docs/aura/classic/. This is done to obtain a free cloud-based, personal database instance for the experiments below.\n",
        "\n",
        "\n",
        "  **Very important**: you should see a popup saying “Save your password now” (they only show it once). Copy the password and add it to the *auradb_password* variable below:"
      ]
    },
    {
      "cell_type": "code",
      "execution_count": 9,
      "id": "kn_Msu0ARbWP",
      "metadata": {
        "colab": {
          "base_uri": "https://localhost:8080/"
        },
        "id": "kn_Msu0ARbWP",
        "outputId": "44eaf09c-64ba-4e91-9fd7-c6d7bc6146e8"
      },
      "outputs": [],
      "source": [
        "auradb_password = getpass(\"Enter your Neo4J Aura password: \")"
      ]
    },
    {
      "cell_type": "markdown",
      "id": "DOWjt4CNRMOY",
      "metadata": {
        "id": "DOWjt4CNRMOY"
      },
      "source": [
        "2) Open the Neo4J Aura Console and navigate to *Data services/Instances*, as shown in the image below. Create a new database instance (if not automatically created), then copy the database ID. Add the ID to the *db_id* variable below:"
      ]
    },
    {
      "cell_type": "markdown",
      "id": "obTj8d0Ll6Vc",
      "metadata": {
        "id": "obTj8d0Ll6Vc"
      },
      "source": [
        "![id.png](data:image/png;base64,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)"
      ]
    },
    {
      "cell_type": "code",
      "execution_count": 10,
      "id": "U_Dh_lF-U9HZ",
      "metadata": {
        "colab": {
          "base_uri": "https://localhost:8080/"
        },
        "id": "U_Dh_lF-U9HZ",
        "outputId": "a55c3af4-2bde-4e8b-c865-ad9e15285dfd"
      },
      "outputs": [],
      "source": [
        "# Fill with the instance ID from Neo4J Aura console:\n",
        "db_id = input(\"Enter your Aura DB ID (the xxxx part from xxxx.databases.neo4j.io): \")\n",
        "\n",
        "# Build the full URI\n",
        "uri = f\"neo4j+s://{db_id}.databases.neo4j.io\""
      ]
    },
    {
      "cell_type": "code",
      "execution_count": 11,
      "id": "669e260c",
      "metadata": {
        "id": "669e260c"
      },
      "outputs": [],
      "source": [
        "# Initiate Neo4J driver\n",
        "driver = GraphDatabase.driver(uri, auth=(\"neo4j\", auradb_password))\n",
        "\n",
        "# Connectivity check:\n",
        "driver.verify_connectivity()"
      ]
    },
    {
      "cell_type": "markdown",
      "id": "fb17d604",
      "metadata": {
        "id": "fb17d604"
      },
      "source": [
        "## Part II: Background Foundations: AutoGen, Knowledge Graphs (~30 min)"
      ]
    },
    {
      "cell_type": "markdown",
      "id": "Pp8LMqD5XBPH",
      "metadata": {
        "id": "Pp8LMqD5XBPH"
      },
      "source": [
        "### Quick Introduction to AutoGen"
      ]
    },
    {
      "cell_type": "markdown",
      "id": "3Q4U70itKo7O",
      "metadata": {
        "id": "3Q4U70itKo7O"
      },
      "source": [
        "TODO: AutoGen Introduction - Check Hui's Slides"
      ]
    },
    {
      "cell_type": "markdown",
      "id": "hDdWbHMsaTyr",
      "metadata": {
        "id": "hDdWbHMsaTyr"
      },
      "source": [
        "### Quick Introduction to Neo4J and Knowledge Graphs"
      ]
    },
    {
      "cell_type": "markdown",
      "id": "5oCzP0MaabU4",
      "metadata": {
        "id": "5oCzP0MaabU4"
      },
      "source": [
        "TODO: Knowledge Graph Introduction"
      ]
    },
    {
      "cell_type": "markdown",
      "id": "OauCLhfQZFpO",
      "metadata": {
        "id": "OauCLhfQZFpO"
      },
      "source": [
        "## Part III. Experimental Setup (~60 min)"
      ]
    },
    {
      "cell_type": "markdown",
      "id": "a_aCnZYpW8_h",
      "metadata": {
        "id": "a_aCnZYpW8_h"
      },
      "source": [
        "### Agent Setup"
      ]
    },
    {
      "cell_type": "markdown",
      "id": "xumXROqrYNpJ",
      "metadata": {
        "id": "xumXROqrYNpJ"
      },
      "source": [
        "#### Agentic Tool for Generating Graph Content from Agent Responses"
      ]
    },
    {
      "cell_type": "markdown",
      "id": "R9h4-0JX4LYd",
      "metadata": {
        "id": "R9h4-0JX4LYd"
      },
      "source": [
        "Now, we create a function to run any Cypher query:"
      ]
    },
    {
      "cell_type": "code",
      "execution_count": 12,
      "id": "cf49846e",
      "metadata": {
        "id": "cf49846e"
      },
      "outputs": [],
      "source": [
        "async def run_query(query: str) -> str:\n",
        "    \"\"\"Run a Cypher query against Neo4j and return results. Returns String representation.\"\"\"\n",
        "    try:\n",
        "        with driver.session() as session:\n",
        "            result = session.run(query)\n",
        "            records = [record.data() for record in result]\n",
        "        return repr(records)\n",
        "    except Exception as e:\n",
        "        return repr({\"error\": str(e)})"
      ]
    },
    {
      "cell_type": "code",
      "execution_count": 13,
      "id": "42ea9e61",
      "metadata": {
        "colab": {
          "base_uri": "https://localhost:8080/",
          "height": 35
        },
        "id": "42ea9e61",
        "outputId": "9519b8da-2243-46a9-c96a-824f3d1563ae"
      },
      "outputs": [
        {
          "data": {
            "text/plain": [
              "\"[{'msg': 'I love Knowledge Graphs!'}]\""
            ]
          },
          "execution_count": 13,
          "metadata": {},
          "output_type": "execute_result"
        }
      ],
      "source": [
        "# Test running the query:\n",
        "await run_query(\"RETURN 'I love Knowledge Graphs!' AS msg\")"
      ]
    },
    {
      "cell_type": "code",
      "execution_count": 14,
      "id": "X1kXHwkJeP1z",
      "metadata": {
        "id": "X1kXHwkJeP1z"
      },
      "outputs": [],
      "source": [
        "async def get_graph_overview() -> str:\n",
        "    \"\"\"Run a Cypher query against Neo4j to get full graph content and return results. Returns String representation.\"\"\"\n",
        "    try:\n",
        "        with driver.session() as session:\n",
        "            result = session.run(\"MATCH (n) OPTIONAL MATCH (n)-[r]-(m) RETURN n, r, m\")\n",
        "            records = [record.data() for record in result]\n",
        "        return repr(records)\n",
        "    except Exception as e:\n",
        "        return repr({\"error\": str(e)})"
      ]
    },
    {
      "cell_type": "code",
      "execution_count": 15,
      "id": "AjX0y_RkaFAC",
      "metadata": {
        "id": "AjX0y_RkaFAC"
      },
      "outputs": [],
      "source": [
        "DB_SCHEMA = \"\"\"  Node Types:\n",
        "                [SourceCode] with properties:\n",
        "                - timestamp: date              # Current time (format: YYYY-MM-DD HH:MM:SS)\n",
        "                - code: str                    # Code\n",
        "                - description: str             # Short description of code functionality\n",
        "                - loc: int                     # Lines of code generated\n",
        "                - dependencies: List[str]      # Dependencies: e.g. imports, function calls\n",
        "                - user_prompt: str             # User prompt that led to the code generated\n",
        "                [TechnicalDebtItem] with properties:\n",
        "                - timestamp: date              # Current time (format: YYYY-MM-DD HH:MM:SS)\n",
        "                - description: List[str]       # Technical Debt Description\n",
        "                - location: str                # Range of code lines affected\n",
        "                Relationship Types:\n",
        "                  (n:SourceCode)-[r:RefactoredTo]->(m:SourceCode)\n",
        "                  (n:TechnicalDebtItem)-[:IdentifiedIn]->(m:SourceCode)\"\"\""
      ]
    },
    {
      "cell_type": "code",
      "execution_count": 16,
      "id": "506938f5",
      "metadata": {
        "id": "506938f5"
      },
      "outputs": [],
      "source": [
        "# Version 1 : One agent with access to 2 tools (get_graph_overview and run_query) - part of Team.\n",
        "graph_operator_agent = AssistantAgent(\n",
        "    name=\"graph_operator_agent\",\n",
        "    model_client=openai_model_client,\n",
        "    tools=[get_graph_overview, run_query],\n",
        "    system_message =f\"\"\"Your name is graph_operator_agent. You record agent outputs into a graph by generating **Cypher queries**.\n",
        "                    Context: The graph will track code changes in time, including technical debt items (create one node per item), as identified by other agents.\n",
        "                    First, you MUST call get_graph_overview to get an overview of the current graph.\n",
        "                    Second, you MUST use the run_query to capture the agent outputs which are not yet recorded.\n",
        "                    Rules:\n",
        "                    1) Only one Cypher statement per query is allowed.\n",
        "                    2) You MUST follow the schema: {DB_SCHEMA}\"\"\",\n",
        "    max_tool_iterations = 5,\n",
        "    reflect_on_tool_use = False,\n",
        ")"
      ]
    },
    {
      "cell_type": "code",
      "execution_count": 17,
      "id": "41460136",
      "metadata": {
        "colab": {
          "base_uri": "https://localhost:8080/"
        },
        "id": "41460136",
        "outputId": "f1f4b47a-3931-412c-cfae-5f9dbe8dfc34"
      },
      "outputs": [
        {
          "name": "stdout",
          "output_type": "stream",
          "text": [
            "---------- TextMessage (user) ----------\n",
            "Current date:2025-08-30 10:30:53.762794 Agent 1 has generated the following code:\n",
            "          def summarize_report(data: List[int]) -> Dict[str, float]:\n",
            "        if not data:\n",
            "            return {\"count\": 0, \"sum\": 0, \"mean\": None, \"median\": None, \"stdev\": None}\n",
            "\n",
            "        return {\n",
            "            \"count\": len(data),\n",
            "            \"sum\": calculate_sum(data),\n",
            "            \"mean\": statistics.mean(data),\n",
            "            \"median\": statistics.median(data),\n",
            "            \"stdev\": statistics.stdev(data) if len(data) > 1 else 0.0\n",
            "        }\n",
            "        \n",
            "---------- ToolCallRequestEvent (graph_operator_agent) ----------\n",
            "[FunctionCall(id='call_4X2F8omHkvBYqnvcMhgyOD4Q', arguments='{}', name='get_graph_overview')]\n",
            "---------- ToolCallExecutionEvent (graph_operator_agent) ----------\n",
            "[FunctionExecutionResult(content='[{\\'n\\': {\\'loc\\': 9, \\'code\\': \\'def summarize_report(data: List[int]) -> Dict[str, float]:\\\\n    if not data:\\\\n        return {\"count\": 0, \"sum\": 0, \"mean\": None, \"median\": None, \"stdev\": None}\\\\n\\\\n    return {\\\\n        \"count\": len(data),\\\\n        \"sum\": calculate_sum(data),\\\\n        \"mean\": statistics.mean(data),\\\\n        \"median\": statistics.median(data),\\\\n        \"stdev\": statistics.stdev(data) if len(data) > 1 else 0.0\\\\n    }\\', \\'description\\': \\'Summarizes statistics for a given list of integers, returning a dictionary with count, sum, mean, median, and standard deviation.\\', \\'user_prompt\\': \\'Agent 1 has generated the following code: def summarize_report(data: List[int]) -> Dict[str, float]: ...\\', \\'timestamp\\': \\'2025-08-29 15:09:39\\', \\'dependencies\\': [\\'statistics\\', \\'calculate_sum\\', \\'len\\']}, \\'r\\': None, \\'m\\': None}, {\\'n\\': {\\'loc\\': 1, \\'code\\': \"print(\\'Hello, Portugal!\\')\", \\'description\\': \\'Prints a greeting to Portugal.\\', \\'user_prompt\\': \"Write Python code that prints \\'Hello, Portugal!\\'.\", \\'timestamp\\': \\'2025-08-29 15:12:04\\', \\'dependencies\\': []}, \\'r\\': None, \\'m\\': None}, {\\'n\\': {\\'description\\': [\\'TODO comment inside argument list of print statement leads to syntax error. Indicates incomplete implementation and poor code quality: unfinished code and lack of proper commenting. Recommended action: Move TODO comment out of code statement and complete feature for user-defined input.\\'], \\'location\\': \\'lines 1\\', \\'timestamp\\': \\'2025-08-29 15:15:00\\'}, \\'r\\': ({\\'description\\': [\\'TODO comment inside argument list of print statement leads to syntax error. Indicates incomplete implementation and poor code quality: unfinished code and lack of proper commenting. Recommended action: Move TODO comment out of code statement and complete feature for user-defined input.\\'], \\'location\\': \\'lines 1\\', \\'timestamp\\': \\'2025-08-29 15:15:00\\'}, \\'IdentifiedIn\\', {\\'timestamp\\': \\'2025-08-29 15:12:04\\'}), \\'m\\': {\\'timestamp\\': \\'2025-08-29 15:12:04\\'}}, {\\'n\\': {\\'timestamp\\': \\'2025-08-29 15:12:04\\'}, \\'r\\': ({\\'description\\': [\\'TODO comment inside argument list of print statement leads to syntax error. Indicates incomplete implementation and poor code quality: unfinished code and lack of proper commenting. Recommended action: Move TODO comment out of code statement and complete feature for user-defined input.\\'], \\'location\\': \\'lines 1\\', \\'timestamp\\': \\'2025-08-29 15:15:00\\'}, \\'IdentifiedIn\\', {\\'timestamp\\': \\'2025-08-29 15:12:04\\'}), \\'m\\': {\\'description\\': [\\'TODO comment inside argument list of print statement leads to syntax error. Indicates incomplete implementation and poor code quality: unfinished code and lack of proper commenting. Recommended action: Move TODO comment out of code statement and complete feature for user-defined input.\\'], \\'location\\': \\'lines 1\\', \\'timestamp\\': \\'2025-08-29 15:15:00\\'}}]', name='get_graph_overview', call_id='call_4X2F8omHkvBYqnvcMhgyOD4Q', is_error=False)]\n",
            "---------- ToolCallRequestEvent (graph_operator_agent) ----------\n",
            "[FunctionCall(id='call_gxEmBYrnmp5Cig3DOfL3XE53', arguments='{\"query\":\"MERGE (s:SourceCode {timestamp: \\'2025-08-30 10:30:53\\'})\\\\nSET s.code = \\'def summarize_report(data: List[int]) -> Dict[str, float]:\\\\\\\\n    if not data:\\\\\\\\n        return {\\\\\"count\\\\\": 0, \\\\\"sum\\\\\": 0, \\\\\"mean\\\\\": None, \\\\\"median\\\\\": None, \\\\\"stdev\\\\\": None}\\\\\\\\n\\\\\\\\n    return {\\\\\\\\n        \\\\\"count\\\\\": len(data),\\\\\\\\n        \\\\\"sum\\\\\": calculate_sum(data),\\\\\\\\n        \\\\\"mean\\\\\": statistics.mean(data),\\\\\\\\n        \\\\\"median\\\\\": statistics.median(data),\\\\\\\\n        \\\\\"stdev\\\\\": statistics.stdev(data) if len(data) > 1 else 0.0\\\\\\\\n    }\\',\\\\n    s.description = \\'Summarizes statistics for a given list of integers, returning a dictionary with count, sum, mean, median, and standard deviation.\\',\\\\n    s.loc = 9,\\\\n    s.dependencies = [\\'statistics\\', \\'calculate_sum\\', \\'len\\'],\\\\n    s.user_prompt = \\'Agent 1 has generated the following code:\\\\\\\\n          def summarize_report(data: List[int]) -> Dict[str, float]:\\\\\\\\n        if not data:\\\\\\\\n            return {\\\\\"count\\\\\": 0, \\\\\"sum\\\\\": 0, \\\\\"mean\\\\\": None, \\\\\"median\\\\\": None, \\\\\"stdev\\\\\": None}\\\\\\\\n\\\\\\\\n        return {\\\\\\\\n            \\\\\"count\\\\\": len(data),\\\\\\\\n            \\\\\"sum\\\\\": calculate_sum(data),\\\\\\\\n            \\\\\"mean\\\\\": statistics.mean(data),\\\\\\\\n            \\\\\"median\\\\\": statistics.median(data),\\\\\\\\n            \\\\\"stdev\\\\\": statistics.stdev(data) if len(data) > 1 else 0.0\\\\\\\\n        }\\'\\\\nRETURN s\"}', name='run_query')]\n",
            "---------- ToolCallExecutionEvent (graph_operator_agent) ----------\n",
            "[FunctionExecutionResult(content='[{\\'s\\': {\\'loc\\': 9, \\'code\\': \\'def summarize_report(data: List[int]) -> Dict[str, float]:\\\\n    if not data:\\\\n        return {\"count\": 0, \"sum\": 0, \"mean\": None, \"median\": None, \"stdev\": None}\\\\n\\\\n    return {\\\\n        \"count\": len(data),\\\\n        \"sum\": calculate_sum(data),\\\\n        \"mean\": statistics.mean(data),\\\\n        \"median\": statistics.median(data),\\\\n        \"stdev\": statistics.stdev(data) if len(data) > 1 else 0.0\\\\n    }\\', \\'description\\': \\'Summarizes statistics for a given list of integers, returning a dictionary with count, sum, mean, median, and standard deviation.\\', \\'user_prompt\\': \\'Agent 1 has generated the following code:\\\\n          def summarize_report(data: List[int]) -> Dict[str, float]:\\\\n        if not data:\\\\n            return {\"count\": 0, \"sum\": 0, \"mean\": None, \"median\": None, \"stdev\": None}\\\\n\\\\n        return {\\\\n            \"count\": len(data),\\\\n            \"sum\": calculate_sum(data),\\\\n            \"mean\": statistics.mean(data),\\\\n            \"median\": statistics.median(data),\\\\n            \"stdev\": statistics.stdev(data) if len(data) > 1 else 0.0\\\\n        }\\', \\'dependencies\\': [\\'statistics\\', \\'calculate_sum\\', \\'len\\'], \\'timestamp\\': \\'2025-08-30 10:30:53\\'}}]', name='run_query', call_id='call_gxEmBYrnmp5Cig3DOfL3XE53', is_error=False)]\n",
            "---------- TextMessage (graph_operator_agent) ----------\n",
            "The new code from Agent 1 has been recorded in the graph as a SourceCode node with timestamp 2025-08-30 10:30:53, including its code, description, dependencies, lines of code, and user prompt. No technical debt items were identified or linked in this step.\n"
          ]
        },
        {
          "data": {
            "text/plain": [
              "TaskResult(messages=[TextMessage(id='3f307f4c-880f-4d61-9683-33c3d478c073', source='user', models_usage=None, metadata={}, created_at=datetime.datetime(2025, 8, 30, 8, 30, 53, 762794, tzinfo=datetime.timezone.utc), content='Current date:2025-08-30 10:30:53.762794 Agent 1 has generated the following code:\\n          def summarize_report(data: List[int]) -> Dict[str, float]:\\n        if not data:\\n            return {\"count\": 0, \"sum\": 0, \"mean\": None, \"median\": None, \"stdev\": None}\\n\\n        return {\\n            \"count\": len(data),\\n            \"sum\": calculate_sum(data),\\n            \"mean\": statistics.mean(data),\\n            \"median\": statistics.median(data),\\n            \"stdev\": statistics.stdev(data) if len(data) > 1 else 0.0\\n        }\\n        ', type='TextMessage'), ToolCallRequestEvent(id='e51c5236-cfe1-4871-8f50-87bc04c801a8', source='graph_operator_agent', models_usage=RequestUsage(prompt_tokens=551, completion_tokens=12), metadata={}, created_at=datetime.datetime(2025, 8, 30, 8, 30, 55, 448436, tzinfo=datetime.timezone.utc), content=[FunctionCall(id='call_4X2F8omHkvBYqnvcMhgyOD4Q', arguments='{}', name='get_graph_overview')], type='ToolCallRequestEvent'), ToolCallExecutionEvent(id='32a6f1fb-bd34-4f31-92b1-e85f3fc210d3', source='graph_operator_agent', models_usage=None, metadata={}, created_at=datetime.datetime(2025, 8, 30, 8, 30, 55, 775746, tzinfo=datetime.timezone.utc), content=[FunctionExecutionResult(content='[{\\'n\\': {\\'loc\\': 9, \\'code\\': \\'def summarize_report(data: List[int]) -> Dict[str, float]:\\\\n    if not data:\\\\n        return {\"count\": 0, \"sum\": 0, \"mean\": None, \"median\": None, \"stdev\": None}\\\\n\\\\n    return {\\\\n        \"count\": len(data),\\\\n        \"sum\": calculate_sum(data),\\\\n        \"mean\": statistics.mean(data),\\\\n        \"median\": statistics.median(data),\\\\n        \"stdev\": statistics.stdev(data) if len(data) > 1 else 0.0\\\\n    }\\', \\'description\\': \\'Summarizes statistics for a given list of integers, returning a dictionary with count, sum, mean, median, and standard deviation.\\', \\'user_prompt\\': \\'Agent 1 has generated the following code: def summarize_report(data: List[int]) -> Dict[str, float]: ...\\', \\'timestamp\\': \\'2025-08-29 15:09:39\\', \\'dependencies\\': [\\'statistics\\', \\'calculate_sum\\', \\'len\\']}, \\'r\\': None, \\'m\\': None}, {\\'n\\': {\\'loc\\': 1, \\'code\\': \"print(\\'Hello, Portugal!\\')\", \\'description\\': \\'Prints a greeting to Portugal.\\', \\'user_prompt\\': \"Write Python code that prints \\'Hello, Portugal!\\'.\", \\'timestamp\\': \\'2025-08-29 15:12:04\\', \\'dependencies\\': []}, \\'r\\': None, \\'m\\': None}, {\\'n\\': {\\'description\\': [\\'TODO comment inside argument list of print statement leads to syntax error. Indicates incomplete implementation and poor code quality: unfinished code and lack of proper commenting. Recommended action: Move TODO comment out of code statement and complete feature for user-defined input.\\'], \\'location\\': \\'lines 1\\', \\'timestamp\\': \\'2025-08-29 15:15:00\\'}, \\'r\\': ({\\'description\\': [\\'TODO comment inside argument list of print statement leads to syntax error. Indicates incomplete implementation and poor code quality: unfinished code and lack of proper commenting. Recommended action: Move TODO comment out of code statement and complete feature for user-defined input.\\'], \\'location\\': \\'lines 1\\', \\'timestamp\\': \\'2025-08-29 15:15:00\\'}, \\'IdentifiedIn\\', {\\'timestamp\\': \\'2025-08-29 15:12:04\\'}), \\'m\\': {\\'timestamp\\': \\'2025-08-29 15:12:04\\'}}, {\\'n\\': {\\'timestamp\\': \\'2025-08-29 15:12:04\\'}, \\'r\\': ({\\'description\\': [\\'TODO comment inside argument list of print statement leads to syntax error. Indicates incomplete implementation and poor code quality: unfinished code and lack of proper commenting. Recommended action: Move TODO comment out of code statement and complete feature for user-defined input.\\'], \\'location\\': \\'lines 1\\', \\'timestamp\\': \\'2025-08-29 15:15:00\\'}, \\'IdentifiedIn\\', {\\'timestamp\\': \\'2025-08-29 15:12:04\\'}), \\'m\\': {\\'description\\': [\\'TODO comment inside argument list of print statement leads to syntax error. Indicates incomplete implementation and poor code quality: unfinished code and lack of proper commenting. Recommended action: Move TODO comment out of code statement and complete feature for user-defined input.\\'], \\'location\\': \\'lines 1\\', \\'timestamp\\': \\'2025-08-29 15:15:00\\'}}]', name='get_graph_overview', call_id='call_4X2F8omHkvBYqnvcMhgyOD4Q', is_error=False)], type='ToolCallExecutionEvent'), ToolCallRequestEvent(id='bb015b3a-633c-4282-85ac-49e71b06a4f4', source='graph_operator_agent', models_usage=RequestUsage(prompt_tokens=1304, completion_tokens=380), metadata={}, created_at=datetime.datetime(2025, 8, 30, 8, 30, 59, 346935, tzinfo=datetime.timezone.utc), content=[FunctionCall(id='call_gxEmBYrnmp5Cig3DOfL3XE53', arguments='{\"query\":\"MERGE (s:SourceCode {timestamp: \\'2025-08-30 10:30:53\\'})\\\\nSET s.code = \\'def summarize_report(data: List[int]) -> Dict[str, float]:\\\\\\\\n    if not data:\\\\\\\\n        return {\\\\\"count\\\\\": 0, \\\\\"sum\\\\\": 0, \\\\\"mean\\\\\": None, \\\\\"median\\\\\": None, \\\\\"stdev\\\\\": None}\\\\\\\\n\\\\\\\\n    return {\\\\\\\\n        \\\\\"count\\\\\": len(data),\\\\\\\\n        \\\\\"sum\\\\\": calculate_sum(data),\\\\\\\\n        \\\\\"mean\\\\\": statistics.mean(data),\\\\\\\\n        \\\\\"median\\\\\": statistics.median(data),\\\\\\\\n        \\\\\"stdev\\\\\": statistics.stdev(data) if len(data) > 1 else 0.0\\\\\\\\n    }\\',\\\\n    s.description = \\'Summarizes statistics for a given list of integers, returning a dictionary with count, sum, mean, median, and standard deviation.\\',\\\\n    s.loc = 9,\\\\n    s.dependencies = [\\'statistics\\', \\'calculate_sum\\', \\'len\\'],\\\\n    s.user_prompt = \\'Agent 1 has generated the following code:\\\\\\\\n          def summarize_report(data: List[int]) -> Dict[str, float]:\\\\\\\\n        if not data:\\\\\\\\n            return {\\\\\"count\\\\\": 0, \\\\\"sum\\\\\": 0, \\\\\"mean\\\\\": None, \\\\\"median\\\\\": None, \\\\\"stdev\\\\\": None}\\\\\\\\n\\\\\\\\n        return {\\\\\\\\n            \\\\\"count\\\\\": len(data),\\\\\\\\n            \\\\\"sum\\\\\": calculate_sum(data),\\\\\\\\n            \\\\\"mean\\\\\": statistics.mean(data),\\\\\\\\n            \\\\\"median\\\\\": statistics.median(data),\\\\\\\\n            \\\\\"stdev\\\\\": statistics.stdev(data) if len(data) > 1 else 0.0\\\\\\\\n        }\\'\\\\nRETURN s\"}', name='run_query')], type='ToolCallRequestEvent'), ToolCallExecutionEvent(id='44ca395a-45f9-4aec-82b4-9d98512e75f8', source='graph_operator_agent', models_usage=None, metadata={}, created_at=datetime.datetime(2025, 8, 30, 8, 30, 59, 653095, tzinfo=datetime.timezone.utc), content=[FunctionExecutionResult(content='[{\\'s\\': {\\'loc\\': 9, \\'code\\': \\'def summarize_report(data: List[int]) -> Dict[str, float]:\\\\n    if not data:\\\\n        return {\"count\": 0, \"sum\": 0, \"mean\": None, \"median\": None, \"stdev\": None}\\\\n\\\\n    return {\\\\n        \"count\": len(data),\\\\n        \"sum\": calculate_sum(data),\\\\n        \"mean\": statistics.mean(data),\\\\n        \"median\": statistics.median(data),\\\\n        \"stdev\": statistics.stdev(data) if len(data) > 1 else 0.0\\\\n    }\\', \\'description\\': \\'Summarizes statistics for a given list of integers, returning a dictionary with count, sum, mean, median, and standard deviation.\\', \\'user_prompt\\': \\'Agent 1 has generated the following code:\\\\n          def summarize_report(data: List[int]) -> Dict[str, float]:\\\\n        if not data:\\\\n            return {\"count\": 0, \"sum\": 0, \"mean\": None, \"median\": None, \"stdev\": None}\\\\n\\\\n        return {\\\\n            \"count\": len(data),\\\\n            \"sum\": calculate_sum(data),\\\\n            \"mean\": statistics.mean(data),\\\\n            \"median\": statistics.median(data),\\\\n            \"stdev\": statistics.stdev(data) if len(data) > 1 else 0.0\\\\n        }\\', \\'dependencies\\': [\\'statistics\\', \\'calculate_sum\\', \\'len\\'], \\'timestamp\\': \\'2025-08-30 10:30:53\\'}}]', name='run_query', call_id='call_gxEmBYrnmp5Cig3DOfL3XE53', is_error=False)], type='ToolCallExecutionEvent'), TextMessage(id='f895e719-d47a-4cdc-9e0a-963362e5975d', source='graph_operator_agent', models_usage=RequestUsage(prompt_tokens=2032, completion_tokens=63), metadata={}, created_at=datetime.datetime(2025, 8, 30, 8, 31, 0, 968763, tzinfo=datetime.timezone.utc), content='The new code from Agent 1 has been recorded in the graph as a SourceCode node with timestamp 2025-08-30 10:30:53, including its code, description, dependencies, lines of code, and user prompt. No technical debt items were identified or linked in this step.', type='TextMessage')], stop_reason=None)"
            ]
          },
          "execution_count": 17,
          "metadata": {},
          "output_type": "execute_result"
        }
      ],
      "source": [
        "test_task = \"Current date:\" + str(datetime.now()) + \"\"\" Agent 1 has generated the following code:\n",
        "          def summarize_report(data: List[int]) -> Dict[str, float]:\n",
        "        if not data:\n",
        "            return {\"count\": 0, \"sum\": 0, \"mean\": None, \"median\": None, \"stdev\": None}\n",
        "\n",
        "        return {\n",
        "            \"count\": len(data),\n",
        "            \"sum\": calculate_sum(data),\n",
        "            \"mean\": statistics.mean(data),\n",
        "            \"median\": statistics.median(data),\n",
        "            \"stdev\": statistics.stdev(data) if len(data) > 1 else 0.0\n",
        "        }\n",
        "        \"\"\"\n",
        "\n",
        "await Console(graph_operator_agent.run_stream(task=test_task))"
      ]
    },
    {
      "cell_type": "code",
      "execution_count": 18,
      "id": "frf6nKqlGg_5",
      "metadata": {
        "id": "frf6nKqlGg_5"
      },
      "outputs": [],
      "source": [
        "class ForcedAssistantAgent(AssistantAgent):\n",
        "    \"\"\"AssistantAgent that always enforces tool calling.\"\"\"\n",
        "\n",
        "    @classmethod\n",
        "    async def _call_llm(\n",
        "        cls,\n",
        "        model_client: ChatCompletionClient,\n",
        "        model_client_stream: bool,\n",
        "        system_messages: List[SystemMessage],\n",
        "        model_context: ChatCompletionContext,\n",
        "        workbench: Sequence[Workbench],\n",
        "        handoff_tools: List[BaseTool[Any, Any]],\n",
        "        agent_name: str,\n",
        "        cancellation_token: CancellationToken,\n",
        "        output_content_type: type[BaseModel] | None,\n",
        "        message_id: str,\n",
        "    ) -> AsyncGenerator[Union[CreateResult, ModelClientStreamingChunkEvent], None]:\n",
        "        \"\"\"Call the language model with given context and configuration.\n",
        "\n",
        "        Args:\n",
        "            model_client: Client for model inference\n",
        "            model_client_stream: Whether to stream responses\n",
        "            system_messages: System messages to include\n",
        "            model_context: Context containing message history\n",
        "            workbench: Available workbenches\n",
        "            handoff_tools: Tools for handling handoffs\n",
        "            agent_name: Name of the agent\n",
        "            cancellation_token: Token for cancelling operation\n",
        "            output_content_type: Optional type for structured output\n",
        "\n",
        "        Returns:\n",
        "            Generator yielding model results or streaming chunks\n",
        "        \"\"\"\n",
        "        all_messages = await model_context.get_messages()\n",
        "        llm_messages = cls._get_compatible_context(model_client=model_client, messages=system_messages + all_messages)\n",
        "\n",
        "        tools = [tool for wb in workbench for tool in await wb.list_tools()] + handoff_tools\n",
        "\n",
        "        if model_client_stream:\n",
        "            model_result: Optional[CreateResult] = None\n",
        "\n",
        "            async for chunk in model_client.create_stream(\n",
        "                llm_messages,\n",
        "                tools=tools,\n",
        "                tool_choice=\"required\",   # Needs to be added to enforce tool call!\n",
        "                json_output=output_content_type,\n",
        "                cancellation_token=cancellation_token,\n",
        "            ):\n",
        "                if isinstance(chunk, CreateResult):\n",
        "                    model_result = chunk\n",
        "                elif isinstance(chunk, str):\n",
        "                    yield ModelClientStreamingChunkEvent(content=chunk, source=agent_name, full_message_id=message_id)\n",
        "                else:\n",
        "                    raise RuntimeError(f\"Invalid chunk type: {type(chunk)}\")\n",
        "            if model_result is None:\n",
        "                raise RuntimeError(\"No final model result in streaming mode.\")\n",
        "            yield model_result\n",
        "        else:\n",
        "            model_result = await model_client.create(\n",
        "                llm_messages,\n",
        "                tools=tools,\n",
        "                tool_choice=\"required\", # Needs to be added to enforce tool call!\n",
        "                cancellation_token=cancellation_token,\n",
        "                json_output=output_content_type,\n",
        "            )\n",
        "            yield model_result\n",
        "\n"
      ]
    },
    {
      "cell_type": "code",
      "execution_count": 19,
      "id": "g63lVl5UxMGI",
      "metadata": {
        "id": "g63lVl5UxMGI"
      },
      "outputs": [],
      "source": [
        "# Version 2:  Wrapping Team as Tool (via TeamTool) - Added as tool in Team members\n",
        "# Note: all agents using this tool must change model config to openai_model_client_no_parallel_calls\n",
        "graph_overview_agent = ForcedAssistantAgent(\n",
        "    name = \"graph_overview_agent\",\n",
        "    model_client = openai_model_client,\n",
        "    tools = [get_graph_overview],\n",
        "    system_message = \" You MUST use the get_graph_overview tool to provide the graph content. \",\n",
        "    model_context = BufferedChatCompletionContext(buffer_size=1),  # Does not need any context (save resources)\n",
        "    reflect_on_tool_use = False\n",
        ")\n",
        "\n",
        "graph_operator_agent = AssistantAgent(\n",
        "    name = \"graph_operator_agent\",\n",
        "    model_client = openai_model_client,\n",
        "    tools = [run_query],\n",
        "    system_message = f\"\"\"Your name is graph_operator_agent. You record agent outputs into a graph by generating **Cypher queries**.\n",
        "                    Context: The graph will track code changes in time, including technical debt items (create one node per item), as identified by other agents.\n",
        "                    You MUST use the run_query to capture the agent outputs which are not yet recorded (overview of current graph is provided).\n",
        "                    Rules:\n",
        "                    1) Only one Cypher statement per query is allowed.\n",
        "                    2) You MUST follow the schema: {DB_SCHEMA} \"\"\",\n",
        "    max_tool_iterations = 5,\n",
        "    reflect_on_tool_use = False\n",
        ")\n",
        "\n",
        "graph_operating_team = RoundRobinGroupChat(\n",
        "        [graph_overview_agent, graph_operator_agent], termination_condition=SourceMatchTermination(sources=[\"graph_operator_agent\"])\n",
        ")\n",
        "\n",
        "# Create a TeamTool that uses the team to run tasks, returning the last message as the result.\n",
        "graph_tool = TeamTool(\n",
        "        team=graph_operating_team,\n",
        "        name=\"graph_operating_team\",\n",
        "        description=\"A tool for translating agent outputs to graph format.\",\n",
        "        return_value_as_last_message=True,\n",
        ")"
      ]
    },
    {
      "cell_type": "markdown",
      "id": "HCXM9TGSfMKM",
      "metadata": {
        "id": "HCXM9TGSfMKM"
      },
      "source": [
        "#### Agent Specialized in Generating Python Code from User Request"
      ]
    },
    {
      "cell_type": "markdown",
      "id": "VTUmapsUp5-4",
      "metadata": {
        "id": "VTUmapsUp5-4"
      },
      "source": [
        "Exercises:\n",
        "- Can you improve the default description and system_message:  [DEFAULT_AGENT_DESCRIPTION](https://microsoft.github.io/autogen/stable/reference/python/autogen_agentchat.agents.html#autogen_agentchat.agents.CodeExecutorAgent.DEFAULT_AGENT_DESCRIPTION) and [DEFAULT_SYSTEM_MESSAGE](https://microsoft.github.io/autogen/stable/reference/python/autogen_agentchat.agents.html#autogen_agentchat.agents.CodeExecutorAgent.DEFAULT_SYSTEM_MESSAGE)?\n",
        "- Test with more complex programming tasks. What limitations can you identify?\n",
        "- Check the documentation of the [CodeExecutorAgent](https://microsoft.github.io/autogen/stable/reference/python/autogen_agentchat.agents.html#autogen_agentchat.agents.CodeExecutorAgent). What other parameters can we set to achieve a more efficient agent?"
      ]
    },
    {
      "cell_type": "code",
      "execution_count": 20,
      "id": "PWalQWIpTSjQ",
      "metadata": {
        "id": "PWalQWIpTSjQ"
      },
      "outputs": [],
      "source": [
        "# Agent that generates code\n",
        "code_generator_agent = AssistantAgent(\"code_generator_agent\",\n",
        "                                      model_client = openai_model_client,\n",
        "                                      system_message = \"\"\"Your name is code_generator_agent. Your role is to generate Python code given instructions.\n",
        "                                                          Provide Python code in ```python code blocks.\"\"\")"
      ]
    },
    {
      "cell_type": "code",
      "execution_count": 21,
      "id": "GO24Id3l6uVf",
      "metadata": {
        "id": "GO24Id3l6uVf"
      },
      "outputs": [],
      "source": [
        "# Agent that generates code (monitored version)\n",
        "monitored_code_generator_agent = AssistantAgent(\"code_generator_agent\",\n",
        "                                      model_client = openai_model_client_no_parallel_calls,\n",
        "                                      tools=[graph_tool],\n",
        "                                      system_message = \"\"\"Your name is code_generator_agent. Generate Python code given instructions, then call the graph_tool (always!).\n",
        "                                                          Provide Python code in ```python code blocks.\n",
        "                                                          Remember to call the graph_tool to capture the generated code in graph format. \"\"\",\n",
        "                                      reflect_on_tool_use = False\n",
        "                                      )"
      ]
    },
    {
      "cell_type": "code",
      "execution_count": 89,
      "id": "eWLra0QY8XmJ",
      "metadata": {
        "colab": {
          "base_uri": "https://localhost:8080/"
        },
        "id": "eWLra0QY8XmJ",
        "outputId": "87293ad6-614c-46d2-d4ce-60f29bdedcad"
      },
      "outputs": [
        {
          "name": "stdout",
          "output_type": "stream",
          "text": [
            "---------- TextMessage (user) ----------\n",
            "Write Python code that prints Hello, Portugal!\n",
            "---------- ToolCallRequestEvent (code_generator_agent) ----------\n",
            "[FunctionCall(id='call_ijjTCHVpR2DKfnzZETk6P7JX', arguments='{\"task\":\"Write Python code that prints Hello, Portugal!\"}', name='graph_operating_team')]\n",
            "---------- TextMessage (user) ----------\n",
            "Write Python code that prints Hello, Portugal!\n",
            "---------- ToolCallRequestEvent (graph_overview_agent) ----------\n",
            "[FunctionCall(id='call_aih9I51AglTtAEnYjB9mR3SX', arguments='{}', name='get_graph_overview')]\n",
            "---------- ToolCallExecutionEvent (graph_overview_agent) ----------\n",
            "[FunctionExecutionResult(content='[{\\'n\\': {\\'loc\\': 9, \\'code\\': \\'def summarize_report(data: List[int]) -> Dict[str, float]:\\\\n    if not data:\\\\n        return {\"count\": 0, \"sum\": 0, \"mean\": None, \"median\": None, \"stdev\": None}\\\\n\\\\n    return {\\\\n        \"count\": len(data),\\\\n        \"sum\": calculate_sum(data),\\\\n        \"mean\": statistics.mean(data),\\\\n        \"median\": statistics.median(data),\\\\n        \"stdev\": statistics.stdev(data) if len(data) > 1 else 0.0\\\\n    }\\', \\'description\\': \\'Summarizes statistics for a given list of integers, returning a dictionary with count, sum, mean, median, and standard deviation.\\', \\'user_prompt\\': \\'Agent 1 has generated the following code: def summarize_report(data: List[int]) -> Dict[str, float]: ...\\', \\'timestamp\\': \\'2025-08-29 15:09:39\\', \\'dependencies\\': [\\'statistics\\', \\'calculate_sum\\', \\'len\\']}, \\'r\\': None, \\'m\\': None}, {\\'n\\': {\\'loc\\': 1, \\'code\\': \"print(\\'Hello, Portugal!\\')\", \\'description\\': \\'Prints a greeting to Portugal.\\', \\'user_prompt\\': \"Write Python code that prints \\'Hello, Portugal!\\'.\", \\'timestamp\\': \\'2025-08-29 15:12:04\\', \\'dependencies\\': []}, \\'r\\': None, \\'m\\': None}]', name='get_graph_overview', call_id='call_aih9I51AglTtAEnYjB9mR3SX', is_error=False)]\n",
            "---------- ToolCallSummaryMessage (graph_overview_agent) ----------\n",
            "[{'n': {'loc': 9, 'code': 'def summarize_report(data: List[int]) -> Dict[str, float]:\\n    if not data:\\n        return {\"count\": 0, \"sum\": 0, \"mean\": None, \"median\": None, \"stdev\": None}\\n\\n    return {\\n        \"count\": len(data),\\n        \"sum\": calculate_sum(data),\\n        \"mean\": statistics.mean(data),\\n        \"median\": statistics.median(data),\\n        \"stdev\": statistics.stdev(data) if len(data) > 1 else 0.0\\n    }', 'description': 'Summarizes statistics for a given list of integers, returning a dictionary with count, sum, mean, median, and standard deviation.', 'user_prompt': 'Agent 1 has generated the following code: def summarize_report(data: List[int]) -> Dict[str, float]: ...', 'timestamp': '2025-08-29 15:09:39', 'dependencies': ['statistics', 'calculate_sum', 'len']}, 'r': None, 'm': None}, {'n': {'loc': 1, 'code': \"print('Hello, Portugal!')\", 'description': 'Prints a greeting to Portugal.', 'user_prompt': \"Write Python code that prints 'Hello, Portugal!'.\", 'timestamp': '2025-08-29 15:12:04', 'dependencies': []}, 'r': None, 'm': None}]\n",
            "---------- TextMessage (graph_operator_agent) ----------\n",
            "The code and its description are already recorded in the graph as a SourceCode node:\n",
            "\n",
            "- code: print('Hello, Portugal!')\n",
            "- description: Prints a greeting to Portugal.\n",
            "- user_prompt: Write Python code that prints 'Hello, Portugal!'.\n",
            "- timestamp: 2025-08-29 15:12:04\n",
            "- dependencies: []\n",
            "- loc: 1\n",
            "\n",
            "No new entry is needed, as this output is fully captured.\n",
            "---------- ToolCallExecutionEvent (code_generator_agent) ----------\n",
            "[FunctionExecutionResult(content=\"The code and its description are already recorded in the graph as a SourceCode node:\\n\\n- code: print('Hello, Portugal!')\\n- description: Prints a greeting to Portugal.\\n- user_prompt: Write Python code that prints 'Hello, Portugal!'.\\n- timestamp: 2025-08-29 15:12:04\\n- dependencies: []\\n- loc: 1\\n\\nNo new entry is needed, as this output is fully captured.\", name='graph_operating_team', call_id='call_ijjTCHVpR2DKfnzZETk6P7JX', is_error=False)]\n",
            "---------- ToolCallSummaryMessage (code_generator_agent) ----------\n",
            "The code and its description are already recorded in the graph as a SourceCode node:\n",
            "\n",
            "- code: print('Hello, Portugal!')\n",
            "- description: Prints a greeting to Portugal.\n",
            "- user_prompt: Write Python code that prints 'Hello, Portugal!'.\n",
            "- timestamp: 2025-08-29 15:12:04\n",
            "- dependencies: []\n",
            "- loc: 1\n",
            "\n",
            "No new entry is needed, as this output is fully captured.\n"
          ]
        },
        {
          "data": {
            "text/plain": [
              "TaskResult(messages=[TextMessage(id='12a9fb3a-050c-44c6-a030-4542b03d724d', source='user', models_usage=None, metadata={}, created_at=datetime.datetime(2025, 8, 29, 15, 20, 35, 308975, tzinfo=datetime.timezone.utc), content='Write Python code that prints Hello, Portugal!', type='TextMessage'), ToolCallRequestEvent(id='6a92f28a-1402-468e-adf3-e835bfa99d40', source='code_generator_agent', models_usage=RequestUsage(prompt_tokens=111, completion_tokens=24), metadata={}, created_at=datetime.datetime(2025, 8, 29, 15, 20, 36, 575992, tzinfo=datetime.timezone.utc), content=[FunctionCall(id='call_ijjTCHVpR2DKfnzZETk6P7JX', arguments='{\"task\":\"Write Python code that prints Hello, Portugal!\"}', name='graph_operating_team')], type='ToolCallRequestEvent'), TextMessage(id='7d29c1f8-177b-4306-be2b-2fecdd8aaca1', source='user', models_usage=None, metadata={}, created_at=datetime.datetime(2025, 8, 29, 15, 20, 36, 580227, tzinfo=datetime.timezone.utc), content='Write Python code that prints Hello, Portugal!', type='TextMessage'), ToolCallRequestEvent(id='abfc11ff-513a-4eda-8259-883a222e2d11', source='graph_overview_agent', models_usage=RequestUsage(prompt_tokens=81, completion_tokens=12), metadata={}, created_at=datetime.datetime(2025, 8, 29, 15, 20, 37, 126303, tzinfo=datetime.timezone.utc), content=[FunctionCall(id='call_aih9I51AglTtAEnYjB9mR3SX', arguments='{}', name='get_graph_overview')], type='ToolCallRequestEvent'), ToolCallExecutionEvent(id='def1ff50-1add-4bd9-925b-5dbc8eaa396f', source='graph_overview_agent', models_usage=None, metadata={}, created_at=datetime.datetime(2025, 8, 29, 15, 20, 37, 708733, tzinfo=datetime.timezone.utc), content=[FunctionExecutionResult(content='[{\\'n\\': {\\'loc\\': 9, \\'code\\': \\'def summarize_report(data: List[int]) -> Dict[str, float]:\\\\n    if not data:\\\\n        return {\"count\": 0, \"sum\": 0, \"mean\": None, \"median\": None, \"stdev\": None}\\\\n\\\\n    return {\\\\n        \"count\": len(data),\\\\n        \"sum\": calculate_sum(data),\\\\n        \"mean\": statistics.mean(data),\\\\n        \"median\": statistics.median(data),\\\\n        \"stdev\": statistics.stdev(data) if len(data) > 1 else 0.0\\\\n    }\\', \\'description\\': \\'Summarizes statistics for a given list of integers, returning a dictionary with count, sum, mean, median, and standard deviation.\\', \\'user_prompt\\': \\'Agent 1 has generated the following code: def summarize_report(data: List[int]) -> Dict[str, float]: ...\\', \\'timestamp\\': \\'2025-08-29 15:09:39\\', \\'dependencies\\': [\\'statistics\\', \\'calculate_sum\\', \\'len\\']}, \\'r\\': None, \\'m\\': None}, {\\'n\\': {\\'loc\\': 1, \\'code\\': \"print(\\'Hello, Portugal!\\')\", \\'description\\': \\'Prints a greeting to Portugal.\\', \\'user_prompt\\': \"Write Python code that prints \\'Hello, Portugal!\\'.\", \\'timestamp\\': \\'2025-08-29 15:12:04\\', \\'dependencies\\': []}, \\'r\\': None, \\'m\\': None}]', name='get_graph_overview', call_id='call_aih9I51AglTtAEnYjB9mR3SX', is_error=False)], type='ToolCallExecutionEvent'), ToolCallSummaryMessage(id='20dac99a-84a9-4230-8a9e-d27d3bf858d8', source='graph_overview_agent', models_usage=None, metadata={}, created_at=datetime.datetime(2025, 8, 29, 15, 20, 37, 709234, tzinfo=datetime.timezone.utc), content='[{\\'n\\': {\\'loc\\': 9, \\'code\\': \\'def summarize_report(data: List[int]) -> Dict[str, float]:\\\\n    if not data:\\\\n        return {\"count\": 0, \"sum\": 0, \"mean\": None, \"median\": None, \"stdev\": None}\\\\n\\\\n    return {\\\\n        \"count\": len(data),\\\\n        \"sum\": calculate_sum(data),\\\\n        \"mean\": statistics.mean(data),\\\\n        \"median\": statistics.median(data),\\\\n        \"stdev\": statistics.stdev(data) if len(data) > 1 else 0.0\\\\n    }\\', \\'description\\': \\'Summarizes statistics for a given list of integers, returning a dictionary with count, sum, mean, median, and standard deviation.\\', \\'user_prompt\\': \\'Agent 1 has generated the following code: def summarize_report(data: List[int]) -> Dict[str, float]: ...\\', \\'timestamp\\': \\'2025-08-29 15:09:39\\', \\'dependencies\\': [\\'statistics\\', \\'calculate_sum\\', \\'len\\']}, \\'r\\': None, \\'m\\': None}, {\\'n\\': {\\'loc\\': 1, \\'code\\': \"print(\\'Hello, Portugal!\\')\", \\'description\\': \\'Prints a greeting to Portugal.\\', \\'user_prompt\\': \"Write Python code that prints \\'Hello, Portugal!\\'.\", \\'timestamp\\': \\'2025-08-29 15:12:04\\', \\'dependencies\\': []}, \\'r\\': None, \\'m\\': None}]', type='ToolCallSummaryMessage', tool_calls=[FunctionCall(id='call_aih9I51AglTtAEnYjB9mR3SX', arguments='{}', name='get_graph_overview')], results=[FunctionExecutionResult(content='[{\\'n\\': {\\'loc\\': 9, \\'code\\': \\'def summarize_report(data: List[int]) -> Dict[str, float]:\\\\n    if not data:\\\\n        return {\"count\": 0, \"sum\": 0, \"mean\": None, \"median\": None, \"stdev\": None}\\\\n\\\\n    return {\\\\n        \"count\": len(data),\\\\n        \"sum\": calculate_sum(data),\\\\n        \"mean\": statistics.mean(data),\\\\n        \"median\": statistics.median(data),\\\\n        \"stdev\": statistics.stdev(data) if len(data) > 1 else 0.0\\\\n    }\\', \\'description\\': \\'Summarizes statistics for a given list of integers, returning a dictionary with count, sum, mean, median, and standard deviation.\\', \\'user_prompt\\': \\'Agent 1 has generated the following code: def summarize_report(data: List[int]) -> Dict[str, float]: ...\\', \\'timestamp\\': \\'2025-08-29 15:09:39\\', \\'dependencies\\': [\\'statistics\\', \\'calculate_sum\\', \\'len\\']}, \\'r\\': None, \\'m\\': None}, {\\'n\\': {\\'loc\\': 1, \\'code\\': \"print(\\'Hello, Portugal!\\')\", \\'description\\': \\'Prints a greeting to Portugal.\\', \\'user_prompt\\': \"Write Python code that prints \\'Hello, Portugal!\\'.\", \\'timestamp\\': \\'2025-08-29 15:12:04\\', \\'dependencies\\': []}, \\'r\\': None, \\'m\\': None}]', name='get_graph_overview', call_id='call_aih9I51AglTtAEnYjB9mR3SX', is_error=False)]), TextMessage(id='765ab3a7-f286-47e7-9938-1dd117313dd7', source='graph_operator_agent', models_usage=RequestUsage(prompt_tokens=708, completion_tokens=91), metadata={}, created_at=datetime.datetime(2025, 8, 29, 15, 20, 39, 580733, tzinfo=datetime.timezone.utc), content=\"The code and its description are already recorded in the graph as a SourceCode node:\\n\\n- code: print('Hello, Portugal!')\\n- description: Prints a greeting to Portugal.\\n- user_prompt: Write Python code that prints 'Hello, Portugal!'.\\n- timestamp: 2025-08-29 15:12:04\\n- dependencies: []\\n- loc: 1\\n\\nNo new entry is needed, as this output is fully captured.\", type='TextMessage'), ToolCallExecutionEvent(id='f469701c-518d-4958-835d-a0c3536bb50e', source='code_generator_agent', models_usage=None, metadata={}, created_at=datetime.datetime(2025, 8, 29, 15, 20, 39, 586986, tzinfo=datetime.timezone.utc), content=[FunctionExecutionResult(content=\"The code and its description are already recorded in the graph as a SourceCode node:\\n\\n- code: print('Hello, Portugal!')\\n- description: Prints a greeting to Portugal.\\n- user_prompt: Write Python code that prints 'Hello, Portugal!'.\\n- timestamp: 2025-08-29 15:12:04\\n- dependencies: []\\n- loc: 1\\n\\nNo new entry is needed, as this output is fully captured.\", name='graph_operating_team', call_id='call_ijjTCHVpR2DKfnzZETk6P7JX', is_error=False)], type='ToolCallExecutionEvent'), ToolCallSummaryMessage(id='1a332e23-1bdf-4709-9ffc-5ac558073111', source='code_generator_agent', models_usage=None, metadata={}, created_at=datetime.datetime(2025, 8, 29, 15, 20, 39, 588729, tzinfo=datetime.timezone.utc), content=\"The code and its description are already recorded in the graph as a SourceCode node:\\n\\n- code: print('Hello, Portugal!')\\n- description: Prints a greeting to Portugal.\\n- user_prompt: Write Python code that prints 'Hello, Portugal!'.\\n- timestamp: 2025-08-29 15:12:04\\n- dependencies: []\\n- loc: 1\\n\\nNo new entry is needed, as this output is fully captured.\", type='ToolCallSummaryMessage', tool_calls=[FunctionCall(id='call_ijjTCHVpR2DKfnzZETk6P7JX', arguments='{\"task\":\"Write Python code that prints Hello, Portugal!\"}', name='graph_operating_team')], results=[FunctionExecutionResult(content=\"The code and its description are already recorded in the graph as a SourceCode node:\\n\\n- code: print('Hello, Portugal!')\\n- description: Prints a greeting to Portugal.\\n- user_prompt: Write Python code that prints 'Hello, Portugal!'.\\n- timestamp: 2025-08-29 15:12:04\\n- dependencies: []\\n- loc: 1\\n\\nNo new entry is needed, as this output is fully captured.\", name='graph_operating_team', call_id='call_ijjTCHVpR2DKfnzZETk6P7JX', is_error=False)])], stop_reason=None)"
            ]
          },
          "execution_count": 89,
          "metadata": {},
          "output_type": "execute_result"
        }
      ],
      "source": [
        "# Test:\n",
        "test_task = \"Write Python code that prints Hello, Portugal!\"\n",
        "\n",
        "await Console(monitored_code_generator_agent.run_stream(task=test_task))"
      ]
    },
    {
      "cell_type": "markdown",
      "id": "ZCl668yhJcPW",
      "metadata": {
        "id": "ZCl668yhJcPW"
      },
      "source": [
        "####  Agent Specialized in Technical Debt Detection (with Memory)"
      ]
    },
    {
      "cell_type": "markdown",
      "id": "cOsMXRL-JR-v",
      "metadata": {
        "id": "cOsMXRL-JR-v"
      },
      "source": [
        "This agent is responsible for identifying technical debt in code. It will recieve a prompt consisting of a description of technical debt alongside the code to analyse and output a response containing the type, location and description of technical debt.\n",
        "\n",
        "To improve performance we can include a list of technical debt items to look for, improving precision of non-technical llms by providing a description of each type. In addition, we can use a one shot or zero shot prompt by including examples of each type we want to look for.\n",
        "\n",
        "How can this be improved?\n",
        "  - Does the average LLM contain enough information about technical debt to accurately identify Technical debt items?\n",
        "  - Would we see improvement by using a code focused LLM?\n",
        "  - How could we utilize techniques such as RAG to improve this implementation?"
      ]
    },
    {
      "cell_type": "code",
      "execution_count": 22,
      "id": "9kyx8fFyZl00",
      "metadata": {
        "id": "9kyx8fFyZl00"
      },
      "outputs": [],
      "source": [
        "# Structure the output - expected format:\n",
        "class LocationRange(BaseModel):\n",
        "    \"\"\"Represents a code location as a line range (inclusive).\"\"\"\n",
        "    start_line: int\n",
        "    end_line: int\n",
        "\n",
        "class TDIdentifierStructuredOutput(BaseModel):\n",
        "    \"\"\"\n",
        "    Structured output for identified technical debt.\n",
        "    Notes:\n",
        "        - `technical_debt_types`, `descriptions`, and `locations`\n",
        "          MUST always have the same length.\n",
        "    \"\"\"\n",
        "    technical_debt_types: List[str] | None\n",
        "    descriptions: List[str] | None\n",
        "    location: List[LocationRange] | None"
      ]
    },
    {
      "cell_type": "code",
      "execution_count": 23,
      "id": "wxF3pyadLAp0",
      "metadata": {
        "id": "wxF3pyadLAp0"
      },
      "outputs": [],
      "source": [
        "# Initialize memory of the agent:\n",
        "tdidentifier_memory = ListMemory()"
      ]
    },
    {
      "cell_type": "code",
      "execution_count": 24,
      "id": "LPZJYr2YLHbE",
      "metadata": {
        "id": "LPZJYr2YLHbE"
      },
      "outputs": [],
      "source": [
        "await tdidentifier_memory.add(MemoryContent(content=\"\"\"[Duplicated code blocks] It refers to instances where the same or very similar code blocks\n",
        "                                     appear in multiple locations within a software project. It can lead to maintenance challenges, as any change to the\n",
        "                                     logic would need to be replicated across all instances to maintain consistency. It also increases the codebase size\n",
        "                                     unnecessarily and can lead to bugs if the copies diverge over time.\"\"\", mime_type=MemoryMimeType.TEXT))"
      ]
    },
    {
      "cell_type": "code",
      "execution_count": 25,
      "id": "eatS7bv1LboG",
      "metadata": {
        "id": "eatS7bv1LboG"
      },
      "outputs": [],
      "source": [
        "await tdidentifier_memory.add(MemoryContent(content=\"\"\"[Nested flow statements] It refers to situations where control structures like loops or conditional\n",
        "                                    statements (e.g., for, while, if-else) are placed within one another, often to several levels of depth. This nesting\n",
        "                                    can lead to code that is difficult to read, understand, and maintain. It can make debugging challenging and increase the\n",
        "                                     risk of errors, as understanding the logic flow becomes more complex with each added level.\"\"\", mime_type=MemoryMimeType.TEXT))"
      ]
    },
    {
      "cell_type": "code",
      "execution_count": 26,
      "id": "S1dfygfYMH5Y",
      "metadata": {
        "id": "S1dfygfYMH5Y"
      },
      "outputs": [],
      "source": [
        "await tdidentifier_memory.add(MemoryContent(content=\"\"\" [Long method/Complex Class] It refers to methods or classes in software that are overly long or complex.\n",
        "                                                  A method contains too many lines of code, or a class has too many responsibilities, violating principles like\n",
        "                                                   Single Responsibility and leading to code that's hard to understand, maintain, and test. Such methods or\n",
        "                                                    classes often encapsulate multiple functionalities, making them prone to bugs and difficult to modify. \"\"\", mime_type=MemoryMimeType.TEXT))"
      ]
    },
    {
      "cell_type": "code",
      "execution_count": 27,
      "id": "1CzSusheaQlB",
      "metadata": {
        "id": "1CzSusheaQlB"
      },
      "outputs": [],
      "source": [
        "# Agent that identifies technical debt\n",
        "td_identifier_agent = AssistantAgent(\n",
        "    name = \"technical_debt_identifier\",\n",
        "    model_client = openai_model_client,\n",
        "    system_message = \"\"\"Your name is technical_debt_identifier.\n",
        "                      Your role is to identify technical and architectural debt in the provided code.\"\"\",\n",
        "    output_content_type = TDIdentifierStructuredOutput,\n",
        "    memory=[tdidentifier_memory]\n",
        ")"
      ]
    },
    {
      "cell_type": "code",
      "execution_count": 29,
      "id": "poQhboEYMhWW",
      "metadata": {
        "id": "poQhboEYMhWW"
      },
      "outputs": [],
      "source": [
        "# Agent that identifies technical debt (monitored version)\n",
        "monitored_td_identifier_agent = AssistantAgent(\n",
        "    name = \"technical_debt_identifier\",\n",
        "    model_client = openai_model_client_no_parallel_calls,\n",
        "    system_message = \"\"\"Your name is technical_debt_identifier.\n",
        "                      Your role is to identify technical and architectural debt in the provided code, then call the graph_tool (always!).\n",
        "                      Remember to call the graph_tool to capture the identified technical debt in graph format. \"\"\",\n",
        "    output_content_type = TDIdentifierStructuredOutput,\n",
        "    memory = [tdidentifier_memory],\n",
        "    reflect_on_tool_use = False,\n",
        "    tools = [graph_tool],\n",
        ")"
      ]
    },
    {
      "cell_type": "code",
      "execution_count": 33,
      "id": "Hv_a0Hs8Yqpf",
      "metadata": {
        "colab": {
          "base_uri": "https://localhost:8080/"
        },
        "id": "Hv_a0Hs8Yqpf",
        "outputId": "be1108e3-699f-41d0-ab14-29a3bd1b230d"
      },
      "outputs": [
        {
          "name": "stdout",
          "output_type": "stream",
          "text": [
            "---------- TextMessage (user) ----------\n",
            "Generated code: \n",
            "def calculate_total(items):\n",
            "    total = 0\n",
            "    for item in items:\n",
            "        total += item['price'] * item['quantity']\n",
            "    return total\n",
            "\n",
            "# TODO: Add error handling for missing keys\n",
            "\n",
            "---------- MemoryQueryEvent (technical_debt_identifier) ----------\n",
            "[MemoryContent(content='[Duplicated code blocks] It refers to instances where the same or very similar code blocks\\n                                     appear in multiple locations within a software project. It can lead to maintenance challenges, as any change to the\\n                                     logic would need to be replicated across all instances to maintain consistency. It also increases the codebase size\\n                                     unnecessarily and can lead to bugs if the copies diverge over time.', mime_type=<MemoryMimeType.TEXT: 'text/plain'>, metadata=None), MemoryContent(content='[Nested flow statements] It refers to situations where control structures like loops or conditional\\n                                    statements (e.g., for, while, if-else) are placed within one another, often to several levels of depth. This nesting\\n                                    can lead to code that is difficult to read, understand, and maintain. It can make debugging challenging and increase the\\n                                     risk of errors, as understanding the logic flow becomes more complex with each added level.', mime_type=<MemoryMimeType.TEXT: 'text/plain'>, metadata=None), MemoryContent(content=\" [Long method/Complex Class] It refers to methods or classes in software that are overly long or complex.\\n                                                  A method contains too many lines of code, or a class has too many responsibilities, violating principles like\\n                                                   Single Responsibility and leading to code that's hard to understand, maintain, and test. Such methods or\\n                                                    classes often encapsulate multiple functionalities, making them prone to bugs and difficult to modify. \", mime_type=<MemoryMimeType.TEXT: 'text/plain'>, metadata=None)]\n",
            "---------- ThoughtEvent (technical_debt_identifier) ----------\n",
            "{\"technical_debt_types\":[\"Missing error handling\"],\"descriptions\":[\"The function assumes that the dictionary items will always contain the 'price' and 'quantity' keys. If these keys are missing, the function will raise a KeyError. The presence of a TODO comment highlights this as known technical debt.\"],\"location\":[{\"start_line\":1,\"end_line\":6}]}\n",
            "---------- ToolCallRequestEvent (technical_debt_identifier) ----------\n",
            "[FunctionCall(id='call_KJjMKbxK8kXkFVq2My4Qosnp', arguments='{\"task\":\"Technical debt identified: calculate_total function (lines 1-6) lacks error handling for missing keys (\\'price\\', \\'quantity\\') in the item dictionaries. This can cause runtime KeyError exceptions, as noted by the TODO comment.\"}', name='graph_operating_team')]\n",
            "---------- TextMessage (user) ----------\n",
            "Technical debt identified: calculate_total function (lines 1-6) lacks error handling for missing keys ('price', 'quantity') in the item dictionaries. This can cause runtime KeyError exceptions, as noted by the TODO comment.\n",
            "---------- ToolCallRequestEvent (graph_overview_agent) ----------\n",
            "[FunctionCall(id='call_yzms1Kii3I35TfThGiGVbSSu', arguments='{}', name='get_graph_overview')]\n",
            "---------- ToolCallExecutionEvent (graph_overview_agent) ----------\n",
            "[FunctionExecutionResult(content='[{\\'n\\': {\\'loc\\': 9, \\'code\\': \\'def summarize_report(data: List[int]) -> Dict[str, float]:\\\\n    if not data:\\\\n        return {\"count\": 0, \"sum\": 0, \"mean\": None, \"median\": None, \"stdev\": None}\\\\n\\\\n    return {\\\\n        \"count\": len(data),\\\\n        \"sum\": calculate_sum(data),\\\\n        \"mean\": statistics.mean(data),\\\\n        \"median\": statistics.median(data),\\\\n        \"stdev\": statistics.stdev(data) if len(data) > 1 else 0.0\\\\n    }\\', \\'description\\': \\'Summarizes statistics for a given list of integers, returning a dictionary with count, sum, mean, median, and standard deviation.\\', \\'user_prompt\\': \\'Agent 1 has generated the following code: def summarize_report(data: List[int]) -> Dict[str, float]: ...\\', \\'timestamp\\': \\'2025-08-29 15:09:39\\', \\'dependencies\\': [\\'statistics\\', \\'calculate_sum\\', \\'len\\']}, \\'r\\': None, \\'m\\': None}, {\\'n\\': {\\'loc\\': 1, \\'code\\': \"print(\\'Hello, Portugal!\\')\", \\'description\\': \\'Prints a greeting to Portugal.\\', \\'user_prompt\\': \"Write Python code that prints \\'Hello, Portugal!\\'.\", \\'timestamp\\': \\'2025-08-29 15:12:04\\', \\'dependencies\\': []}, \\'r\\': None, \\'m\\': None}, {\\'n\\': {\\'description\\': [\\'TODO comment inside argument list of print statement leads to syntax error. Indicates incomplete implementation and poor code quality: unfinished code and lack of proper commenting. Recommended action: Move TODO comment out of code statement and complete feature for user-defined input.\\'], \\'location\\': \\'lines 1\\', \\'timestamp\\': \\'2025-08-29 15:15:00\\'}, \\'r\\': ({\\'description\\': [\\'TODO comment inside argument list of print statement leads to syntax error. Indicates incomplete implementation and poor code quality: unfinished code and lack of proper commenting. Recommended action: Move TODO comment out of code statement and complete feature for user-defined input.\\'], \\'location\\': \\'lines 1\\', \\'timestamp\\': \\'2025-08-29 15:15:00\\'}, \\'IdentifiedIn\\', {\\'timestamp\\': \\'2025-08-29 15:12:04\\'}), \\'m\\': {\\'timestamp\\': \\'2025-08-29 15:12:04\\'}}, {\\'n\\': {\\'timestamp\\': \\'2025-08-29 15:12:04\\'}, \\'r\\': ({\\'description\\': [\\'TODO comment inside argument list of print statement leads to syntax error. Indicates incomplete implementation and poor code quality: unfinished code and lack of proper commenting. Recommended action: Move TODO comment out of code statement and complete feature for user-defined input.\\'], \\'location\\': \\'lines 1\\', \\'timestamp\\': \\'2025-08-29 15:15:00\\'}, \\'IdentifiedIn\\', {\\'timestamp\\': \\'2025-08-29 15:12:04\\'}), \\'m\\': {\\'description\\': [\\'TODO comment inside argument list of print statement leads to syntax error. Indicates incomplete implementation and poor code quality: unfinished code and lack of proper commenting. Recommended action: Move TODO comment out of code statement and complete feature for user-defined input.\\'], \\'location\\': \\'lines 1\\', \\'timestamp\\': \\'2025-08-29 15:15:00\\'}}, {\\'n\\': {\\'loc\\': 9, \\'code\\': \\'def summarize_report(data: List[int]) -> Dict[str, float]:\\\\n    if not data:\\\\n        return {\"count\": 0, \"sum\": 0, \"mean\": None, \"median\": None, \"stdev\": None}\\\\n\\\\n    return {\\\\n        \"count\": len(data),\\\\n        \"sum\": calculate_sum(data),\\\\n        \"mean\": statistics.mean(data),\\\\n        \"median\": statistics.median(data),\\\\n        \"stdev\": statistics.stdev(data) if len(data) > 1 else 0.0\\\\n    }\\', \\'description\\': \\'Summarizes statistics for a given list of integers, returning a dictionary with count, sum, mean, median, and standard deviation.\\', \\'user_prompt\\': \\'Agent 1 has generated the following code:\\\\n          def summarize_report(data: List[int]) -> Dict[str, float]:\\\\n        if not data:\\\\n            return {\"count\": 0, \"sum\": 0, \"mean\": None, \"median\": None, \"stdev\": None}\\\\n\\\\n        return {\\\\n            \"count\": len(data),\\\\n            \"sum\": calculate_sum(data),\\\\n            \"mean\": statistics.mean(data),\\\\n            \"median\": statistics.median(data),\\\\n            \"stdev\": statistics.stdev(data) if len(data) > 1 else 0.0\\\\n        }\\', \\'timestamp\\': \\'2025-08-30 10:30:53\\', \\'dependencies\\': [\\'statistics\\', \\'calculate_sum\\', \\'len\\']}, \\'r\\': None, \\'m\\': None}, {\\'n\\': {\\'description\\': [\"Missing error handling for potential missing keys (\\'price\\', \\'quantity\\') in each item in the iteration within the calculate_total function (lines 1-6). This can lead to runtime exceptions and unhandled errors.\"], \\'location\\': \\'lines 1-6\\', \\'timestamp\\': \\'2025-08-30 10:37:00\\'}, \\'r\\': None, \\'m\\': None}]', name='get_graph_overview', call_id='call_yzms1Kii3I35TfThGiGVbSSu', is_error=False)]\n",
            "---------- ToolCallSummaryMessage (graph_overview_agent) ----------\n",
            "[{'n': {'loc': 9, 'code': 'def summarize_report(data: List[int]) -> Dict[str, float]:\\n    if not data:\\n        return {\"count\": 0, \"sum\": 0, \"mean\": None, \"median\": None, \"stdev\": None}\\n\\n    return {\\n        \"count\": len(data),\\n        \"sum\": calculate_sum(data),\\n        \"mean\": statistics.mean(data),\\n        \"median\": statistics.median(data),\\n        \"stdev\": statistics.stdev(data) if len(data) > 1 else 0.0\\n    }', 'description': 'Summarizes statistics for a given list of integers, returning a dictionary with count, sum, mean, median, and standard deviation.', 'user_prompt': 'Agent 1 has generated the following code: def summarize_report(data: List[int]) -> Dict[str, float]: ...', 'timestamp': '2025-08-29 15:09:39', 'dependencies': ['statistics', 'calculate_sum', 'len']}, 'r': None, 'm': None}, {'n': {'loc': 1, 'code': \"print('Hello, Portugal!')\", 'description': 'Prints a greeting to Portugal.', 'user_prompt': \"Write Python code that prints 'Hello, Portugal!'.\", 'timestamp': '2025-08-29 15:12:04', 'dependencies': []}, 'r': None, 'm': None}, {'n': {'description': ['TODO comment inside argument list of print statement leads to syntax error. Indicates incomplete implementation and poor code quality: unfinished code and lack of proper commenting. Recommended action: Move TODO comment out of code statement and complete feature for user-defined input.'], 'location': 'lines 1', 'timestamp': '2025-08-29 15:15:00'}, 'r': ({'description': ['TODO comment inside argument list of print statement leads to syntax error. Indicates incomplete implementation and poor code quality: unfinished code and lack of proper commenting. Recommended action: Move TODO comment out of code statement and complete feature for user-defined input.'], 'location': 'lines 1', 'timestamp': '2025-08-29 15:15:00'}, 'IdentifiedIn', {'timestamp': '2025-08-29 15:12:04'}), 'm': {'timestamp': '2025-08-29 15:12:04'}}, {'n': {'timestamp': '2025-08-29 15:12:04'}, 'r': ({'description': ['TODO comment inside argument list of print statement leads to syntax error. Indicates incomplete implementation and poor code quality: unfinished code and lack of proper commenting. Recommended action: Move TODO comment out of code statement and complete feature for user-defined input.'], 'location': 'lines 1', 'timestamp': '2025-08-29 15:15:00'}, 'IdentifiedIn', {'timestamp': '2025-08-29 15:12:04'}), 'm': {'description': ['TODO comment inside argument list of print statement leads to syntax error. Indicates incomplete implementation and poor code quality: unfinished code and lack of proper commenting. Recommended action: Move TODO comment out of code statement and complete feature for user-defined input.'], 'location': 'lines 1', 'timestamp': '2025-08-29 15:15:00'}}, {'n': {'loc': 9, 'code': 'def summarize_report(data: List[int]) -> Dict[str, float]:\\n    if not data:\\n        return {\"count\": 0, \"sum\": 0, \"mean\": None, \"median\": None, \"stdev\": None}\\n\\n    return {\\n        \"count\": len(data),\\n        \"sum\": calculate_sum(data),\\n        \"mean\": statistics.mean(data),\\n        \"median\": statistics.median(data),\\n        \"stdev\": statistics.stdev(data) if len(data) > 1 else 0.0\\n    }', 'description': 'Summarizes statistics for a given list of integers, returning a dictionary with count, sum, mean, median, and standard deviation.', 'user_prompt': 'Agent 1 has generated the following code:\\n          def summarize_report(data: List[int]) -> Dict[str, float]:\\n        if not data:\\n            return {\"count\": 0, \"sum\": 0, \"mean\": None, \"median\": None, \"stdev\": None}\\n\\n        return {\\n            \"count\": len(data),\\n            \"sum\": calculate_sum(data),\\n            \"mean\": statistics.mean(data),\\n            \"median\": statistics.median(data),\\n            \"stdev\": statistics.stdev(data) if len(data) > 1 else 0.0\\n        }', 'timestamp': '2025-08-30 10:30:53', 'dependencies': ['statistics', 'calculate_sum', 'len']}, 'r': None, 'm': None}, {'n': {'description': [\"Missing error handling for potential missing keys ('price', 'quantity') in each item in the iteration within the calculate_total function (lines 1-6). This can lead to runtime exceptions and unhandled errors.\"], 'location': 'lines 1-6', 'timestamp': '2025-08-30 10:37:00'}, 'r': None, 'm': None}]\n",
            "---------- ToolCallRequestEvent (graph_operator_agent) ----------\n",
            "[FunctionCall(id='call_5UjiBh57w3VQibQOLLW0yoWc', arguments='{\"query\":\"CREATE (tdi:TechnicalDebtItem {timestamp: \\'2025-08-30 10:38:00\\', description: [\\'calculate_total function (lines 1-6) lacks error handling for missing keys (\\\\\\\\\\'price\\\\\\\\\\', \\\\\\\\\\'quantity\\\\\\\\\\') in the item dictionaries. This can cause runtime KeyError exceptions, as noted by the TODO comment.\\'], location: \\'lines 1-6\\'})\"}', name='run_query')]\n",
            "---------- ToolCallExecutionEvent (graph_operator_agent) ----------\n",
            "[FunctionExecutionResult(content='[]', name='run_query', call_id='call_5UjiBh57w3VQibQOLLW0yoWc', is_error=False)]\n",
            "---------- TextMessage (graph_operator_agent) ----------\n",
            "The technical debt item regarding the lack of error handling for missing keys ('price', 'quantity') in the calculate_total function (lines 1-6), as indicated by the TODO comment and the risk of KeyError, has been recorded as a new TechnicalDebtItem node in the graph.\n",
            "---------- ToolCallExecutionEvent (technical_debt_identifier) ----------\n",
            "[FunctionExecutionResult(content=\"The technical debt item regarding the lack of error handling for missing keys ('price', 'quantity') in the calculate_total function (lines 1-6), as indicated by the TODO comment and the risk of KeyError, has been recorded as a new TechnicalDebtItem node in the graph.\", name='graph_operating_team', call_id='call_KJjMKbxK8kXkFVq2My4Qosnp', is_error=False)]\n",
            "---------- ToolCallSummaryMessage (technical_debt_identifier) ----------\n",
            "The technical debt item regarding the lack of error handling for missing keys ('price', 'quantity') in the calculate_total function (lines 1-6), as indicated by the TODO comment and the risk of KeyError, has been recorded as a new TechnicalDebtItem node in the graph.\n"
          ]
        },
        {
          "data": {
            "text/plain": [
              "TaskResult(messages=[TextMessage(id='02635611-3570-4112-99bd-492168bae7f9', source='user', models_usage=None, metadata={}, created_at=datetime.datetime(2025, 8, 30, 8, 37, 2, 470782, tzinfo=datetime.timezone.utc), content=\"Generated code: \\ndef calculate_total(items):\\n    total = 0\\n    for item in items:\\n        total += item['price'] * item['quantity']\\n    return total\\n\\n# TODO: Add error handling for missing keys\\n\", type='TextMessage'), MemoryQueryEvent(id='a6761116-a792-4da8-b5b6-1ee3834bdb30', source='technical_debt_identifier', models_usage=None, metadata={}, created_at=datetime.datetime(2025, 8, 30, 8, 37, 2, 473903, tzinfo=datetime.timezone.utc), content=[MemoryContent(content='[Duplicated code blocks] It refers to instances where the same or very similar code blocks\\n                                     appear in multiple locations within a software project. It can lead to maintenance challenges, as any change to the\\n                                     logic would need to be replicated across all instances to maintain consistency. It also increases the codebase size\\n                                     unnecessarily and can lead to bugs if the copies diverge over time.', mime_type=<MemoryMimeType.TEXT: 'text/plain'>, metadata=None), MemoryContent(content='[Nested flow statements] It refers to situations where control structures like loops or conditional\\n                                    statements (e.g., for, while, if-else) are placed within one another, often to several levels of depth. This nesting\\n                                    can lead to code that is difficult to read, understand, and maintain. It can make debugging challenging and increase the\\n                                     risk of errors, as understanding the logic flow becomes more complex with each added level.', mime_type=<MemoryMimeType.TEXT: 'text/plain'>, metadata=None), MemoryContent(content=\" [Long method/Complex Class] It refers to methods or classes in software that are overly long or complex.\\n                                                  A method contains too many lines of code, or a class has too many responsibilities, violating principles like\\n                                                   Single Responsibility and leading to code that's hard to understand, maintain, and test. Such methods or\\n                                                    classes often encapsulate multiple functionalities, making them prone to bugs and difficult to modify. \", mime_type=<MemoryMimeType.TEXT: 'text/plain'>, metadata=None)], type='MemoryQueryEvent'), ThoughtEvent(id='6f3b484e-2288-43fe-aef4-1c206cec00be', source='technical_debt_identifier', models_usage=None, metadata={}, created_at=datetime.datetime(2025, 8, 30, 8, 37, 4, 735473, tzinfo=datetime.timezone.utc), content='{\"technical_debt_types\":[\"Missing error handling\"],\"descriptions\":[\"The function assumes that the dictionary items will always contain the \\'price\\' and \\'quantity\\' keys. If these keys are missing, the function will raise a KeyError. The presence of a TODO comment highlights this as known technical debt.\"],\"location\":[{\"start_line\":1,\"end_line\":6}]}', type='ThoughtEvent'), ToolCallRequestEvent(id='86fb5274-269f-4147-b067-2e5bd0462c5a', source='technical_debt_identifier', models_usage=RequestUsage(prompt_tokens=1175, completion_tokens=144), metadata={}, created_at=datetime.datetime(2025, 8, 30, 8, 37, 4, 738014, tzinfo=datetime.timezone.utc), content=[FunctionCall(id='call_KJjMKbxK8kXkFVq2My4Qosnp', arguments='{\"task\":\"Technical debt identified: calculate_total function (lines 1-6) lacks error handling for missing keys (\\'price\\', \\'quantity\\') in the item dictionaries. This can cause runtime KeyError exceptions, as noted by the TODO comment.\"}', name='graph_operating_team')], type='ToolCallRequestEvent'), TextMessage(id='601c4718-0f07-422b-be2f-57111f5e14bc', source='user', models_usage=None, metadata={}, created_at=datetime.datetime(2025, 8, 30, 8, 37, 4, 741542, tzinfo=datetime.timezone.utc), content=\"Technical debt identified: calculate_total function (lines 1-6) lacks error handling for missing keys ('price', 'quantity') in the item dictionaries. This can cause runtime KeyError exceptions, as noted by the TODO comment.\", type='TextMessage'), ToolCallRequestEvent(id='68b164e2-e6ed-470c-b33f-ad80c5ac8404', source='graph_overview_agent', models_usage=RequestUsage(prompt_tokens=118, completion_tokens=12), metadata={}, created_at=datetime.datetime(2025, 8, 30, 8, 37, 5, 432400, tzinfo=datetime.timezone.utc), content=[FunctionCall(id='call_yzms1Kii3I35TfThGiGVbSSu', arguments='{}', name='get_graph_overview')], type='ToolCallRequestEvent'), ToolCallExecutionEvent(id='38859297-11ac-4d70-b81e-613db5ce56c5', source='graph_overview_agent', models_usage=None, metadata={}, created_at=datetime.datetime(2025, 8, 30, 8, 37, 5, 800457, tzinfo=datetime.timezone.utc), content=[FunctionExecutionResult(content='[{\\'n\\': {\\'loc\\': 9, \\'code\\': \\'def summarize_report(data: List[int]) -> Dict[str, float]:\\\\n    if not data:\\\\n        return {\"count\": 0, \"sum\": 0, \"mean\": None, \"median\": None, \"stdev\": None}\\\\n\\\\n    return {\\\\n        \"count\": len(data),\\\\n        \"sum\": calculate_sum(data),\\\\n        \"mean\": statistics.mean(data),\\\\n        \"median\": statistics.median(data),\\\\n        \"stdev\": statistics.stdev(data) if len(data) > 1 else 0.0\\\\n    }\\', \\'description\\': \\'Summarizes statistics for a given list of integers, returning a dictionary with count, sum, mean, median, and standard deviation.\\', \\'user_prompt\\': \\'Agent 1 has generated the following code: def summarize_report(data: List[int]) -> Dict[str, float]: ...\\', \\'timestamp\\': \\'2025-08-29 15:09:39\\', \\'dependencies\\': [\\'statistics\\', \\'calculate_sum\\', \\'len\\']}, \\'r\\': None, \\'m\\': None}, {\\'n\\': {\\'loc\\': 1, \\'code\\': \"print(\\'Hello, Portugal!\\')\", \\'description\\': \\'Prints a greeting to Portugal.\\', \\'user_prompt\\': \"Write Python code that prints \\'Hello, Portugal!\\'.\", \\'timestamp\\': \\'2025-08-29 15:12:04\\', \\'dependencies\\': []}, \\'r\\': None, \\'m\\': None}, {\\'n\\': {\\'description\\': [\\'TODO comment inside argument list of print statement leads to syntax error. Indicates incomplete implementation and poor code quality: unfinished code and lack of proper commenting. Recommended action: Move TODO comment out of code statement and complete feature for user-defined input.\\'], \\'location\\': \\'lines 1\\', \\'timestamp\\': \\'2025-08-29 15:15:00\\'}, \\'r\\': ({\\'description\\': [\\'TODO comment inside argument list of print statement leads to syntax error. Indicates incomplete implementation and poor code quality: unfinished code and lack of proper commenting. Recommended action: Move TODO comment out of code statement and complete feature for user-defined input.\\'], \\'location\\': \\'lines 1\\', \\'timestamp\\': \\'2025-08-29 15:15:00\\'}, \\'IdentifiedIn\\', {\\'timestamp\\': \\'2025-08-29 15:12:04\\'}), \\'m\\': {\\'timestamp\\': \\'2025-08-29 15:12:04\\'}}, {\\'n\\': {\\'timestamp\\': \\'2025-08-29 15:12:04\\'}, \\'r\\': ({\\'description\\': [\\'TODO comment inside argument list of print statement leads to syntax error. Indicates incomplete implementation and poor code quality: unfinished code and lack of proper commenting. Recommended action: Move TODO comment out of code statement and complete feature for user-defined input.\\'], \\'location\\': \\'lines 1\\', \\'timestamp\\': \\'2025-08-29 15:15:00\\'}, \\'IdentifiedIn\\', {\\'timestamp\\': \\'2025-08-29 15:12:04\\'}), \\'m\\': {\\'description\\': [\\'TODO comment inside argument list of print statement leads to syntax error. Indicates incomplete implementation and poor code quality: unfinished code and lack of proper commenting. Recommended action: Move TODO comment out of code statement and complete feature for user-defined input.\\'], \\'location\\': \\'lines 1\\', \\'timestamp\\': \\'2025-08-29 15:15:00\\'}}, {\\'n\\': {\\'loc\\': 9, \\'code\\': \\'def summarize_report(data: List[int]) -> Dict[str, float]:\\\\n    if not data:\\\\n        return {\"count\": 0, \"sum\": 0, \"mean\": None, \"median\": None, \"stdev\": None}\\\\n\\\\n    return {\\\\n        \"count\": len(data),\\\\n        \"sum\": calculate_sum(data),\\\\n        \"mean\": statistics.mean(data),\\\\n        \"median\": statistics.median(data),\\\\n        \"stdev\": statistics.stdev(data) if len(data) > 1 else 0.0\\\\n    }\\', \\'description\\': \\'Summarizes statistics for a given list of integers, returning a dictionary with count, sum, mean, median, and standard deviation.\\', \\'user_prompt\\': \\'Agent 1 has generated the following code:\\\\n          def summarize_report(data: List[int]) -> Dict[str, float]:\\\\n        if not data:\\\\n            return {\"count\": 0, \"sum\": 0, \"mean\": None, \"median\": None, \"stdev\": None}\\\\n\\\\n        return {\\\\n            \"count\": len(data),\\\\n            \"sum\": calculate_sum(data),\\\\n            \"mean\": statistics.mean(data),\\\\n            \"median\": statistics.median(data),\\\\n            \"stdev\": statistics.stdev(data) if len(data) > 1 else 0.0\\\\n        }\\', \\'timestamp\\': \\'2025-08-30 10:30:53\\', \\'dependencies\\': [\\'statistics\\', \\'calculate_sum\\', \\'len\\']}, \\'r\\': None, \\'m\\': None}, {\\'n\\': {\\'description\\': [\"Missing error handling for potential missing keys (\\'price\\', \\'quantity\\') in each item in the iteration within the calculate_total function (lines 1-6). This can lead to runtime exceptions and unhandled errors.\"], \\'location\\': \\'lines 1-6\\', \\'timestamp\\': \\'2025-08-30 10:37:00\\'}, \\'r\\': None, \\'m\\': None}]', name='get_graph_overview', call_id='call_yzms1Kii3I35TfThGiGVbSSu', is_error=False)], type='ToolCallExecutionEvent'), ToolCallSummaryMessage(id='12f04d8f-e7e8-4e17-8c22-f88416c2f37b', source='graph_overview_agent', models_usage=None, metadata={}, created_at=datetime.datetime(2025, 8, 30, 8, 37, 5, 800457, tzinfo=datetime.timezone.utc), content='[{\\'n\\': {\\'loc\\': 9, \\'code\\': \\'def summarize_report(data: List[int]) -> Dict[str, float]:\\\\n    if not data:\\\\n        return {\"count\": 0, \"sum\": 0, \"mean\": None, \"median\": None, \"stdev\": None}\\\\n\\\\n    return {\\\\n        \"count\": len(data),\\\\n        \"sum\": calculate_sum(data),\\\\n        \"mean\": statistics.mean(data),\\\\n        \"median\": statistics.median(data),\\\\n        \"stdev\": statistics.stdev(data) if len(data) > 1 else 0.0\\\\n    }\\', \\'description\\': \\'Summarizes statistics for a given list of integers, returning a dictionary with count, sum, mean, median, and standard deviation.\\', \\'user_prompt\\': \\'Agent 1 has generated the following code: def summarize_report(data: List[int]) -> Dict[str, float]: ...\\', \\'timestamp\\': \\'2025-08-29 15:09:39\\', \\'dependencies\\': [\\'statistics\\', \\'calculate_sum\\', \\'len\\']}, \\'r\\': None, \\'m\\': None}, {\\'n\\': {\\'loc\\': 1, \\'code\\': \"print(\\'Hello, Portugal!\\')\", \\'description\\': \\'Prints a greeting to Portugal.\\', \\'user_prompt\\': \"Write Python code that prints \\'Hello, Portugal!\\'.\", \\'timestamp\\': \\'2025-08-29 15:12:04\\', \\'dependencies\\': []}, \\'r\\': None, \\'m\\': None}, {\\'n\\': {\\'description\\': [\\'TODO comment inside argument list of print statement leads to syntax error. Indicates incomplete implementation and poor code quality: unfinished code and lack of proper commenting. Recommended action: Move TODO comment out of code statement and complete feature for user-defined input.\\'], \\'location\\': \\'lines 1\\', \\'timestamp\\': \\'2025-08-29 15:15:00\\'}, \\'r\\': ({\\'description\\': [\\'TODO comment inside argument list of print statement leads to syntax error. Indicates incomplete implementation and poor code quality: unfinished code and lack of proper commenting. Recommended action: Move TODO comment out of code statement and complete feature for user-defined input.\\'], \\'location\\': \\'lines 1\\', \\'timestamp\\': \\'2025-08-29 15:15:00\\'}, \\'IdentifiedIn\\', {\\'timestamp\\': \\'2025-08-29 15:12:04\\'}), \\'m\\': {\\'timestamp\\': \\'2025-08-29 15:12:04\\'}}, {\\'n\\': {\\'timestamp\\': \\'2025-08-29 15:12:04\\'}, \\'r\\': ({\\'description\\': [\\'TODO comment inside argument list of print statement leads to syntax error. Indicates incomplete implementation and poor code quality: unfinished code and lack of proper commenting. Recommended action: Move TODO comment out of code statement and complete feature for user-defined input.\\'], \\'location\\': \\'lines 1\\', \\'timestamp\\': \\'2025-08-29 15:15:00\\'}, \\'IdentifiedIn\\', {\\'timestamp\\': \\'2025-08-29 15:12:04\\'}), \\'m\\': {\\'description\\': [\\'TODO comment inside argument list of print statement leads to syntax error. Indicates incomplete implementation and poor code quality: unfinished code and lack of proper commenting. Recommended action: Move TODO comment out of code statement and complete feature for user-defined input.\\'], \\'location\\': \\'lines 1\\', \\'timestamp\\': \\'2025-08-29 15:15:00\\'}}, {\\'n\\': {\\'loc\\': 9, \\'code\\': \\'def summarize_report(data: List[int]) -> Dict[str, float]:\\\\n    if not data:\\\\n        return {\"count\": 0, \"sum\": 0, \"mean\": None, \"median\": None, \"stdev\": None}\\\\n\\\\n    return {\\\\n        \"count\": len(data),\\\\n        \"sum\": calculate_sum(data),\\\\n        \"mean\": statistics.mean(data),\\\\n        \"median\": statistics.median(data),\\\\n        \"stdev\": statistics.stdev(data) if len(data) > 1 else 0.0\\\\n    }\\', \\'description\\': \\'Summarizes statistics for a given list of integers, returning a dictionary with count, sum, mean, median, and standard deviation.\\', \\'user_prompt\\': \\'Agent 1 has generated the following code:\\\\n          def summarize_report(data: List[int]) -> Dict[str, float]:\\\\n        if not data:\\\\n            return {\"count\": 0, \"sum\": 0, \"mean\": None, \"median\": None, \"stdev\": None}\\\\n\\\\n        return {\\\\n            \"count\": len(data),\\\\n            \"sum\": calculate_sum(data),\\\\n            \"mean\": statistics.mean(data),\\\\n            \"median\": statistics.median(data),\\\\n            \"stdev\": statistics.stdev(data) if len(data) > 1 else 0.0\\\\n        }\\', \\'timestamp\\': \\'2025-08-30 10:30:53\\', \\'dependencies\\': [\\'statistics\\', \\'calculate_sum\\', \\'len\\']}, \\'r\\': None, \\'m\\': None}, {\\'n\\': {\\'description\\': [\"Missing error handling for potential missing keys (\\'price\\', \\'quantity\\') in each item in the iteration within the calculate_total function (lines 1-6). This can lead to runtime exceptions and unhandled errors.\"], \\'location\\': \\'lines 1-6\\', \\'timestamp\\': \\'2025-08-30 10:37:00\\'}, \\'r\\': None, \\'m\\': None}]', type='ToolCallSummaryMessage', tool_calls=[FunctionCall(id='call_yzms1Kii3I35TfThGiGVbSSu', arguments='{}', name='get_graph_overview')], results=[FunctionExecutionResult(content='[{\\'n\\': {\\'loc\\': 9, \\'code\\': \\'def summarize_report(data: List[int]) -> Dict[str, float]:\\\\n    if not data:\\\\n        return {\"count\": 0, \"sum\": 0, \"mean\": None, \"median\": None, \"stdev\": None}\\\\n\\\\n    return {\\\\n        \"count\": len(data),\\\\n        \"sum\": calculate_sum(data),\\\\n        \"mean\": statistics.mean(data),\\\\n        \"median\": statistics.median(data),\\\\n        \"stdev\": statistics.stdev(data) if len(data) > 1 else 0.0\\\\n    }\\', \\'description\\': \\'Summarizes statistics for a given list of integers, returning a dictionary with count, sum, mean, median, and standard deviation.\\', \\'user_prompt\\': \\'Agent 1 has generated the following code: def summarize_report(data: List[int]) -> Dict[str, float]: ...\\', \\'timestamp\\': \\'2025-08-29 15:09:39\\', \\'dependencies\\': [\\'statistics\\', \\'calculate_sum\\', \\'len\\']}, \\'r\\': None, \\'m\\': None}, {\\'n\\': {\\'loc\\': 1, \\'code\\': \"print(\\'Hello, Portugal!\\')\", \\'description\\': \\'Prints a greeting to Portugal.\\', \\'user_prompt\\': \"Write Python code that prints \\'Hello, Portugal!\\'.\", \\'timestamp\\': \\'2025-08-29 15:12:04\\', \\'dependencies\\': []}, \\'r\\': None, \\'m\\': None}, {\\'n\\': {\\'description\\': [\\'TODO comment inside argument list of print statement leads to syntax error. Indicates incomplete implementation and poor code quality: unfinished code and lack of proper commenting. Recommended action: Move TODO comment out of code statement and complete feature for user-defined input.\\'], \\'location\\': \\'lines 1\\', \\'timestamp\\': \\'2025-08-29 15:15:00\\'}, \\'r\\': ({\\'description\\': [\\'TODO comment inside argument list of print statement leads to syntax error. Indicates incomplete implementation and poor code quality: unfinished code and lack of proper commenting. Recommended action: Move TODO comment out of code statement and complete feature for user-defined input.\\'], \\'location\\': \\'lines 1\\', \\'timestamp\\': \\'2025-08-29 15:15:00\\'}, \\'IdentifiedIn\\', {\\'timestamp\\': \\'2025-08-29 15:12:04\\'}), \\'m\\': {\\'timestamp\\': \\'2025-08-29 15:12:04\\'}}, {\\'n\\': {\\'timestamp\\': \\'2025-08-29 15:12:04\\'}, \\'r\\': ({\\'description\\': [\\'TODO comment inside argument list of print statement leads to syntax error. Indicates incomplete implementation and poor code quality: unfinished code and lack of proper commenting. Recommended action: Move TODO comment out of code statement and complete feature for user-defined input.\\'], \\'location\\': \\'lines 1\\', \\'timestamp\\': \\'2025-08-29 15:15:00\\'}, \\'IdentifiedIn\\', {\\'timestamp\\': \\'2025-08-29 15:12:04\\'}), \\'m\\': {\\'description\\': [\\'TODO comment inside argument list of print statement leads to syntax error. Indicates incomplete implementation and poor code quality: unfinished code and lack of proper commenting. Recommended action: Move TODO comment out of code statement and complete feature for user-defined input.\\'], \\'location\\': \\'lines 1\\', \\'timestamp\\': \\'2025-08-29 15:15:00\\'}}, {\\'n\\': {\\'loc\\': 9, \\'code\\': \\'def summarize_report(data: List[int]) -> Dict[str, float]:\\\\n    if not data:\\\\n        return {\"count\": 0, \"sum\": 0, \"mean\": None, \"median\": None, \"stdev\": None}\\\\n\\\\n    return {\\\\n        \"count\": len(data),\\\\n        \"sum\": calculate_sum(data),\\\\n        \"mean\": statistics.mean(data),\\\\n        \"median\": statistics.median(data),\\\\n        \"stdev\": statistics.stdev(data) if len(data) > 1 else 0.0\\\\n    }\\', \\'description\\': \\'Summarizes statistics for a given list of integers, returning a dictionary with count, sum, mean, median, and standard deviation.\\', \\'user_prompt\\': \\'Agent 1 has generated the following code:\\\\n          def summarize_report(data: List[int]) -> Dict[str, float]:\\\\n        if not data:\\\\n            return {\"count\": 0, \"sum\": 0, \"mean\": None, \"median\": None, \"stdev\": None}\\\\n\\\\n        return {\\\\n            \"count\": len(data),\\\\n            \"sum\": calculate_sum(data),\\\\n            \"mean\": statistics.mean(data),\\\\n            \"median\": statistics.median(data),\\\\n            \"stdev\": statistics.stdev(data) if len(data) > 1 else 0.0\\\\n        }\\', \\'timestamp\\': \\'2025-08-30 10:30:53\\', \\'dependencies\\': [\\'statistics\\', \\'calculate_sum\\', \\'len\\']}, \\'r\\': None, \\'m\\': None}, {\\'n\\': {\\'description\\': [\"Missing error handling for potential missing keys (\\'price\\', \\'quantity\\') in each item in the iteration within the calculate_total function (lines 1-6). This can lead to runtime exceptions and unhandled errors.\"], \\'location\\': \\'lines 1-6\\', \\'timestamp\\': \\'2025-08-30 10:37:00\\'}, \\'r\\': None, \\'m\\': None}]', name='get_graph_overview', call_id='call_yzms1Kii3I35TfThGiGVbSSu', is_error=False)]), ToolCallRequestEvent(id='2ad95563-a592-4546-a470-be273d615838', source='graph_operator_agent', models_usage=RequestUsage(prompt_tokens=2889, completion_tokens=98), metadata={}, created_at=datetime.datetime(2025, 8, 30, 8, 37, 7, 402743, tzinfo=datetime.timezone.utc), content=[FunctionCall(id='call_5UjiBh57w3VQibQOLLW0yoWc', arguments='{\"query\":\"CREATE (tdi:TechnicalDebtItem {timestamp: \\'2025-08-30 10:38:00\\', description: [\\'calculate_total function (lines 1-6) lacks error handling for missing keys (\\\\\\\\\\'price\\\\\\\\\\', \\\\\\\\\\'quantity\\\\\\\\\\') in the item dictionaries. This can cause runtime KeyError exceptions, as noted by the TODO comment.\\'], location: \\'lines 1-6\\'})\"}', name='run_query')], type='ToolCallRequestEvent'), ToolCallExecutionEvent(id='49f1315a-4767-436a-a838-620c04b41a03', source='graph_operator_agent', models_usage=None, metadata={}, created_at=datetime.datetime(2025, 8, 30, 8, 37, 7, 463944, tzinfo=datetime.timezone.utc), content=[FunctionExecutionResult(content='[]', name='run_query', call_id='call_5UjiBh57w3VQibQOLLW0yoWc', is_error=False)], type='ToolCallExecutionEvent'), TextMessage(id='b39a7836-031a-4574-b9a0-eddc8b5c45e7', source='graph_operator_agent', models_usage=RequestUsage(prompt_tokens=2996, completion_tokens=59), metadata={}, created_at=datetime.datetime(2025, 8, 30, 8, 37, 8, 625241, tzinfo=datetime.timezone.utc), content=\"The technical debt item regarding the lack of error handling for missing keys ('price', 'quantity') in the calculate_total function (lines 1-6), as indicated by the TODO comment and the risk of KeyError, has been recorded as a new TechnicalDebtItem node in the graph.\", type='TextMessage'), ToolCallExecutionEvent(id='9572155f-db6e-4eaf-8e83-4f60deef4cff', source='technical_debt_identifier', models_usage=None, metadata={}, created_at=datetime.datetime(2025, 8, 30, 8, 37, 8, 635894, tzinfo=datetime.timezone.utc), content=[FunctionExecutionResult(content=\"The technical debt item regarding the lack of error handling for missing keys ('price', 'quantity') in the calculate_total function (lines 1-6), as indicated by the TODO comment and the risk of KeyError, has been recorded as a new TechnicalDebtItem node in the graph.\", name='graph_operating_team', call_id='call_KJjMKbxK8kXkFVq2My4Qosnp', is_error=False)], type='ToolCallExecutionEvent'), ToolCallSummaryMessage(id='ef44b1b3-0966-43a1-9cd2-a9b7502f903d', source='technical_debt_identifier', models_usage=None, metadata={}, created_at=datetime.datetime(2025, 8, 30, 8, 37, 8, 639131, tzinfo=datetime.timezone.utc), content=\"The technical debt item regarding the lack of error handling for missing keys ('price', 'quantity') in the calculate_total function (lines 1-6), as indicated by the TODO comment and the risk of KeyError, has been recorded as a new TechnicalDebtItem node in the graph.\", type='ToolCallSummaryMessage', tool_calls=[FunctionCall(id='call_KJjMKbxK8kXkFVq2My4Qosnp', arguments='{\"task\":\"Technical debt identified: calculate_total function (lines 1-6) lacks error handling for missing keys (\\'price\\', \\'quantity\\') in the item dictionaries. This can cause runtime KeyError exceptions, as noted by the TODO comment.\"}', name='graph_operating_team')], results=[FunctionExecutionResult(content=\"The technical debt item regarding the lack of error handling for missing keys ('price', 'quantity') in the calculate_total function (lines 1-6), as indicated by the TODO comment and the risk of KeyError, has been recorded as a new TechnicalDebtItem node in the graph.\", name='graph_operating_team', call_id='call_KJjMKbxK8kXkFVq2My4Qosnp', is_error=False)])], stop_reason=None)"
            ]
          },
          "execution_count": 33,
          "metadata": {},
          "output_type": "execute_result"
        }
      ],
      "source": [
        "code_content = \"\"\"\n",
        "def calculate_total(items):\n",
        "    total = 0\n",
        "    for item in items:\n",
        "        total += item['price'] * item['quantity']\n",
        "    return total\n",
        "\n",
        "# TODO: Add error handling for missing keys\n",
        "\"\"\"\n",
        "\n",
        "await Console(monitored_td_identifier_agent.run_stream(task=f\"Generated code: {code_content}\"))"
      ]
    },
    {
      "cell_type": "markdown",
      "id": "fLGihRpgdwMr",
      "metadata": {
        "id": "fLGihRpgdwMr"
      },
      "source": [
        "Examples of items that could be vectorized for rag include scientific articles, websites containing enumerations and textual definitions and examples.\n",
        "\n",
        "\n",
        "Articles:\n",
        "https://www.sciencedirect.com/science/article/pii/S0950584915001743"
      ]
    },
    {
      "cell_type": "markdown",
      "id": "J33-7zu4KDPr",
      "metadata": {
        "id": "J33-7zu4KDPr"
      },
      "source": [
        "#### Agent Specialized in Giving Technical Debt Refactoring Suggestions\n",
        "\n"
      ]
    },
    {
      "cell_type": "markdown",
      "id": "FDNwBnLL3ppi",
      "metadata": {
        "id": "FDNwBnLL3ppi"
      },
      "source": [
        "This agent is responsible for providing suggestions on how to resolve the technical debt. In cases where the technical debt item is more complex, say it involves multiple files, giving the refactoring agent a suggestion as input in addition to the code can improve results. Examples of these types of technical debt items are cyclic dependencies involving several files or modules.\n",
        "\n",
        "This agent takes as input the code, in addition to the types, locations and descriptions of the previously identified technical debt items.\n",
        "\n",
        "What types of technical debt items comes to mind when we think of higher complexity?"
      ]
    },
    {
      "cell_type": "code",
      "execution_count": null,
      "id": "9BCp-B4vZ0Yd",
      "metadata": {
        "id": "9BCp-B4vZ0Yd"
      },
      "outputs": [],
      "source": [
        "class StructuredSuggestOutput(BaseModel):\n",
        "    suggested_fix: str"
      ]
    },
    {
      "cell_type": "code",
      "execution_count": null,
      "id": "CoePSqKYaRD8",
      "metadata": {
        "id": "CoePSqKYaRD8"
      },
      "outputs": [],
      "source": [
        "\n",
        "suggestion_agent = AssistantAgent(\n",
        "    name=\"Technical_debt_refactoring_suggestor\",\n",
        "    model_client=openai_model_client,\n",
        "    system_message=\"You are a software engineering assistant. Given a list of technical debt items, analyze each one and suggest practical, context-aware refactoring strategies to reduce complexity, improve maintainability, and align with best practices.\",\n",
        "    output_content_type=StructuredSuggestOutput,\n",
        ")"
      ]
    },
    {
      "cell_type": "code",
      "execution_count": null,
      "id": "lao7SSR7YrUH",
      "metadata": {
        "id": "lao7SSR7YrUH"
      },
      "outputs": [],
      "source": [
        "suggesting_result = await suggestion_agent.run(task=f\"Suggest refactoring for this code,:\\n\\n{code_content} to fix these technical debts \\n\\n{identified_debt}. Describe how a user should perform the refactoring.\")\n",
        "print(result)\n",
        "fix = result"
      ]
    },
    {
      "cell_type": "markdown",
      "id": "ZhlQholeZ1WY",
      "metadata": {
        "id": "ZhlQholeZ1WY"
      },
      "source": [
        "#### Agent Specialized in Performing Technical Debt Refactoring"
      ]
    },
    {
      "cell_type": "markdown",
      "id": "FwvV5oMg9y69",
      "metadata": {
        "id": "FwvV5oMg9y69"
      },
      "source": [
        "This agent focuses on refactoring recieved code. It takes as input the output of all previous agents, this being code, identified technical debt with description and location, as well as a suggestion for how to refactor the code. The output is the refactored code.\n",
        "\n",
        "To improve this agent we can decide to use an LLM specialized in writing code.\n",
        "\n",
        "What should be considered with this agent?\n",
        "  - How can we ensure that the output of this agent is properly formatted?\n",
        "      - Prompt engineering?\n",
        "      - Preloading?\n",
        "      - External guard rails?"
      ]
    },
    {
      "cell_type": "markdown",
      "id": "7MWkhkxKI1Hf",
      "metadata": {
        "id": "7MWkhkxKI1Hf"
      },
      "source": [
        "The code executor intends to execute code recieved by the testing agent, to confirm that it runs."
      ]
    },
    {
      "cell_type": "code",
      "execution_count": null,
      "id": "nIT3_tSyI0u1",
      "metadata": {
        "id": "nIT3_tSyI0u1"
      },
      "outputs": [],
      "source": []
    },
    {
      "cell_type": "code",
      "execution_count": null,
      "id": "rKPftqDNO6XW",
      "metadata": {
        "id": "rKPftqDNO6XW"
      },
      "outputs": [],
      "source": [
        "class StructuredRefactorOutput(BaseModel):\n",
        "    description_of_fix: str\n",
        "    refactored_code: str"
      ]
    },
    {
      "cell_type": "code",
      "execution_count": null,
      "id": "U_7aLF_AbAYx",
      "metadata": {
        "id": "U_7aLF_AbAYx"
      },
      "outputs": [],
      "source": [
        "refactoring_agent = AssistantAgent(\n",
        "    name=\"Technical_debt_refactoring_agent\",\n",
        "    model_client=openai_model_client,\n",
        "    system_message=\"Refactor given code based on provided suggestions.\",\n",
        "    output_content_type=StructuredRefactorOutput,\n",
        ")"
      ]
    },
    {
      "cell_type": "code",
      "execution_count": null,
      "id": "cB_o5m1jSw5_",
      "metadata": {
        "id": "cB_o5m1jSw5_"
      },
      "outputs": [],
      "source": [
        "refactoring_agent = AssistantAgent(\n",
        "    name=\"Technical_debt_refactoring_agent\",\n",
        "    model_client=openai_model_client,\n",
        "    system_message=\"\"\"You are responsible for refactoring code based on improvement suggestions provided by other agents.\n",
        "      Your goal is to rewrite the code in a cleaner, more efficient, and maintainable way while preserving its original functionality.\n",
        "      Carefully interpret the suggestions and apply them thoughtfully.\n",
        "      If the suggestions are unclear or incomplete, make reasonable assumptions and proceed.\n",
        "      Your output should be well-structured, readable, and ready for testing.\"\"\",\n",
        "    output_content_type=StructuredRefactorOutput,\n",
        ")"
      ]
    },
    {
      "cell_type": "markdown",
      "id": "B-CkIc7c8sqC",
      "metadata": {
        "id": "B-CkIc7c8sqC"
      },
      "source": []
    },
    {
      "cell_type": "code",
      "execution_count": null,
      "id": "3FwX3IyjYrkd",
      "metadata": {
        "id": "3FwX3IyjYrkd"
      },
      "outputs": [],
      "source": [
        "refactoring_result = await refactoring_agent.run(task=f\"Refactor this code,:\\n\\n{code_content} to fix this technical debt item \\n\\n{technical_debt_item} following this suggestion  \\n\\n{fix}. Provide both the description and the full code.\")\n",
        "print(result)"
      ]
    },
    {
      "cell_type": "markdown",
      "id": "5VLRY81JayQe",
      "metadata": {
        "id": "5VLRY81JayQe"
      },
      "source": [
        "#### *(Optional)* Agent Specialized in Performing Tests"
      ]
    },
    {
      "cell_type": "code",
      "execution_count": 62,
      "id": "UenO_aRifTfJ",
      "metadata": {
        "id": "UenO_aRifTfJ"
      },
      "outputs": [],
      "source": [
        "# Code Generator Version 1 : Generates tests and executes them\n",
        "\n",
        "jupyter_test_executor = JupyterCodeExecutor() # Code executor class, using nbclient\n",
        "# Agent that generates and executes tests \n",
        "test_generator_agent = CodeExecutorAgent(\n",
        "  name = \"test_generator_agent\",\n",
        "  code_executor = jupyter_test_executor,\n",
        "  model_client = openai_model_client,\n",
        "  system_message = \"\"\"Your name is test_generator_agent. You generate regression/unit tests, add them to the end of the code, make them executable by calling main(), and execute the code.\"\"\"\n",
        ")"
      ]
    },
    {
      "cell_type": "code",
      "execution_count": 65,
      "id": "975888eb",
      "metadata": {},
      "outputs": [],
      "source": [
        "# Code Generator Version 2 : Generates tests, executes, and is monitored.\n",
        "\n",
        "jupyter_test_executor = JupyterCodeExecutor() # Code executor class, using nbclient\n",
        "execute_code = PythonCodeExecutionTool(jupyter_test_executor) # Tool that executes Python code \n",
        "# Agent that generates and executes tests (monitored version)\n",
        "monitored_test_generator_agent = AssistantAgent(\"test_generator_agent\",\n",
        "                                      model_client = openai_model_client_no_parallel_calls,\n",
        "                                      tools=[execute_code, graph_tool],\n",
        "                                      system_message = \"\"\"Your name is test_generator_agent. You generate regression/unit tests, add them to the end of the code, make them executable by calling main(), execute the code, then call the graph_tool (always!):\n",
        "                                                          Remember to always call graph_tool to capture the test outcome in graph format. \"\"\"\n",
        ")"
      ]
    },
    {
      "cell_type": "code",
      "execution_count": 66,
      "id": "BeTuRPHWrpas",
      "metadata": {
        "id": "BeTuRPHWrpas"
      },
      "outputs": [
        {
          "name": "stdout",
          "output_type": "stream",
          "text": [
            "---------- TextMessage (user) ----------\n",
            "[Refactored code]: class DiscountPolicy:\n",
            "    def __init__(self, vip_rate=0.20, regular_rate=0.10):\n",
            "        self.vip_rate = vip_rate\n",
            "        self.regular_rate = regular_rate\n",
            "\n",
            "    def get_discount_rate(self, customer):\n",
            "        return self.vip_rate if customer.get(\"is_vip\", False) else self.regular_rate\n",
            "\n",
            "\n",
            "class OrderCalculator:\n",
            "    def __init__(self, discount_policy=None):\n",
            "        self.discount_policy = discount_policy or DiscountPolicy()\n",
            "\n",
            "    def calculate_total(self, order, customer):\n",
            "        subtotal = sum(item[\"price\"] * item[\"quantity\"] for item in order)\n",
            "        discount_rate = self.discount_policy.get_discount_rate(customer)\n",
            "        return subtotal * (1 - discount_rate)\n",
            "---------- ToolCallRequestEvent (test_generator_agent) ----------\n",
            "[FunctionCall(id='call_vyEX8XgzUvTUNtCE3Ux8nh1z', arguments='{\"code\":\"class DiscountPolicy:\\\\n    def __init__(self, vip_rate=0.20, regular_rate=0.10):\\\\n        self.vip_rate = vip_rate\\\\n        self.regular_rate = regular_rate\\\\n\\\\n    def get_discount_rate(self, customer):\\\\n        return self.vip_rate if customer.get(\\\\\"is_vip\\\\\", False) else self.regular_rate\\\\n\\\\n\\\\nclass OrderCalculator:\\\\n    def __init__(self, discount_policy=None):\\\\n        self.discount_policy = discount_policy or DiscountPolicy()\\\\n\\\\n    def calculate_total(self, order, customer):\\\\n        subtotal = sum(item[\\\\\"price\\\\\"] * item[\\\\\"quantity\\\\\"] for item in order)\\\\n        discount_rate = self.discount_policy.get_discount_rate(customer)\\\\n        return subtotal * (1 - discount_rate)\\\\n\\\\n# Unit tests for the classes above\\\\nimport math\\\\n\\\\ndef test_regular_customer_discount():\\\\n    calculator = OrderCalculator()\\\\n    order = [\\\\n        {\\\\\"price\\\\\": 10.0, \\\\\"quantity\\\\\": 2},\\\\n        {\\\\\"price\\\\\": 5.0, \\\\\"quantity\\\\\": 1}\\\\n    ]\\\\n    customer = {\\\\\"is_vip\\\\\": False}\\\\n    total = calculator.calculate_total(order, customer)\\\\n    expected = (10.0*2 + 5.0*1) * 0.9  # 10% discount\\\\n    assert math.isclose(total, expected, rel_tol=1e-9)\\\\n\\\\ndef test_vip_customer_discount():\\\\n    calculator = OrderCalculator()\\\\n    order = [\\\\n        {\\\\\"price\\\\\": 20.0, \\\\\"quantity\\\\\": 1},\\\\n        {\\\\\"price\\\\\": 5.0, \\\\\"quantity\\\\\": 4}\\\\n    ]\\\\n    customer = {\\\\\"is_vip\\\\\": True}\\\\n    total = calculator.calculate_total(order, customer)\\\\n    expected = (20.0*1 + 5.0*4) * 0.8  # 20% discount\\\\n    assert math.isclose(total, expected, rel_tol=1e-9)\\\\n\\\\ndef test_no_items():\\\\n    calculator = OrderCalculator()\\\\n    order = []\\\\n    customer = {\\\\\"is_vip\\\\\": True}\\\\n    total = calculator.calculate_total(order, customer)\\\\n    expected = 0.0\\\\n    assert math.isclose(total, expected, rel_tol=1e-9)\\\\n\\\\ndef test_custom_discount_policy():\\\\n    policy = DiscountPolicy(vip_rate=0.5, regular_rate=0.2)\\\\n    calculator = OrderCalculator(discount_policy=policy)\\\\n    order = [\\\\n        {\\\\\"price\\\\\": 15.0, \\\\\"quantity\\\\\": 2}\\\\n    ]\\\\n    customer_vip = {\\\\\"is_vip\\\\\": True}\\\\n    customer_regular = {\\\\\"is_vip\\\\\": False}\\\\n    total_vip = calculator.calculate_total(order, customer_vip)\\\\n    total_regular = calculator.calculate_total(order, customer_regular)\\\\n    expected_vip = (15.0*2) * 0.5  # 50% discount\\\\n    expected_regular = (15.0*2) * 0.8  # 20% discount\\\\n    assert math.isclose(total_vip, expected_vip, rel_tol=1e-9)\\\\n    assert math.isclose(total_regular, expected_regular, rel_tol=1e-9)\\\\n\\\\ndef test_missing_is_vip_key():\\\\n    calculator = OrderCalculator()\\\\n    order = [\\\\n        {\\\\\"price\\\\\": 8.0, \\\\\"quantity\\\\\": 3}\\\\n    ]\\\\n    customer = {}  # Should default to regular discount\\\\n    total = calculator.calculate_total(order, customer)\\\\n    expected = (8.0*3) * 0.9\\\\n    assert math.isclose(total, expected, rel_tol=1e-9)\\\\n\\\\n\\\\ndef main():\\\\n    test_regular_customer_discount()\\\\n    test_vip_customer_discount()\\\\n    test_no_items()\\\\n    test_custom_discount_policy()\\\\n    test_missing_is_vip_key()\\\\n    print(\\\\\"All tests passed.\\\\\")\\\\n\\\\nmain()\\\\n\"}', name='CodeExecutor')]\n",
            "---------- ToolCallExecutionEvent (test_generator_agent) ----------\n",
            "[FunctionExecutionResult(content='All tests passed.\\n', name='CodeExecutor', call_id='call_vyEX8XgzUvTUNtCE3Ux8nh1z', is_error=False)]\n",
            "---------- ToolCallSummaryMessage (test_generator_agent) ----------\n",
            "All tests passed.\n",
            "\n"
          ]
        }
      ],
      "source": [
        "# Test:\n",
        "test_task = \"\"\"[Refactored code]: class DiscountPolicy:\n",
        "    def __init__(self, vip_rate=0.20, regular_rate=0.10):\n",
        "        self.vip_rate = vip_rate\n",
        "        self.regular_rate = regular_rate\n",
        "\n",
        "    def get_discount_rate(self, customer):\n",
        "        return self.vip_rate if customer.get(\"is_vip\", False) else self.regular_rate\n",
        "\n",
        "\n",
        "class OrderCalculator:\n",
        "    def __init__(self, discount_policy=None):\n",
        "        self.discount_policy = discount_policy or DiscountPolicy()\n",
        "\n",
        "    def calculate_total(self, order, customer):\n",
        "        subtotal = sum(item[\"price\"] * item[\"quantity\"] for item in order)\n",
        "        discount_rate = self.discount_policy.get_discount_rate(customer)\n",
        "        return subtotal * (1 - discount_rate)\"\"\"\n",
        "\n",
        "await jupyter_test_executor.start()\n",
        "await Console(monitored_test_generator_agent.run_stream(task=test_task))\n",
        "await jupyter_test_executor.stop()"
      ]
    },
    {
      "cell_type": "markdown",
      "id": "9jXhb0tC_6tR",
      "metadata": {
        "id": "9jXhb0tC_6tR"
      },
      "source": [
        "For simplicity this agent will recieve a simple prompt asking it to evaluate the code created by the previous agents. Other possibilites include performing static analysis of the code by using tool calls in the testing agent, as well as by allowing it to call the CodeExecutor mentioned in the introductory section.\n",
        "\n",
        "Tasks:\n",
        "\n",
        " - Modify the prompt to Improve the output.\n",
        "    - How concise is the default response?\n",
        "    - Does it contain unneccessary information?\n",
        "    - Remember that the test output should be read by both humans and LLMs.\n",
        "\n",
        "  - Are there other modifications you could make to improve the agent?\n",
        "    - Output format?\n",
        "    - Hyperparameters?\n",
        "      - How much temperature would we want in this case?\n"
      ]
    },
    {
      "cell_type": "code",
      "execution_count": null,
      "id": "LlUBCI-Wa5YT",
      "metadata": {
        "id": "LlUBCI-Wa5YT"
      },
      "outputs": [],
      "source": [
        "class StructuredTestOutput(BaseModel):\n",
        "    evaluation: str\n",
        "    accepted: str"
      ]
    },
    {
      "cell_type": "code",
      "execution_count": null,
      "id": "k3Gw8v3uPw3T",
      "metadata": {
        "id": "k3Gw8v3uPw3T"
      },
      "outputs": [],
      "source": [
        "test_agent = AssistantAgent(\n",
        "    name=\"Test_agent\",\n",
        "    model_client=openai_model_client,\n",
        "    system_message=\"Evaluate the given code. Provide feedback on whether the refactoring was successful or if further changes are needed.\",\n",
        "     output_content_type=StructuredTestOutput,\n",
        ")"
      ]
    },
    {
      "cell_type": "code",
      "execution_count": null,
      "id": "ytTM9vyGXXHw",
      "metadata": {
        "id": "ytTM9vyGXXHw"
      },
      "outputs": [],
      "source": [
        "##Code for validating JSON structure in output from\n",
        "\n",
        "def validate_json_structure(data: dict) -> None:\n",
        "    \"\"\"\n",
        "    Validate the structure of the JSON data.\n",
        "\n",
        "    Args:\n",
        "        data (dict): The JSON data to validate\n",
        "\n",
        "    Raises:\n",
        "        JSONValidationError: If the JSON structure is invalid\n",
        "    \"\"\"\n",
        "    if not isinstance(data, dict):\n",
        "        raise Exception(\"Root element must be a dictionary\")\n",
        "\n",
        "    for commit_hash, entries in data.items():\n",
        "        if not isinstance(entries, list):\n",
        "            raise Exception(f\"Entries for commit {commit_hash} must be a list\")\n",
        "\n",
        "        for entry in entries:\n",
        "            if not isinstance(entry, dict):\n",
        "                raise Exception(f\"Each entry in commit {commit_hash} must be a dictionary\")\n",
        "\n",
        "            if 'technicalDebts' in entry and not isinstance(entry['technicalDebts'], list):\n",
        "                raise Exception(f\"technicalDebts in commit {commit_hash} must be a list\")"
      ]
    },
    {
      "cell_type": "markdown",
      "id": "4xHIFcwTSHf4",
      "metadata": {
        "id": "4xHIFcwTSHf4"
      },
      "source": [
        "### Team Setup"
      ]
    },
    {
      "cell_type": "markdown",
      "id": "e859f063",
      "metadata": {
        "id": "e859f063"
      },
      "source": [
        "Now we can create a selector group chat, to allow for more complex interactions between agents.\n",
        "\n",
        "Here, a selector agent will be created to allow for the code to be analysed until it has passed a test. The selector will make a choice depending on the output of th test agent, and will either pass the refactored code further or make the refactoring agent attempt another refactoring with further information from the test agent.\n",
        "\n",
        "The selector agent is a higher level API from the autogen library, and we could have implemented similar functionality by using other parts of the framework for a more custom solution.\n",
        "  - What would you change from this approach?\n",
        "  - What are the possible areas where the groupchat could fail?\n",
        "      - How would temperature affect the chat?\n",
        "  - In this example we use a candidate function to follow a predetermined flow. Would a less deterministic selection prompt be beneficial? Would a high or low temperature be most beneficial for this?"
      ]
    },
    {
      "cell_type": "code",
      "execution_count": null,
      "id": "pxvbPPVOpq2w",
      "metadata": {
        "id": "pxvbPPVOpq2w"
      },
      "outputs": [],
      "source": [
        "from autogen_agentchat.agents import AssistantAgent, UserProxyAgent\n",
        "from autogen_agentchat.teams import SelectorGroupChat\n",
        "from autogen_agentchat.conditions import MaxMessageTermination, TextMentionTermination\n",
        "from autogen_agentchat.messages import BaseAgentEvent, BaseChatMessage\n",
        "from typing import List, Sequence\n",
        "#from autogen_agentchat import GroupChatManager\n",
        "\n",
        "\n",
        "text_mention_termination = TextMentionTermination(\"TERMINATE\")\n",
        "max_messages_termination = MaxMessageTermination(max_messages=25)\n",
        "termination = text_mention_termination | max_messages_termination\n",
        "\n",
        "#model_client = OllamaChatCompletionClient(model=\"qwen3:0.6b\")\n",
        "model_client = openai_model_client\n",
        "\n",
        "\n",
        "planning_agent = AssistantAgent(\n",
        "    \"PlanningAgent\",\n",
        "    description=\"An agent for planning tasks, this agent should be the first to engage when given a new task.\",\n",
        "    model_client=model_client,\n",
        "    system_message=\"\"\"\n",
        "    You are a planning agent.\n",
        "    Your job is to break down complex tasks into smaller, manageable subtasks.\n",
        "    Your team members are:\n",
        "      Technical_debt_identifier: Identifies technical debt\n",
        "      Technical_debt_refactoring_suggestor: Creates suggestions for fixing identified technical debt\n",
        "      Technical_debt_refactoring_agent: Refactors code based on suggestions from the suggestor agent or feedback from the test agent\n",
        "      Test_agent: Analyses refactored code and decides whether or not it is approved.\n",
        "\n",
        "\n",
        "    You only plan and delegate tasks - you do not execute them yourself.\n",
        "\n",
        "    When assigning tasks, use this format:\n",
        "    1. <agent> : <task>\n",
        "\n",
        "    After all tasks are complete, summarize the findings and end with \"TERMINATE\".\n",
        "    \"\"\",\n",
        ")\n",
        "\n",
        "selector_prompt = \"\"\"You are coordinating a multi-agent workflow focused on identifying and resolving technical debt.\n",
        "\n",
        "Agent roles:\n",
        "{roles}\n",
        "\n",
        "Conversation history:\n",
        "{history}\n",
        "\n",
        "Based on the above context, select the most appropriate agent from {participants} to perform the next step in the workflow.\n",
        "\n",
        "Important:\n",
        "- Ensure that the Technical_debt_identifier has initiated the process before others proceed.\n",
        "- Follow the logical sequence: identification → suggestion → refactoring → testing → approval.\n",
        "- Only one agent should be selected at a time.\n",
        "\n",
        "Choose the agent best positioned to advance the current task.\n",
        "\"\"\"\n",
        "\n",
        "# Create the group chat\n",
        "team = SelectorGroupChat(\n",
        "    [planning_agent, debt_agent, suggestion_agent, refactoring_agent, test_agent],\n",
        "    model_client=model_client,\n",
        "    selector_prompt=selector_prompt,  # Default model-based selector,\n",
        "    allow_repeated_speaker=True,\n",
        "    termination_condition=termination\n",
        ")\n",
        "task = f\"Analyze the following code and identify technical debt:\\n\\n{code_content}. Then suggest a refactoring strategy and refactor the code.\"\n",
        "await Console(team.run_stream(task=task))\n",
        "\n",
        "#manager = GroupChatManager(groupchat=group_chat)\n",
        "\n",
        "# Entry point\n",
        "#user_proxy = UserProxyAgent(name=\"User\", code_execution_config=False)\n",
        "\n",
        "# Start the chat\n",
        "#user_proxy.initiate_chat(\n",
        "#    manager,\n",
        "#    message=\"Here's a piece of code. Can you help me review and improve it?\"\n",
        "#)"
      ]
    },
    {
      "cell_type": "code",
      "execution_count": null,
      "id": "Zc0kVC2bDr-v",
      "metadata": {
        "id": "Zc0kVC2bDr-v"
      },
      "outputs": [],
      "source": [
        "from autogen_agentchat.agents import AssistantAgent, UserProxyAgent\n",
        "from autogen_agentchat.teams import SelectorGroupChat\n",
        "from autogen_agentchat.conditions import MaxMessageTermination, TextMentionTermination\n",
        "from autogen_agentchat.messages import BaseAgentEvent, BaseChatMessage\n",
        "from typing import List, Sequence\n",
        "#from autogen_agentchat import GroupChatManager\n",
        "\n",
        "\n",
        "text_mention_termination = TextMentionTermination(\"TERMINATE\")\n",
        "max_messages_termination = MaxMessageTermination(max_messages=25)\n",
        "termination = text_mention_termination | max_messages_termination\n",
        "\n",
        "model_client = OllamaChatCompletionClient(model=\"qwen3:0.6b\")\n",
        "# Add openai client\n",
        "\n",
        "#Selector prompt not used in current version (candidate_func is used instead)\n",
        "selector_prompt = \"\"\"You are coordinating a multi-agent workflow focused on identifying and resolving technical debt.\n",
        "\n",
        "Agent roles:\n",
        "{roles}\n",
        "\n",
        "Conversation history:\n",
        "{history}\n",
        "\n",
        "Based on the above context, select the most appropriate agent from {participants} to perform the next step in the workflow.\n",
        "\n",
        "Important:\n",
        "- Ensure that the Technical_debt_identifier has initiated the process before others proceed.\n",
        "- Follow the logical sequence: identification → suggestion → refactoring → testing → approval.\n",
        "- Only one agent should be selected at a time.\n",
        "\n",
        "Choose the agent best positioned to advance the current task.\n",
        "\"\"\"\n",
        "\n",
        "# Candidate function to narrow down eligible agents#\n",
        "#def candidate_func(messages: List[BaseChatMessage], agents: List[AssistantAgent]) -> List[AssistantAgent]:\n",
        "def candidate_func(messages: Sequence[BaseAgentEvent | BaseChatMessage]) -> List[str]:\n",
        "    last_msg = messages[-1]\n",
        "    last_sender = messages[-1].source\n",
        "\n",
        "\n",
        "    if last_sender == \"user\":\n",
        "        return [debt_agent.name]\n",
        "    if last_sender == \"Technical_debt_identifier\":\n",
        "        return [suggestion_agent.name]\n",
        "    elif last_sender == \"Technical_debt_refactoring_suggestor\":\n",
        "        return [refactoring_agent.name]\n",
        "    elif last_sender == \"Technical_debt_refactoring_agent\":\n",
        "        return [test_agent.name]\n",
        "    elif last_sender == \"Test_agent\":\n",
        "        print(\"-------------------> last msg\",last_msg)\n",
        "        if \"approved\" in last_msg.accepted or \"looks good\" in last_msg.accepted or \"yes\" in last_msg.accepted:\n",
        "            return []  # Terminate\n",
        "        else:\n",
        "            return [refactoring_agent.name]  # Loop back for improvements\n",
        "    return agents  # Default fallback\n",
        "\n",
        "def candidate_func_adapter(thread) -> List[AssistantAgent]:\n",
        "    print(thread)\n",
        "    return candidate_func(thread.messages, thread.agents)\n",
        "\n",
        "\n",
        "# Create the group chat\n",
        "team = SelectorGroupChat(\n",
        "    [debt_agent, suggestion_agent, refactoring_agent, test_agent],\n",
        "    model_client=model_client,\n",
        "    #selector=WorkflowSelector(),\n",
        "    termination_condition=termination,\n",
        "    candidate_func=candidate_func,\n",
        ")\n",
        "# Create the group chat\n",
        "#group_chat = SelectorGroupChat(\n",
        "#    agents=[reviewer, fixer, tester],\n",
        "#    selector=select_speaker,  # Default model-based selector\n",
        "#    candidate_func=candidate_func,\n",
        "#    allow_repeat_speaker=False\n",
        "#)\n",
        "task = f\"Analyze the following code and identify technical debt:\\n\\n{code_content}. Then suggest a refactoring strategy and refactor the code.\"\n",
        "await Console(team.run_stream(task=task))\n",
        "\n",
        "#manager = GroupChatManager(groupchat=group_chat)\n",
        "\n",
        "# Entry point\n",
        "#user_proxy = UserProxyAgent(name=\"User\", code_execution_config=False)\n",
        "\n",
        "# Start the chat\n",
        "#user_proxy.initiate_chat(\n",
        "#    manager,\n",
        "#    message=\"Here's a piece of code. Can you help me review and improve it?\"\n",
        "#)"
      ]
    },
    {
      "cell_type": "markdown",
      "id": "7CEgSf0OYcJp",
      "metadata": {
        "id": "7CEgSf0OYcJp"
      },
      "source": [
        "## Part III. Task Resolution via Agentic Tool (~30 min)\n"
      ]
    },
    {
      "cell_type": "markdown",
      "id": "1c4fBIa7SPIU",
      "metadata": {
        "id": "1c4fBIa7SPIU"
      },
      "source": [
        "### Experiments"
      ]
    },
    {
      "cell_type": "markdown",
      "id": "hLUmGLDeS5Ns",
      "metadata": {
        "id": "hLUmGLDeS5Ns"
      },
      "source": [
        "## Ignore below\n"
      ]
    },
    {
      "cell_type": "code",
      "execution_count": null,
      "id": "-EdivjVDVtET",
      "metadata": {
        "id": "-EdivjVDVtET"
      },
      "outputs": [],
      "source": [
        "code_folder = \"codebase\"\n",
        "os.makedirs(code_folder, exist_ok=True)\n",
        "\n",
        "sample_file_path = os.path.join(code_folder, \"example.py\")\n",
        "with open(sample_file_path, \"w\") as f:\n",
        "    f.write(\"\"\"\n",
        "def calculate_total(items):\n",
        "    total = 0\n",
        "    for item in items:\n",
        "        total += item['price'] * item['quantity']\n",
        "    return total\n",
        "\n",
        "# TODO: Add error handling for missing keys\n",
        "\"\"\")\n",
        "\n",
        "with open(sample_file_path, \"r\") as f:\n",
        "    code_content = f.read()\n",
        "\n",
        "print(code_content)"
      ]
    },
    {
      "cell_type": "code",
      "execution_count": null,
      "id": "DmyenjquXcj1",
      "metadata": {
        "id": "DmyenjquXcj1"
      },
      "outputs": [],
      "source": [
        "# TODO : SEE WHAT WE DO WITH THIS - MAYBE ALSO ALLOW USER TO CHOOSE BETWEEN GENERATING CODE OR ADDING EXISTING REPO CONTENT\n",
        "\n",
        "from pydriller import Repository\n",
        "\n",
        "def analyze_modifications(commit, debts, debts_file, repo_url):\n",
        "    \"\"\"\n",
        "    The function will go thorugh each commit in the repository and analyze.\n",
        "\n",
        "    \"\"\"\n",
        "    for modification in commit.modified_files:\n",
        "        if not modification.source_code or not is_source_code(modification.new_path):\n",
        "            continue\n",
        "\n",
        "        print(\"Analyzing file: %s\", modification.new_path)\n",
        "        enumerated_content = enumerate_file(modification.source_code)\n",
        "        #Pass to starting point of agent interaction\n",
        "\n",
        "def analyze_commits(repo_url, begin_commit, end_commit, debts, debts_file):\n",
        "    \"\"\"\n",
        "    The function will iterate through the commits and fetch the changed content from the previous commit.\n",
        "\n",
        "    \"\"\"\n",
        "    commit_count = 0\n",
        "    for commit in Repository(repo_url, from_commit=begin_commit, to_commit=end_commit).traverse_commits():\n",
        "        print(\"Analyzing commit: %s\", commit.hash)\n",
        "        print(\"In the repo: %s\", repo_url)\n",
        "        commit_count += 1\n",
        "\n",
        "        analyze_modifications(commit, debts, debts_file, repo_url)"
      ]
    },
    {
      "cell_type": "code",
      "execution_count": null,
      "id": "p1RaLFE9PfvR",
      "metadata": {
        "id": "p1RaLFE9PfvR"
      },
      "outputs": [],
      "source": [
        "class SimpleDocumentIndexer:\n",
        "    \"\"\"Basic document indexer for AutoGen Memory.\"\"\"\n",
        "\n",
        "    def __init__(self, memory: Memory, chunk_size: int = 1500) -> None:\n",
        "        self.memory = memory\n",
        "        self.chunk_size = chunk_size\n",
        "\n",
        "    async def _fetch_content(self, source: str) -> str:\n",
        "        \"\"\"Fetch content from URL or file.\"\"\"\n",
        "        if source.startswith((\"http://\", \"https://\")):\n",
        "            async with aiohttp.ClientSession() as session:\n",
        "                async with session.get(source) as response:\n",
        "                    return await response.text()\n",
        "        else:\n",
        "            async with aiofiles.open(source, \"r\", encoding=\"utf-8\") as f:\n",
        "                return await f.read()\n",
        "\n",
        "    def _strip_html(self, text: str) -> str:\n",
        "        \"\"\"Remove HTML tags and normalize whitespace.\"\"\"\n",
        "        text = re.sub(r\"<[^>]*>\", \" \", text)\n",
        "        text = re.sub(r\"\\s+\", \" \", text)\n",
        "        return text.strip()\n",
        "\n",
        "    def _split_text(self, text: str) -> List[str]:\n",
        "        \"\"\"Split text into fixed-size chunks.\"\"\"\n",
        "        chunks: list[str] = []\n",
        "        # Just split text into fixed-size chunks\n",
        "        for i in range(0, len(text), self.chunk_size):\n",
        "            chunk = text[i : i + self.chunk_size]\n",
        "            chunks.append(chunk.strip())\n",
        "        return chunks\n",
        "\n",
        "    async def index_documents(self, sources: List[str]) -> int:\n",
        "        \"\"\"Index documents into memory.\"\"\"\n",
        "        total_chunks = 0\n",
        "\n",
        "        for source in sources:\n",
        "            try:\n",
        "                content = await self._fetch_content(source)\n",
        "\n",
        "                # Strip HTML if content appears to be HTML\n",
        "                if \"<\" in content and \">\" in content:\n",
        "                    content = self._strip_html(content)\n",
        "\n",
        "                chunks = self._split_text(content)\n",
        "\n",
        "                for i, chunk in enumerate(chunks):\n",
        "                    await self.memory.add(\n",
        "                        MemoryContent(\n",
        "                            content=chunk, mime_type=MemoryMimeType.TEXT, metadata={\"source\": source, \"chunk_index\": i}\n",
        "                        )\n",
        "                    )\n",
        "\n",
        "                total_chunks += len(chunks)\n",
        "\n",
        "            except Exception as e:\n",
        "                print(f\"Error indexing {source}: {str(e)}\")\n",
        "\n",
        "        return total_chunks"
      ]
    },
    {
      "cell_type": "code",
      "execution_count": null,
      "id": "R1ejn06kRN2R",
      "metadata": {
        "id": "R1ejn06kRN2R"
      },
      "outputs": [],
      "source": [
        "# Initialize vector memory\n",
        "rag_memory = ChromaDBVectorMemory(\n",
        "    config=PersistentChromaDBVectorMemoryConfig(\n",
        "        collection_name=\"technical_debt_docs\",\n",
        "        persistence_path=os.path.join(str(Path.home()), \".chromadb_autogen\"),\n",
        "        k=3,                  # Return top 3 results\n",
        "        score_threshold=0.4,  # Minimum similarity score\n",
        "    )\n",
        ")\n",
        "\n",
        "await rag_memory.clear()  # Clear existing memory\n",
        "\n",
        "\n",
        "# Index AutoGen documentation\n",
        "async def index_autogen_docs() -> None:\n",
        "    indexer = SimpleDocumentIndexer(memory=rag_memory)\n",
        "    sources = [\n",
        "        \"https://www.sciencedirect.com/science/article/pii/S0950584915001743\",\n",
        "    ]\n",
        "    chunks: int = await indexer.index_documents(sources)\n",
        "    print(f\"Indexed {chunks} chunks from {len(sources)} AutoGen documents\")\n",
        "\n",
        "\n",
        "await index_autogen_docs()"
      ]
    },
    {
      "cell_type": "markdown",
      "id": "dWibHNlBZCs7",
      "metadata": {
        "id": "dWibHNlBZCs7"
      },
      "source": [
        " **Duplicated code blocks**                      It refers to instances where the same or very similar code blocks appear in multiple locations within a software project. It can lead to maintenance challenges, as any change to the logic would need to be replicated across all instances to maintain consistency. It also increases the codebase size unnecessarily and can lead to bugs if the copies diverge over time. Refactoring to remove duplicated code, often by creating shared functions or classes, can reduce this debt, improving maintainability and reducing the potential for errors.\n",
        "\n",
        "  **Nested flow statements**                      It refers to situations where control structures like loops or conditional statements (e.g., for, while, if-else) are placed within one another, often to several levels of depth. This nesting can lead to code that is difficult to read, understand, and maintain. It can make debugging challenging and increase the risk of errors, as understanding the logic flow becomes more complex with each added level. Minimizing the depth of nesting improves code readability and maintainability, thereby reducing technical debt.    \n",
        "\n",
        " **Collapsible \"if\" statements**                 It refers to scenarios where multiple sequential \"if\" statements are nested inside the other but could be combined into a more streamlined and efficient conditional structure. This nesting often occurs when different conditions are checked in a series of \"if\" statements, which can be simplified by using logical operators (AND, OR) to combine these conditions into a single \"if\" statement. Reducing the number of nested \"if\" statements can enhance code readability and maintainability and reduce complexity.  \n",
        "                             \n",
        " **Long method/Complex Class**                  It refers to methods or classes in software that are overly long or complex. A method contains too many lines of code, or a class has too many responsibilities, violating principles like Single Responsibility and leading to code that's hard to understand, maintain, and test. Such methods or classes often encapsulate multiple functionalities, making them prone to bugs and difficult to modify. Simplifying these methods or breaking down complex classes into smaller, more cohesive units can enhance code readability and maintainability.  |"
      ]
    },
    {
      "cell_type": "code",
      "execution_count": null,
      "id": "9277d465",
      "metadata": {},
      "outputs": [],
      "source": [
        "# Code Generator Version 2 : Generates code, but executes on demand\n",
        "# Code executor class, executes code using nbclient\n",
        "jupyter_code_executor = JupyterCodeExecutor()\n",
        "\n",
        "# Tool that executes Python code in a code executor and returns output.\n",
        "execute_code = PythonCodeExecutionTool(jupyter_code_executor)\n",
        "\n",
        "# Agent that generates code, and can use tool to execute it, if requested.\n",
        "code_generator_agent = AssistantAgent(\"code_generator_agent\",\n",
        "                                      model_client = openai_model_client,\n",
        "                                      tools=[execute_code],\n",
        "                                      system_message = \"\"\"Your name is code_generator_agent.\n",
        "                                                          Your role is to generate Python code and shell scripts based on user instructions.\n",
        "                                                          Python code should be provided in ```python code blocks, and sh shell scripts should be provided in ```sh code blocks for execution.\n",
        "                                                          You are also able to execute code using the execute_code tool. Only execute code if requested. \"\"\")"
      ]
    }
  ],
  "metadata": {
    "colab": {
      "provenance": [],
      "toc_visible": true
    },
    "kernelspec": {
      "display_name": "workshop_env",
      "language": "python",
      "name": "python3"
    },
    "language_info": {
      "codemirror_mode": {
        "name": "ipython",
        "version": 3
      },
      "file_extension": ".py",
      "mimetype": "text/x-python",
      "name": "python",
      "nbconvert_exporter": "python",
      "pygments_lexer": "ipython3",
      "version": "3.10.18"
    }
  },
  "nbformat": 4,
  "nbformat_minor": 5
}
